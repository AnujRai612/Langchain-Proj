{
 "cells": [
  {
   "cell_type": "code",
   "execution_count": 7,
   "id": "6fe5ee97",
   "metadata": {},
   "outputs": [],
   "source": [
    "import os\n",
    "from dotenv import load_dotenv"
   ]
  },
  {
   "cell_type": "code",
   "execution_count": 8,
   "id": "669c4e14",
   "metadata": {},
   "outputs": [],
   "source": [
    "load_dotenv()\n",
    "GROQ_API_KEY=os.getenv(\"GROQ_API_KEY\")\n"
   ]
  },
  {
   "cell_type": "code",
   "execution_count": 9,
   "id": "d4682093",
   "metadata": {},
   "outputs": [],
   "source": [
    "os.environ[\"GROQ_API_KEY\"]=GROQ_API_KEY"
   ]
  },
  {
   "cell_type": "code",
   "execution_count": 10,
   "id": "e8be5faa",
   "metadata": {},
   "outputs": [],
   "source": [
    "#Loading the PDF data\n",
    "from langchain.document_loaders import PyPDFLoader"
   ]
  },
  {
   "cell_type": "code",
   "execution_count": 11,
   "id": "6cb95754",
   "metadata": {},
   "outputs": [
    {
     "data": {
      "text/plain": [
       "'/Users/anujrai/Desktop/AI/Langchain-Proj/research'"
      ]
     },
     "execution_count": 11,
     "metadata": {},
     "output_type": "execute_result"
    }
   ],
   "source": [
    "%pwd"
   ]
  },
  {
   "cell_type": "code",
   "execution_count": 12,
   "id": "6f6eaac1",
   "metadata": {},
   "outputs": [
    {
     "name": "stdout",
     "output_type": "stream",
     "text": [
      "/Users/anujrai/Desktop/AI/Langchain-Proj\n"
     ]
    }
   ],
   "source": [
    "%cd .."
   ]
  },
  {
   "cell_type": "code",
   "execution_count": 13,
   "id": "04349747",
   "metadata": {},
   "outputs": [
    {
     "data": {
      "text/plain": [
       "'/Users/anujrai/Desktop/AI/Langchain-Proj'"
      ]
     },
     "execution_count": 13,
     "metadata": {},
     "output_type": "execute_result"
    }
   ],
   "source": [
    "%pwd"
   ]
  },
  {
   "cell_type": "code",
   "execution_count": 14,
   "id": "00f9fc96",
   "metadata": {},
   "outputs": [],
   "source": [
    "file_path=\"data/SDG.pdf\"\n",
    "loader = PyPDFLoader(file_path)\n",
    "data=loader.load()"
   ]
  },
  {
   "cell_type": "code",
   "execution_count": 15,
   "id": "21ba1ca1",
   "metadata": {},
   "outputs": [
    {
     "data": {
      "text/plain": [
       "[Document(metadata={'producer': 'Microsoft: Print To PDF', 'creator': 'PyPDF', 'creationdate': '2020-09-15T15:08:34-04:00', 'author': 'Susana.Castillo', 'moddate': '2020-09-15T15:08:34-04:00', 'title': 'sdgs_targets_overview_resource.pdf', 'source': 'data/SDG.pdf', 'total_pages': 19, 'page': 0, 'page_label': '1'}, page_content='4th SDG Y outh Summer Camp – SDG Resource Document The 2030 Agenda for Sustainable Development’s 17 Sustainable Development Goals (SDGs)   Goal: This document enables 4th SDG Youth Summer Camp participants to i) get to know the 17 SDGs, ii) explore what areas each goal covers under its targets, iii) identify targets of most interest to participants, and iv) identify synergies between the SDGs and chosen target(s).    Goal 1. End poverty in all its forms everywhere  Target 1.1 By 2030, eradicate extreme poverty for all people everywhere, currently measured as people living on less than $1.25 a day  Target 1.2 By 2030, reduce at least by half the proportion of men, women and children of all ages living in poverty in all its dimensions according to national definitions  Target 1.3 Implement nationally appropriate social protection systems and measures for all, including floors, and by 2030 achieve substantial coverage of the poor and the vulnerable  Target 1.4 By 2030, ensure that all men and women, in particular the poor and the vulnerable, have equal rights to economic resources, as well as access to basic services, ownership and control over land and other forms of property, inheritance, natural resources, appropriate new technology and financial services, including microfinance  Target 1.5 By 2030, build the resilience of the poor and those in vulnerable situations and reduce their exposure and vulnerability to climate-related extreme events and other economic, social and environmental shocks and disasters  Target 1.a Ensure significant mobilization of resources from a variety of sources, including through enhanced development cooperation, in order to provide adequate and predictable means for developing countries, in particular least developed countries, to implement programmes and policies to end poverty in all its dimensions  Target 1.b Create sound policy frameworks at the national, regional and international levels, based on pro-poor and gender-sensitive development strategies, to support accelerated investment in poverty eradication actions'),\n",
       " Document(metadata={'producer': 'Microsoft: Print To PDF', 'creator': 'PyPDF', 'creationdate': '2020-09-15T15:08:34-04:00', 'author': 'Susana.Castillo', 'moddate': '2020-09-15T15:08:34-04:00', 'title': 'sdgs_targets_overview_resource.pdf', 'source': 'data/SDG.pdf', 'total_pages': 19, 'page': 1, 'page_label': '2'}, page_content='Goal 2. End hunger, achieve food security and improved nutrition and promote sustainable agriculture  Target 2.1 By 2030, end hunger and ensure access by all people, in particular the poor and people in vulnerable situations, including infants, to safe, nutritious and sufficient food all year round  Target 2.2 By 2030, end all forms of malnutrition, including achieving, by 2025, the internationally agreed targets on stunting and wasting in children under 5 years of age, and address the nutritional needs of adolescent girls, pregnant and lactating women and older persons  Target 2.3 By 2030, double the agricultural productivity and incomes of small-scale food producers, in particular women, indigenous peoples, family farmers, pastoralists and fishers, including through secure and equal access to land, other productive resources and inputs, knowledge, financial services, markets and opportunities for value addition and non-farm employment  Target 2.4 By 2030, ensure sustainable food production systems and implement resilient agricultural practices that increase productivity and production, that help maintain ecosystems, that strengthen capacity for adaptation to climate change, extreme weather, drought, flooding and other disasters and that progressively improve land and soil quality  Target 2.5 By 2020, maintain the genetic diversity of seeds, cultivated plants and farmed and domesticated animals and their related wild species, including through soundly A/RES/70/1 Transforming our world: the 2030 Agenda for Sustainable Development 16/35 managed and diversified seed and plant banks at the national, regional and international levels, and promote access to and fair and equitable sharing of benefits arising from the utilization of genetic resources and associated traditional knowledge, as internationally agreed  Target 2.a Increase investment, including through enhanced international cooperation, in rural infrastructure, agricultural research and extension services, technology development and plant and livestock gene banks in order to enhance agricultural productive capacity in developing countries, in particular least developed countries  Target 2.b Correct and prevent trade restrictions and distortions in world agricultural markets, including through the parallel elimination of all forms of agricultural export subsidies and all export measures with equivalent effect, in accordance with the mandate of the Doha Development Round  Target 2.c Adopt measures to ensure the proper functioning of food commodity markets and their derivatives and facilitate timely access to market information, including on food reserves, in order to help limit extreme food price volatility'),\n",
       " Document(metadata={'producer': 'Microsoft: Print To PDF', 'creator': 'PyPDF', 'creationdate': '2020-09-15T15:08:34-04:00', 'author': 'Susana.Castillo', 'moddate': '2020-09-15T15:08:34-04:00', 'title': 'sdgs_targets_overview_resource.pdf', 'source': 'data/SDG.pdf', 'total_pages': 19, 'page': 2, 'page_label': '3'}, page_content='Goal 3. Ensure healthy lives and promote well-being for all at all ages  Target 3.1 By 2030, reduce the global maternal mortality ratio to less than 70 per 100,000 live births  Target 3.2 By 2030, end preventable deaths of newborns and children under 5 years of age, with all countries aiming to reduce neonatal mortality to at least as low as 12 per 1,000 live births and under-5 mortality to at least as low as 25 per 1,000 live births  Target 3.3 By 2030, end the epidemics of AIDS, tuberculosis, malaria and neglected tropical diseases and combat hepatitis, water-borne diseases and other communicable diseases  Target 3.4 By 2030, reduce by one third premature mortality from non-communicable diseases through prevention and treatment and promote mental health and wellbeing  Target 3.5 Strengthen the prevention and treatment of substance abuse, including narcotic drug abuse and harmful use of alcohol  Target 3.6 By 2020, halve the number of global deaths and injuries from road traffic accidents  Target 3.7 By 2030, ensure universal access to sexual and reproductive health-care services, including for family planning, information and education, and the integration of reproductive health into national strategies and programmes  Target 3.8 Achieve universal health coverage, including financial risk protection, access to quality essential health-care services and access to safe, effective, quality and affordable essential medicines and vaccines for all  Target 3.9 By 2030, substantially reduce the number of deaths and illnesses from hazardous chemicals and air, water and soil pollution and contamination  Target 3.a Strengthen the implementation of the World Health Organization Framework Convention on Tobacco Control in all countries, as appropriate  Target 3.b Support the research and development of vaccines and medicines for the communicable and non-communicable diseases that primarily affect developing Transforming our world: the 2030 Agenda for Sustainable Development A/RES/70/1 17/35 countries, provide access to affordable essential medicines and vaccines, in accordance with the Doha Declaration on the TRIPS Agreement and Public Health, which affirms the right of developing countries to use to the full the provisions in the Agreement on Trade-Related Aspects of Intellectual Property Rights regarding flexibilities to protect public health, and, in particular, provide access to medicines for all  Target 3.c Substantially increase health financing and the recruitment, development, training and retention of the health workforce in developing countries, especially in least developed countries and small island developing States  Target 3.d Strengthen the capacity of all countries, in particular developing countries, for early warning, risk reduction and management of national and global health risks'),\n",
       " Document(metadata={'producer': 'Microsoft: Print To PDF', 'creator': 'PyPDF', 'creationdate': '2020-09-15T15:08:34-04:00', 'author': 'Susana.Castillo', 'moddate': '2020-09-15T15:08:34-04:00', 'title': 'sdgs_targets_overview_resource.pdf', 'source': 'data/SDG.pdf', 'total_pages': 19, 'page': 3, 'page_label': '4'}, page_content='Goal 4. Ensure inclusive and equitable quality education and promote lifelong learning opportunities for all  Target 4.1 By 2030, ensure that all girls and boys complete free, equitable and quality primary and secondary education leading to relevant and effective learning outcomes  Target 4.2 By 2030, ensure that all girls and boys have access to quality early childhood development, care and pre-primary education so that they are ready for primary education  Target 4.3 By 2030, ensure equal access for all women and men to affordable and quality technical, vocational and tertiary education, including university  Target 4.4 By 2030, substantially increase the number of youth and adults who have relevant skills, including technical and vocational skills, for employment, decent jobs and entrepreneurship  Target 4.5 By 2030, eliminate gender disparities in education and ensure equal access to all levels of education and vocational training for the vulnerable, including persons with disabilities, indigenous peoples and children in vulnerable situations  Target 4.6 By 2030, ensure that all youth and a substantial proportion of adults, both men and women, achieve literacy and numeracy  Target 4.7 By 2030, ensure that all learners acquire the knowledge and skills needed to promote sustainable development, including, among others, through education for sustainable development and sustainable lifestyles, human rights, gender equality, promotion of a culture of peace and non-violence, global citizenship and appreciation of cultural diversity and of culture’s contribution to sustainable development  Target 4.a Build and upgrade education facilities that are child, disability and gender sensitive and provide safe, non-violent, inclusive and effective learning environments for all Target 4.b By 2020, substantially expand globally the number of scholarships available to developing countries, in particular least developed countries, small island developing States and African countries, for enrolment in higher education, including vocational training and information and communications technology, technical, engineering and scientific programmes, in developed countries and other developing countries  Target 4.c By 2030, substantially increase the supply of qualified teachers, including through international cooperation for teacher training in developing countries, especially least developed countries and small island developing States A/RES/70/1 Transforming our world: the 2030 Agenda for Sustainable Development 18/35'),\n",
       " Document(metadata={'producer': 'Microsoft: Print To PDF', 'creator': 'PyPDF', 'creationdate': '2020-09-15T15:08:34-04:00', 'author': 'Susana.Castillo', 'moddate': '2020-09-15T15:08:34-04:00', 'title': 'sdgs_targets_overview_resource.pdf', 'source': 'data/SDG.pdf', 'total_pages': 19, 'page': 4, 'page_label': '5'}, page_content='Goal 5. Achieve gender equality and empower all women and girls  Target 5.1 End all forms of discrimination against all women and girls everywhere  Target 5.2 Eliminate all forms of violence against all women and girls in the public and private spheres, including trafficking and sexual and other types of exploitation  Target 5.3 Eliminate all harmful practices, such as child, early and forced marriage and female genital mutilation  Target 5.4 Recognize and value unpaid care and domestic work through the provision of public services, infrastructure and social protection policies and the promotion of shared responsibility within the household and the family as nationally appropriate  Target 5.5 Ensure women’s full and effective participation and equal opportunities for leadership at all levels of decision-making in political, economic and public life  Target 5.6 Ensure universal access to sexual and reproductive health and reproductive rights as agreed in accordance with the Programme of Action of the International Conference on Population and Development and the Beijing Platform for Action and the outcome documents of their review conferences  Target 5.a Undertake reforms to give women equal rights to economic resources, as well as access to ownership and control over land and other forms of property, financial services, inheritance and natural resources, in accordance with national laws  Target 5.b Enhance the use of enabling technology, in particular information and communications technology, to promote the empowerment of women  Target 5.c Adopt and strengthen sound policies and enforceable legislation for the promotion of gender equality and the empowerment of all women and girls at all levels'),\n",
       " Document(metadata={'producer': 'Microsoft: Print To PDF', 'creator': 'PyPDF', 'creationdate': '2020-09-15T15:08:34-04:00', 'author': 'Susana.Castillo', 'moddate': '2020-09-15T15:08:34-04:00', 'title': 'sdgs_targets_overview_resource.pdf', 'source': 'data/SDG.pdf', 'total_pages': 19, 'page': 5, 'page_label': '6'}, page_content='Goal 6. Ensure availability and sustainable management of water and sanitation for all  Target 6.1 By 2030, achieve universal and equitable access to safe and affordable drinking water for all  Target 6.2 By 2030, achieve access to adequate and equitable sanitation and hygiene for all and end open defecation, paying special attention to the needs of women and girls and those in vulnerable situations  Target 6.3 By 2030, improve water quality by reducing pollution, eliminating dumping and minimizing release of hazardous chemicals and materials, halving the proportion of untreated wastewater and substantially increasing recycling and safe reuse globally  Target 6.4 By 2030, substantially increase water-use efficiency across all sectors and ensure sustainable withdrawals and supply of freshwater to address water scarcity and substantially reduce the number of people suffering from water scarcity  Target 6.5 By 2030, implement integrated water resources management at all levels, including through transboundary cooperation as appropriate  Target 6.6 By 2020, protect and restore water-related ecosystems, including mountains, forests, wetlands, rivers, aquifers and lakes Transforming our world: the 2030 Agenda for Sustainable Development A/RES/70/1 19/35  Target 6.a By 2030, expand international cooperation and capacity-building support to developing countries in water- and sanitation-related activities and programmes, including water harvesting, desalination, water efficiency, wastewater treatment, recycling and reuse technologies  Target 6.b Support and strengthen the participation of local communities in improving water and sanitation management'),\n",
       " Document(metadata={'producer': 'Microsoft: Print To PDF', 'creator': 'PyPDF', 'creationdate': '2020-09-15T15:08:34-04:00', 'author': 'Susana.Castillo', 'moddate': '2020-09-15T15:08:34-04:00', 'title': 'sdgs_targets_overview_resource.pdf', 'source': 'data/SDG.pdf', 'total_pages': 19, 'page': 6, 'page_label': '7'}, page_content='Goal 7. Ensure access to affordable, reliable, sustainable and modern energy for all  Target 7.1 By 2030, ensure universal access to affordable, reliable and modern energy services  Target 7.2 By 2030, increase substantially the share of renewable energy in the global energy mix  Target 7.3 By 2030, double the global rate of improvement in energy efficiency  Target 7.a By 2030, enhance international cooperation to facilitate access to clean energy research and technology, including renewable energy, energy efficiency and advanced and cleaner fossil-fuel technology, and promote investment in energy infrastructure and clean energy technology  Target 7.b By 2030, expand infrastructure and upgrade technology for supplying modern and sustainable energy services for all in developing countries, in particular least developed countries, small island developing States and landlocked developing countries, in accordance with their respective programmes of support'),\n",
       " Document(metadata={'producer': 'Microsoft: Print To PDF', 'creator': 'PyPDF', 'creationdate': '2020-09-15T15:08:34-04:00', 'author': 'Susana.Castillo', 'moddate': '2020-09-15T15:08:34-04:00', 'title': 'sdgs_targets_overview_resource.pdf', 'source': 'data/SDG.pdf', 'total_pages': 19, 'page': 7, 'page_label': '8'}, page_content='Goal 8. Promote sustained, inclusive and sustainable economic growth, full and productive employment and decent work for all  Target 8.1 Sustain per capita economic growth in accordance with national circumstances and, in particular, at least 7 per cent gross domestic product growth per annum in the least developed countries  Target 8.2 Achieve higher levels of economic productivity through diversification, technological upgrading and innovation, including through a focus on high-value added and labour-intensive sectors  Target 8.3 Promote development-oriented policies that support productive activities, decent job creation, entrepreneurship, creativity and innovation, and encourage the formalization and growth of micro-, small- and medium-sized enterprises, including through access to financial services  Target 8.4 Improve progressively, through 2030, global resource efficiency in consumption and production and endeavour to decouple economic growth from environmental degradation, in accordance with the 10-Year Framework of Programmes on Sustainable Consumption and Production, with developed countries taking the lead  Target 8.5 By 2030, achieve full and productive employment and decent work for all women and men, including for young people and persons with disabilities, and equal pay for work of equal value  Target 8.6 By 2020, substantially reduce the proportion of youth not in employment, education or training A/RES/70/1 Transforming our world: the 2030 Agenda for Sustainable Development 20/35  Target 8.7 Take immediate and effective measures to eradicate forced labour, end modern slavery and human trafficking and secure the prohibition and elimination of the worst forms of child labour, including recruitment and use of child soldiers, and by 2025 end child labour in all its forms  Target 8.8 Protect labour rights and promote safe and secure working environments for all workers, including migrant workers, in particular women migrants, and those in precarious employment  Target 8.9 By 2030, devise and implement policies to promote sustainable tourism that creates jobs and promotes local culture and products  Target 8.10 Strengthen the capacity of domestic financial institutions to encourage and expand access to banking, insurance and financial services for all  Target 8.a Increase Aid for Trade support for developing countries, in particular least developed countries, including through the Enhanced Integrated Framework for Trade-related Technical Assistance to Least Developed Countries'),\n",
       " Document(metadata={'producer': 'Microsoft: Print To PDF', 'creator': 'PyPDF', 'creationdate': '2020-09-15T15:08:34-04:00', 'author': 'Susana.Castillo', 'moddate': '2020-09-15T15:08:34-04:00', 'title': 'sdgs_targets_overview_resource.pdf', 'source': 'data/SDG.pdf', 'total_pages': 19, 'page': 8, 'page_label': '9'}, page_content='Target 8.b By 2020, develop and operationalize a global strategy for youth employment and implement the Global Jobs Pact of the International Labour Organization'),\n",
       " Document(metadata={'producer': 'Microsoft: Print To PDF', 'creator': 'PyPDF', 'creationdate': '2020-09-15T15:08:34-04:00', 'author': 'Susana.Castillo', 'moddate': '2020-09-15T15:08:34-04:00', 'title': 'sdgs_targets_overview_resource.pdf', 'source': 'data/SDG.pdf', 'total_pages': 19, 'page': 9, 'page_label': '10'}, page_content='Goal 9. Build resilient infrastructure, promote inclusive and sustainable industrialization and foster innovation  Target 9.1 Develop quality, reliable, sustainable and resilient infrastructure, including regional and transborder infrastructure, to support economic development and human well-being, with a focus on affordable and equitable access for all Target 9.2 Promote inclusive and sustainable industrialization and, by 2030, significantly raise industry’s share of employment and gross domestic product, in line with national circumstances, and double its share in least developed countries  Target 9.3 Increase the access of small-scale industrial and other enterprises, in particular in developing countries, to financial services,including affordable credit, and their integration into value chains and markets  Target 9.4 By 2030, upgrade infrastructure and retrofit industries to make them sustainable, with increased resource-use efficiency and greater adoption of clean and environmentally sound technologies and industrial processes, with all countries taking action in accordance with their respective capabilities  Target 9.5 Enhance scientific research, upgrade the technological capabilities of industrial sectors in all countries, in particular developing countries, including, by 2030, encouraging innovation and substantially increasing the number of research and development workers per 1 million people and public and private research and development spending  Target 9.a Facilitate sustainable and resilient infrastructure development in developing countries through enhanced financial, technological and technical support to African countries, least developed countries, landlocked developing countries and small island developing States  Target 9.b Support domestic technology development, research and innovation in developing countries, including by ensuring a conducive policy environment for, inter alia, industrial diversification and value addition to commodities Transforming our world: the 2030 Agenda for Sustainable Development A/RES/70/1 21/35  Target 9.c Significantly increase access to information and communications technology and strive to provide universal and affordable access to the Internet in least developed countries by 2020'),\n",
       " Document(metadata={'producer': 'Microsoft: Print To PDF', 'creator': 'PyPDF', 'creationdate': '2020-09-15T15:08:34-04:00', 'author': 'Susana.Castillo', 'moddate': '2020-09-15T15:08:34-04:00', 'title': 'sdgs_targets_overview_resource.pdf', 'source': 'data/SDG.pdf', 'total_pages': 19, 'page': 10, 'page_label': '11'}, page_content='Goal 10. Reduce inequality within and among countries Target 10.1By 2030, progressively achieve and sustain income growth of the bottom 40 per cent of the population at a rate higher than the national average  Target 10.2 By 2030, empower and promote the social, economic and political inclusion of all, irrespective of age, sex, disability, race, ethnicity, origin, religion or economic or other status  Target 10.3 Ensure equal opportunity and reduce inequalities of outcome, including by eliminating discriminatory laws, policies and practices and promoting appropriate legislation, policies and action in this regard  Target 10.4 Adopt policies, especially fiscal, wage and social protection policies, and progressively achieve greater equality  Target 10.5 Improve the regulation and monitoring of global financial markets and institutions and strengthen the implementation of such regulations  Target 10.6 Ensure enhanced representation and voice for developing countries in decision-making in global international economic and financial institutions in order to deliver more effective, credible, accountable and legitimate institutions  Target 10.7 Facilitate orderly, safe, regular and responsible migration and mobility of people, including through the implementation of planned and well-managed migration policies  Target 10.a Implement the principle of special and differential treatment for developing countries, in particular least developed countries, in accordance with World Trade Organization agreements  Target 10.b Encourage official development assistance and financial flows, including foreign direct investment, to States where the need is greatest, in particular least developed countries, African countries, small island developing States and landlocked developing countries, in accordance with their national plans and programmes  Target 10.c By 2030, reduce to less than 3 per cent the transaction costs of migrant remittances and eliminate remittance corridors with costs higher than 5 percent'),\n",
       " Document(metadata={'producer': 'Microsoft: Print To PDF', 'creator': 'PyPDF', 'creationdate': '2020-09-15T15:08:34-04:00', 'author': 'Susana.Castillo', 'moddate': '2020-09-15T15:08:34-04:00', 'title': 'sdgs_targets_overview_resource.pdf', 'source': 'data/SDG.pdf', 'total_pages': 19, 'page': 11, 'page_label': '12'}, page_content='Goal 11. Make cities and human settlements inclusive, safe, resilient and sustainable  Target 11.1 By 2030, ensure access for all to adequate, safe and affordable housing and basic services and upgrade slums  Target 11.2 By 2030, provide access to safe, affordable, accessible and sustainable transport systems for all, improving road safety, notably by expanding public transport, with special attention to the needs of those in vulnerable situations, women, children, persons with disabilities and older persons  Target 11.3 By 2030, enhance inclusive and sustainable urbanization and capacity for participatory, integrated and sustainable human settlement planning and management in all countries Target 11.4 Strengthen efforts to protect and safeguard the world’s cultural and natural heritage  Target 11.5 By 2030, significantly reduce the number of deaths and the number of people affected and substantially decrease the direct economic losses relative to global gross domestic product caused by disasters, including water-related disasters, with a focus on protecting the poor and people in vulnerable situations  Target 11.6 By 2030, reduce the adverse per capita environmental impact of cities, including by paying special attention to air quality and municipal and other waste management  Target 11.7 By 2030, provide universal access to safe, inclusive and accessible, green and public spaces, in particular for women and children, older persons and persons with disabilities  Target 11.a Support positive economic, social and environmental links between urban, peri-urban and rural areas by strengthening national and regional development planning  Target 11.b By 2020, substantially increase the number of cities and human settlements adopting and implementing integrated policies and plans towards inclusion, resource efficiency, mitigation and adaptation to climate change, resilience to disasters, and develop and implement, in line with the Sendai Framework for Disaster Risk Reduction 2015–2030, holistic disaster risk management at all levels  Target 11.c Support least developed countries, including through financial and technical assistance, in building sustainable and resilient buildings utilizing local materials'),\n",
       " Document(metadata={'producer': 'Microsoft: Print To PDF', 'creator': 'PyPDF', 'creationdate': '2020-09-15T15:08:34-04:00', 'author': 'Susana.Castillo', 'moddate': '2020-09-15T15:08:34-04:00', 'title': 'sdgs_targets_overview_resource.pdf', 'source': 'data/SDG.pdf', 'total_pages': 19, 'page': 12, 'page_label': '13'}, page_content='Goal 12. Ensure sustainable consumption and production patterns  Target 12.1 Implement the 10-Year Framework of Programmes on Sustainable Consumption and Production Patterns, all countries taking action, with developed countries taking the lead, taking into account the development and capabilities of developing countries  Target 12.2 By 2030, achieve the sustainable management and efficient use of natural resources  Target 12.3 By 2030, halve per capita global food waste at the retail and consumer levels and reduce food losses along production and supply chains, including post-harvest losses  Target 12.4 By 2020, achieve the environmentally sound management of chemicals and all wastes throughout their life cycle, in accordance with agreed international frameworks, and significantly reduce their release to air, water and soil in order to minimize their adverse impacts on human health and the environment  Target 12.5 By 2030, substantially reduce waste generation through prevention, reduction, recycling and reuse  Target 12.6 Encourage companies, especially large and transnational companies, to adopt sustainable practices and to integrate sustainability information into their reporting cycle  Target 12.7 Promote public procurement practices that are sustainable, in accordance with national policies and priorities Target 12.8 By 2030, ensure that people everywhere have the relevant information and awareness for sustainable development and lifestyles in harmony with nature  Target 12.a Support developing countries to strengthen their scientific and technological capacity to move towards more sustainable patterns of consumption and production  Target 12.b Develop and implement tools to monitor sustainable development impacts for sustainable tourism that creates jobs and promotes local culture and products  Target 12.c Rationalize inefficient fossil-fuel subsidies that encourage wasteful consumption by removing market distortions, in accordance with national circumstances, including by restructuring taxation and phasing out those harmful subsidies, where they exist, to reflect their environmental impacts, taking fully into account the specific needs and conditions of developing countries and minimizing the possible adverse impacts on their development in a manner that protects the poor and the affected communities'),\n",
       " Document(metadata={'producer': 'Microsoft: Print To PDF', 'creator': 'PyPDF', 'creationdate': '2020-09-15T15:08:34-04:00', 'author': 'Susana.Castillo', 'moddate': '2020-09-15T15:08:34-04:00', 'title': 'sdgs_targets_overview_resource.pdf', 'source': 'data/SDG.pdf', 'total_pages': 19, 'page': 13, 'page_label': '14'}, page_content='Goal 13. Take urgent action to combat climate change and its impacts Target 13.1 Strengthen resilience and adaptive capacity to climate-related hazards and natural disasters in all countries  Target 13.2 Integrate climate change measures into national policies, strategies and planning  Target 13.3 Improve education, awareness-raising and human and institutional capacity on climate change mitigation, adaptation, impact reduction and early warning  Target 13.a Implement the commitment undertaken by developed-country parties to the United Nations Framework Convention on Climate Change to a goal of mobilizing jointly $100 billion annually by 2020 from all sources to address the needs of developing countries in the context of meaningful mitigation actions and transparency on implementation and fully operationalize the Green Climate Fund through its capitalization as soon as possible  Target 13.b Promote mechanisms for raising capacity for effective climate change-related planning and management in least developed countries and small island developing States, including focusing on women, youth and local and marginalized communities'),\n",
       " Document(metadata={'producer': 'Microsoft: Print To PDF', 'creator': 'PyPDF', 'creationdate': '2020-09-15T15:08:34-04:00', 'author': 'Susana.Castillo', 'moddate': '2020-09-15T15:08:34-04:00', 'title': 'sdgs_targets_overview_resource.pdf', 'source': 'data/SDG.pdf', 'total_pages': 19, 'page': 14, 'page_label': '15'}, page_content='Goal 14. Conserve and sustainably use the oceans, seas and marine resources for sustainable development  Target 14.1 By 2025, prevent and significantly reduce marine pollution of all kinds, in particular from land-based activities, including marine debris and nutrient pollution  Target 14.2 By 2020, sustainably manage and protect marine and coastal ecosystems to avoid significant adverse impacts, including by strengthening their resilience, and take action for their restoration in order to achieve healthy and productive oceans  Target 14.3 Minimize and address the impacts of ocean acidification, including through enhanced scientific cooperation at all levels  Target 14.4 By 2020, effectively regulate harvesting and end overfishing, illegal, unreported and unregulated fishing and destructive fishing practices and implement science-based management plans, in order to restore fish stocks in the shortest time feasible, at least to levels that can produce maximum sustainable yield as determined by their biological characteristics  Target 14.5 By 2020, conserve at least 10 per cent of coastal and marine areas, consistent with national and international law and based on the best available scientific information  Target 14.6 By 2020, prohibit certain forms of fisheries subsidies which contribute to overcapacity and overfishing, eliminate subsidies that contribute to illegal, unreported and unregulated fishing and refrain from introducing new such subsidies, recognizing that appropriate and effective special and differential treatment for developing and least developed countries should be an integral part of the World Trade Organization fisheries subsidies negotiation Target 14.7 By 2030, increase the economic benefits to small island developing States and least developed countries from the sustainable use of marine resources, including through sustainable management of fisheries, aquaculture and tourism  Target 14.a Increase scientific knowledge, develop research capacity and transfer marine technology, taking into account the Intergovernmental Oceanographic Commission Criteria and Guidelines on the Transfer of Marine Technology, in order to improve ocean health and to enhance the contribution of marine biodiversity to the development of developing countries, in particular small island developing States and least developed countries  Target 14.b Provide access for small-scale artisanal fishers to marine resources and markets  Target 14.c Enhance the conservation and sustainable use of oceans and their resources by implementing international law as reflected in the United Nations Convention on the Law of the Sea, which provides the legal framework for the conservation and sustainable use of oceans and their resources, as recalled in paragraph 158 of “The future we want”'),\n",
       " Document(metadata={'producer': 'Microsoft: Print To PDF', 'creator': 'PyPDF', 'creationdate': '2020-09-15T15:08:34-04:00', 'author': 'Susana.Castillo', 'moddate': '2020-09-15T15:08:34-04:00', 'title': 'sdgs_targets_overview_resource.pdf', 'source': 'data/SDG.pdf', 'total_pages': 19, 'page': 15, 'page_label': '16'}, page_content='Goal 15. Protect, restore and promote sustainable use of terrestrial ecosystems, sustainably manage forests, combat desertification, and halt and reverse land degradation and halt biodiversity loss Target 15.1 By 2020, ensure the conservation, restoration and sustainable use of terrestrial and inland freshwater ecosystems and their services, in particular forests, wetlands, mountains and drylands, in line with obligations under international agreements  Target 15.2 By 2020, promote the implementation of sustainable management of all types of forests, halt deforestation, restore degraded forests and substantially increase afforestation and reforestation globally  Target 15.3 By 2030, combat desertification, restore degraded land and soil, including land affected by desertification, drought and floods, and strive to achieve a land degradation-neutral world Target 15.4 By 2030, ensure the conservation of mountain ecosystems, including their biodiversity, in order to enhance their capacity to provide benefits that are essential for sustainable development  Target 15.5 Take urgent and significant action to reduce the degradation of natural habitats, halt the loss of biodiversity and, by 2020, protect and prevent the extinction of threatened species  Target 15.6 Promote fair and equitable sharing of the benefits arising from the utilization of genetic resources and promote appropriate access to such resources, as internationally agreed  Target 15.7 Take urgent action to end poaching and trafficking of protected species of flora and fauna and address both demand and supply of illegal wildlife products  Target 15.8 By 2020, introduce measures to prevent the introduction and significantly reduce the impact of invasive alien species on land and water ecosystems and control or eradicate the priority species  Target 15.9 By 2020, integrate ecosystem and biodiversity values into national and local planning, development processes, poverty reduction strategies and accounts  Target 15.a Mobilize and significantly increase financial resources from all sources to conserve and sustainably use biodiversity and ecosystems  Target 15.b Mobilize significant resources from all sources and at all levels to finance sustainable forest management and provide adequate incentives to developing countries to advance such management, including for conservation and reforestation  Target 15.c Enhance global support for efforts to combat poaching and trafficking of protected species, including by increasing the capacity of local communities to pursue sustainable livelihood opportunities'),\n",
       " Document(metadata={'producer': 'Microsoft: Print To PDF', 'creator': 'PyPDF', 'creationdate': '2020-09-15T15:08:34-04:00', 'author': 'Susana.Castillo', 'moddate': '2020-09-15T15:08:34-04:00', 'title': 'sdgs_targets_overview_resource.pdf', 'source': 'data/SDG.pdf', 'total_pages': 19, 'page': 16, 'page_label': '17'}, page_content='Goal 16. Promote peaceful and inclusive societies for sustainable development, provide access to justice for all and build effective, accountable and inclusive institutions at all levels  Target 16.1 Significantly reduce all forms of violence and related death rates everywhere  Target 16.2 End abuse, exploitation, trafficking and all forms of violence against and torture of children  Target 16.3 Promote the rule of law at the national and international levels and ensure equal access to justice for all  Target 16.4 By 2030, significantly reduce illicit financial and arms flows, strengthen the recovery and return of stolen assets and combat all forms of organized crime  Target 16.5 Substantially reduce corruption and bribery in all their forms  Target 16.6 Develop effective, accountable and transparent institutions at all levels  Target 16.7 Ensure responsive, inclusive, participatory and representative decision making at all levels  Target 16.8 Broaden and strengthen the participation of developing countries in the institutions of global governance  Target 16.9 By 2030, provide legal identity for all, including birth registration Target 16.10 Ensure public access to information and protect fundamental freedoms, in accordance with national legislation and international agreements  Target 16.a Strengthen relevant national institutions, including through international cooperation, for building capacity at all levels, in particular in developing countries, to prevent violence and combat terrorism and crime  Target 16.b Promote and enforce non-discriminatory laws and policies for sustainable development'),\n",
       " Document(metadata={'producer': 'Microsoft: Print To PDF', 'creator': 'PyPDF', 'creationdate': '2020-09-15T15:08:34-04:00', 'author': 'Susana.Castillo', 'moddate': '2020-09-15T15:08:34-04:00', 'title': 'sdgs_targets_overview_resource.pdf', 'source': 'data/SDG.pdf', 'total_pages': 19, 'page': 17, 'page_label': '18'}, page_content='Goal 17. Strengthen the means of implementation and revitalize the Global Partnership for Sustainable Development Finance  Target 17.1 Strengthen domestic resource mobilization, including through international support to developing countries, to improve domestic capacity for tax and other revenue collection  Target 17.2 Developed countries to implement fully their official development assistance commitments, including the commitment by many developed countries to achieve the target of 0.7 per cent of gross national income for official development assistance (ODA/GNI) to developing countries and 0.15 to 0.20 per cent of ODA/GNI to least developed countries; ODA providers are encouraged to consider setting a target to provide at least 0.20 per cent of ODA/GNI to least developed countries  Target 17.3 Mobilize additional financial resources for developing countries from multiple sources  Target 17.4 Assist developing countries in attaining long-term debt sustainability through coordinated policies aimed at fostering debt financing, debt relief and debt restructuring, as appropriate, and address the external debt of highly indebted poor countries to reduce debt distress  Target 17.5 Adopt and implement investment promotion regimes for least developed countries Technology  Target 17.6 Enhance North-South, South-South and triangular regional and international cooperation on and access to science, technology and innovation and enhance knowledge sharing on mutually agreed terms, including through improved coordination among existing mechanisms, in particular at the United Nations level, and through a global technology facilitation mechanism  Target 17.7 Promote the development, transfer, dissemination and diffusion of environmentally sound technologies to developing countries on favourable terms, including on concessional and preferential terms, as mutually agreed  Target 17.8 Fully operationalize the technology bank and science, technology and innovation capacity-building mechanism for least developed countries by 2017 and enhance the use of enabling technology, in particular information and communications technology Capacity-building  Target 17.9 Enhance international support for implementing effective and targeted capacity-building in developing countries to support national plans to implement all the Sustainable Development Goals, including through North-South, South-South and triangular cooperation'),\n",
       " Document(metadata={'producer': 'Microsoft: Print To PDF', 'creator': 'PyPDF', 'creationdate': '2020-09-15T15:08:34-04:00', 'author': 'Susana.Castillo', 'moddate': '2020-09-15T15:08:34-04:00', 'title': 'sdgs_targets_overview_resource.pdf', 'source': 'data/SDG.pdf', 'total_pages': 19, 'page': 18, 'page_label': '19'}, page_content='Trade  Target 17.10 Promote a universal, rules-based, open, non-discriminatory and equitable multilateral trading system under the World Trade Organization, including through the conclusion of negotiations under its Doha Development Agenda  Target 17.11 Significantly increase the exports of developing countries, in particular with a view to doubling the least developed countries’ share of global exports by 2020  Target 17.12 Realize timely implementation of duty-free and quota-free market access on a lasting basis for all least developed countries, consistent with World Trade Organization decisions, including by ensuring that preferential rules of origin applicable to imports from least developed countries are transparent and simple, and contribute to facilitating market access  Systemic issues  Policy and institutional coherence  Target 17.13 Enhance global macroeconomic stability, including through policy coordination and policy coherence  Target 17.14 Enhance policy coherence for sustainable development  Target 17.15 Respect each country’s policy space and leadership to establish and implement policies for poverty eradication and sustainable development Multi-stakeholder partnerships  Target 17.16 Enhance the Global Partnership for Sustainable Development, complemented by multi-stakeholder partnerships that mobilize and share knowledge, expertise, technology and financial resources, to support the achievement of the Sustainable Development Goals in all countries, in particular developing countries  Target 17.17 Encourage and promote effective public, public-private and civil society partnerships, building on the experience and resourcing strategies of partnerships Data, monitoring and accountability  Target 17.18 By 2020, enhance capacity-building support to developing countries, including for least developed countries and small island developing States, to increase significantly the availability of high-quality, timely and reliable data disaggregated by income, gender, age, race, ethnicity, migratory status, disability, geographic location and other characteristics relevant in national contexts  Target 17.19 By 2030, build on existing initiatives to develop measurements of progress on sustainable development that complement gross domestic product, and support statistical capacity-building in developing countries')]"
      ]
     },
     "execution_count": 15,
     "metadata": {},
     "output_type": "execute_result"
    }
   ],
   "source": [
    "data"
   ]
  },
  {
   "cell_type": "code",
   "execution_count": 22,
   "id": "1264ba56",
   "metadata": {},
   "outputs": [
    {
     "data": {
      "text/plain": [
       "list"
      ]
     },
     "execution_count": 22,
     "metadata": {},
     "output_type": "execute_result"
    }
   ],
   "source": [
    "len(data)\n",
    "type(data)"
   ]
  },
  {
   "cell_type": "code",
   "execution_count": 18,
   "id": "eec2c1f8",
   "metadata": {},
   "outputs": [],
   "source": [
    "#Copying the pages into one place \n",
    "\n",
    "question_gen=\"\"\n",
    "for page in data:\n",
    "    question_gen+=page.page_content\n"
   ]
  },
  {
   "cell_type": "code",
   "execution_count": null,
   "id": "81ebffb8",
   "metadata": {},
   "outputs": [
    {
     "data": {
      "text/plain": [
       "'4th SDG Y outh Summer Camp – SDG Resource Document The 2030 Agenda for Sustainable Development’s 17 Sustainable Development Goals (SDGs)   Goal: This document enables 4th SDG Youth Summer Camp participants to i) get to know the 17 SDGs, ii) explore what areas each goal covers under its targets, iii) identify targets of most interest to participants, and iv) identify synergies between the SDGs and chosen target(s).    Goal 1. End poverty in all its forms everywhere  Target 1.1 By 2030, eradicate extreme poverty for all people everywhere, currently measured as people living on less than $1.25 a day  Target 1.2 By 2030, reduce at least by half the proportion of men, women and children of all ages living in poverty in all its dimensions according to national definitions  Target 1.3 Implement nationally appropriate social protection systems and measures for all, including floors, and by 2030 achieve substantial coverage of the poor and the vulnerable  Target 1.4 By 2030, ensure that all men and women, in particular the poor and the vulnerable, have equal rights to economic resources, as well as access to basic services, ownership and control over land and other forms of property, inheritance, natural resources, appropriate new technology and financial services, including microfinance  Target 1.5 By 2030, build the resilience of the poor and those in vulnerable situations and reduce their exposure and vulnerability to climate-related extreme events and other economic, social and environmental shocks and disasters  Target 1.a Ensure significant mobilization of resources from a variety of sources, including through enhanced development cooperation, in order to provide adequate and predictable means for developing countries, in particular least developed countries, to implement programmes and policies to end poverty in all its dimensions  Target 1.b Create sound policy frameworks at the national, regional and international levels, based on pro-poor and gender-sensitive development strategies, to support accelerated investment in poverty eradication actionsGoal 2. End hunger, achieve food security and improved nutrition and promote sustainable agriculture  Target 2.1 By 2030, end hunger and ensure access by all people, in particular the poor and people in vulnerable situations, including infants, to safe, nutritious and sufficient food all year round  Target 2.2 By 2030, end all forms of malnutrition, including achieving, by 2025, the internationally agreed targets on stunting and wasting in children under 5 years of age, and address the nutritional needs of adolescent girls, pregnant and lactating women and older persons  Target 2.3 By 2030, double the agricultural productivity and incomes of small-scale food producers, in particular women, indigenous peoples, family farmers, pastoralists and fishers, including through secure and equal access to land, other productive resources and inputs, knowledge, financial services, markets and opportunities for value addition and non-farm employment  Target 2.4 By 2030, ensure sustainable food production systems and implement resilient agricultural practices that increase productivity and production, that help maintain ecosystems, that strengthen capacity for adaptation to climate change, extreme weather, drought, flooding and other disasters and that progressively improve land and soil quality  Target 2.5 By 2020, maintain the genetic diversity of seeds, cultivated plants and farmed and domesticated animals and their related wild species, including through soundly A/RES/70/1 Transforming our world: the 2030 Agenda for Sustainable Development 16/35 managed and diversified seed and plant banks at the national, regional and international levels, and promote access to and fair and equitable sharing of benefits arising from the utilization of genetic resources and associated traditional knowledge, as internationally agreed  Target 2.a Increase investment, including through enhanced international cooperation, in rural infrastructure, agricultural research and extension services, technology development and plant and livestock gene banks in order to enhance agricultural productive capacity in developing countries, in particular least developed countries  Target 2.b Correct and prevent trade restrictions and distortions in world agricultural markets, including through the parallel elimination of all forms of agricultural export subsidies and all export measures with equivalent effect, in accordance with the mandate of the Doha Development Round  Target 2.c Adopt measures to ensure the proper functioning of food commodity markets and their derivatives and facilitate timely access to market information, including on food reserves, in order to help limit extreme food price volatilityGoal 3. Ensure healthy lives and promote well-being for all at all ages  Target 3.1 By 2030, reduce the global maternal mortality ratio to less than 70 per 100,000 live births  Target 3.2 By 2030, end preventable deaths of newborns and children under 5 years of age, with all countries aiming to reduce neonatal mortality to at least as low as 12 per 1,000 live births and under-5 mortality to at least as low as 25 per 1,000 live births  Target 3.3 By 2030, end the epidemics of AIDS, tuberculosis, malaria and neglected tropical diseases and combat hepatitis, water-borne diseases and other communicable diseases  Target 3.4 By 2030, reduce by one third premature mortality from non-communicable diseases through prevention and treatment and promote mental health and wellbeing  Target 3.5 Strengthen the prevention and treatment of substance abuse, including narcotic drug abuse and harmful use of alcohol  Target 3.6 By 2020, halve the number of global deaths and injuries from road traffic accidents  Target 3.7 By 2030, ensure universal access to sexual and reproductive health-care services, including for family planning, information and education, and the integration of reproductive health into national strategies and programmes  Target 3.8 Achieve universal health coverage, including financial risk protection, access to quality essential health-care services and access to safe, effective, quality and affordable essential medicines and vaccines for all  Target 3.9 By 2030, substantially reduce the number of deaths and illnesses from hazardous chemicals and air, water and soil pollution and contamination  Target 3.a Strengthen the implementation of the World Health Organization Framework Convention on Tobacco Control in all countries, as appropriate  Target 3.b Support the research and development of vaccines and medicines for the communicable and non-communicable diseases that primarily affect developing Transforming our world: the 2030 Agenda for Sustainable Development A/RES/70/1 17/35 countries, provide access to affordable essential medicines and vaccines, in accordance with the Doha Declaration on the TRIPS Agreement and Public Health, which affirms the right of developing countries to use to the full the provisions in the Agreement on Trade-Related Aspects of Intellectual Property Rights regarding flexibilities to protect public health, and, in particular, provide access to medicines for all  Target 3.c Substantially increase health financing and the recruitment, development, training and retention of the health workforce in developing countries, especially in least developed countries and small island developing States  Target 3.d Strengthen the capacity of all countries, in particular developing countries, for early warning, risk reduction and management of national and global health risksGoal 4. Ensure inclusive and equitable quality education and promote lifelong learning opportunities for all  Target 4.1 By 2030, ensure that all girls and boys complete free, equitable and quality primary and secondary education leading to relevant and effective learning outcomes  Target 4.2 By 2030, ensure that all girls and boys have access to quality early childhood development, care and pre-primary education so that they are ready for primary education  Target 4.3 By 2030, ensure equal access for all women and men to affordable and quality technical, vocational and tertiary education, including university  Target 4.4 By 2030, substantially increase the number of youth and adults who have relevant skills, including technical and vocational skills, for employment, decent jobs and entrepreneurship  Target 4.5 By 2030, eliminate gender disparities in education and ensure equal access to all levels of education and vocational training for the vulnerable, including persons with disabilities, indigenous peoples and children in vulnerable situations  Target 4.6 By 2030, ensure that all youth and a substantial proportion of adults, both men and women, achieve literacy and numeracy  Target 4.7 By 2030, ensure that all learners acquire the knowledge and skills needed to promote sustainable development, including, among others, through education for sustainable development and sustainable lifestyles, human rights, gender equality, promotion of a culture of peace and non-violence, global citizenship and appreciation of cultural diversity and of culture’s contribution to sustainable development  Target 4.a Build and upgrade education facilities that are child, disability and gender sensitive and provide safe, non-violent, inclusive and effective learning environments for all Target 4.b By 2020, substantially expand globally the number of scholarships available to developing countries, in particular least developed countries, small island developing States and African countries, for enrolment in higher education, including vocational training and information and communications technology, technical, engineering and scientific programmes, in developed countries and other developing countries  Target 4.c By 2030, substantially increase the supply of qualified teachers, including through international cooperation for teacher training in developing countries, especially least developed countries and small island developing States A/RES/70/1 Transforming our world: the 2030 Agenda for Sustainable Development 18/35Goal 5. Achieve gender equality and empower all women and girls  Target 5.1 End all forms of discrimination against all women and girls everywhere  Target 5.2 Eliminate all forms of violence against all women and girls in the public and private spheres, including trafficking and sexual and other types of exploitation  Target 5.3 Eliminate all harmful practices, such as child, early and forced marriage and female genital mutilation  Target 5.4 Recognize and value unpaid care and domestic work through the provision of public services, infrastructure and social protection policies and the promotion of shared responsibility within the household and the family as nationally appropriate  Target 5.5 Ensure women’s full and effective participation and equal opportunities for leadership at all levels of decision-making in political, economic and public life  Target 5.6 Ensure universal access to sexual and reproductive health and reproductive rights as agreed in accordance with the Programme of Action of the International Conference on Population and Development and the Beijing Platform for Action and the outcome documents of their review conferences  Target 5.a Undertake reforms to give women equal rights to economic resources, as well as access to ownership and control over land and other forms of property, financial services, inheritance and natural resources, in accordance with national laws  Target 5.b Enhance the use of enabling technology, in particular information and communications technology, to promote the empowerment of women  Target 5.c Adopt and strengthen sound policies and enforceable legislation for the promotion of gender equality and the empowerment of all women and girls at all levelsGoal 6. Ensure availability and sustainable management of water and sanitation for all  Target 6.1 By 2030, achieve universal and equitable access to safe and affordable drinking water for all  Target 6.2 By 2030, achieve access to adequate and equitable sanitation and hygiene for all and end open defecation, paying special attention to the needs of women and girls and those in vulnerable situations  Target 6.3 By 2030, improve water quality by reducing pollution, eliminating dumping and minimizing release of hazardous chemicals and materials, halving the proportion of untreated wastewater and substantially increasing recycling and safe reuse globally  Target 6.4 By 2030, substantially increase water-use efficiency across all sectors and ensure sustainable withdrawals and supply of freshwater to address water scarcity and substantially reduce the number of people suffering from water scarcity  Target 6.5 By 2030, implement integrated water resources management at all levels, including through transboundary cooperation as appropriate  Target 6.6 By 2020, protect and restore water-related ecosystems, including mountains, forests, wetlands, rivers, aquifers and lakes Transforming our world: the 2030 Agenda for Sustainable Development A/RES/70/1 19/35  Target 6.a By 2030, expand international cooperation and capacity-building support to developing countries in water- and sanitation-related activities and programmes, including water harvesting, desalination, water efficiency, wastewater treatment, recycling and reuse technologies  Target 6.b Support and strengthen the participation of local communities in improving water and sanitation managementGoal 7. Ensure access to affordable, reliable, sustainable and modern energy for all  Target 7.1 By 2030, ensure universal access to affordable, reliable and modern energy services  Target 7.2 By 2030, increase substantially the share of renewable energy in the global energy mix  Target 7.3 By 2030, double the global rate of improvement in energy efficiency  Target 7.a By 2030, enhance international cooperation to facilitate access to clean energy research and technology, including renewable energy, energy efficiency and advanced and cleaner fossil-fuel technology, and promote investment in energy infrastructure and clean energy technology  Target 7.b By 2030, expand infrastructure and upgrade technology for supplying modern and sustainable energy services for all in developing countries, in particular least developed countries, small island developing States and landlocked developing countries, in accordance with their respective programmes of supportGoal 8. Promote sustained, inclusive and sustainable economic growth, full and productive employment and decent work for all  Target 8.1 Sustain per capita economic growth in accordance with national circumstances and, in particular, at least 7 per cent gross domestic product growth per annum in the least developed countries  Target 8.2 Achieve higher levels of economic productivity through diversification, technological upgrading and innovation, including through a focus on high-value added and labour-intensive sectors  Target 8.3 Promote development-oriented policies that support productive activities, decent job creation, entrepreneurship, creativity and innovation, and encourage the formalization and growth of micro-, small- and medium-sized enterprises, including through access to financial services  Target 8.4 Improve progressively, through 2030, global resource efficiency in consumption and production and endeavour to decouple economic growth from environmental degradation, in accordance with the 10-Year Framework of Programmes on Sustainable Consumption and Production, with developed countries taking the lead  Target 8.5 By 2030, achieve full and productive employment and decent work for all women and men, including for young people and persons with disabilities, and equal pay for work of equal value  Target 8.6 By 2020, substantially reduce the proportion of youth not in employment, education or training A/RES/70/1 Transforming our world: the 2030 Agenda for Sustainable Development 20/35  Target 8.7 Take immediate and effective measures to eradicate forced labour, end modern slavery and human trafficking and secure the prohibition and elimination of the worst forms of child labour, including recruitment and use of child soldiers, and by 2025 end child labour in all its forms  Target 8.8 Protect labour rights and promote safe and secure working environments for all workers, including migrant workers, in particular women migrants, and those in precarious employment  Target 8.9 By 2030, devise and implement policies to promote sustainable tourism that creates jobs and promotes local culture and products  Target 8.10 Strengthen the capacity of domestic financial institutions to encourage and expand access to banking, insurance and financial services for all  Target 8.a Increase Aid for Trade support for developing countries, in particular least developed countries, including through the Enhanced Integrated Framework for Trade-related Technical Assistance to Least Developed CountriesTarget 8.b By 2020, develop and operationalize a global strategy for youth employment and implement the Global Jobs Pact of the International Labour OrganizationGoal 9. Build resilient infrastructure, promote inclusive and sustainable industrialization and foster innovation  Target 9.1 Develop quality, reliable, sustainable and resilient infrastructure, including regional and transborder infrastructure, to support economic development and human well-being, with a focus on affordable and equitable access for all Target 9.2 Promote inclusive and sustainable industrialization and, by 2030, significantly raise industry’s share of employment and gross domestic product, in line with national circumstances, and double its share in least developed countries  Target 9.3 Increase the access of small-scale industrial and other enterprises, in particular in developing countries, to financial services,including affordable credit, and their integration into value chains and markets  Target 9.4 By 2030, upgrade infrastructure and retrofit industries to make them sustainable, with increased resource-use efficiency and greater adoption of clean and environmentally sound technologies and industrial processes, with all countries taking action in accordance with their respective capabilities  Target 9.5 Enhance scientific research, upgrade the technological capabilities of industrial sectors in all countries, in particular developing countries, including, by 2030, encouraging innovation and substantially increasing the number of research and development workers per 1 million people and public and private research and development spending  Target 9.a Facilitate sustainable and resilient infrastructure development in developing countries through enhanced financial, technological and technical support to African countries, least developed countries, landlocked developing countries and small island developing States  Target 9.b Support domestic technology development, research and innovation in developing countries, including by ensuring a conducive policy environment for, inter alia, industrial diversification and value addition to commodities Transforming our world: the 2030 Agenda for Sustainable Development A/RES/70/1 21/35  Target 9.c Significantly increase access to information and communications technology and strive to provide universal and affordable access to the Internet in least developed countries by 2020Goal 10. Reduce inequality within and among countries Target 10.1By 2030, progressively achieve and sustain income growth of the bottom 40 per cent of the population at a rate higher than the national average  Target 10.2 By 2030, empower and promote the social, economic and political inclusion of all, irrespective of age, sex, disability, race, ethnicity, origin, religion or economic or other status  Target 10.3 Ensure equal opportunity and reduce inequalities of outcome, including by eliminating discriminatory laws, policies and practices and promoting appropriate legislation, policies and action in this regard  Target 10.4 Adopt policies, especially fiscal, wage and social protection policies, and progressively achieve greater equality  Target 10.5 Improve the regulation and monitoring of global financial markets and institutions and strengthen the implementation of such regulations  Target 10.6 Ensure enhanced representation and voice for developing countries in decision-making in global international economic and financial institutions in order to deliver more effective, credible, accountable and legitimate institutions  Target 10.7 Facilitate orderly, safe, regular and responsible migration and mobility of people, including through the implementation of planned and well-managed migration policies  Target 10.a Implement the principle of special and differential treatment for developing countries, in particular least developed countries, in accordance with World Trade Organization agreements  Target 10.b Encourage official development assistance and financial flows, including foreign direct investment, to States where the need is greatest, in particular least developed countries, African countries, small island developing States and landlocked developing countries, in accordance with their national plans and programmes  Target 10.c By 2030, reduce to less than 3 per cent the transaction costs of migrant remittances and eliminate remittance corridors with costs higher than 5 percentGoal 11. Make cities and human settlements inclusive, safe, resilient and sustainable  Target 11.1 By 2030, ensure access for all to adequate, safe and affordable housing and basic services and upgrade slums  Target 11.2 By 2030, provide access to safe, affordable, accessible and sustainable transport systems for all, improving road safety, notably by expanding public transport, with special attention to the needs of those in vulnerable situations, women, children, persons with disabilities and older persons  Target 11.3 By 2030, enhance inclusive and sustainable urbanization and capacity for participatory, integrated and sustainable human settlement planning and management in all countries Target 11.4 Strengthen efforts to protect and safeguard the world’s cultural and natural heritage  Target 11.5 By 2030, significantly reduce the number of deaths and the number of people affected and substantially decrease the direct economic losses relative to global gross domestic product caused by disasters, including water-related disasters, with a focus on protecting the poor and people in vulnerable situations  Target 11.6 By 2030, reduce the adverse per capita environmental impact of cities, including by paying special attention to air quality and municipal and other waste management  Target 11.7 By 2030, provide universal access to safe, inclusive and accessible, green and public spaces, in particular for women and children, older persons and persons with disabilities  Target 11.a Support positive economic, social and environmental links between urban, peri-urban and rural areas by strengthening national and regional development planning  Target 11.b By 2020, substantially increase the number of cities and human settlements adopting and implementing integrated policies and plans towards inclusion, resource efficiency, mitigation and adaptation to climate change, resilience to disasters, and develop and implement, in line with the Sendai Framework for Disaster Risk Reduction 2015–2030, holistic disaster risk management at all levels  Target 11.c Support least developed countries, including through financial and technical assistance, in building sustainable and resilient buildings utilizing local materialsGoal 12. Ensure sustainable consumption and production patterns  Target 12.1 Implement the 10-Year Framework of Programmes on Sustainable Consumption and Production Patterns, all countries taking action, with developed countries taking the lead, taking into account the development and capabilities of developing countries  Target 12.2 By 2030, achieve the sustainable management and efficient use of natural resources  Target 12.3 By 2030, halve per capita global food waste at the retail and consumer levels and reduce food losses along production and supply chains, including post-harvest losses  Target 12.4 By 2020, achieve the environmentally sound management of chemicals and all wastes throughout their life cycle, in accordance with agreed international frameworks, and significantly reduce their release to air, water and soil in order to minimize their adverse impacts on human health and the environment  Target 12.5 By 2030, substantially reduce waste generation through prevention, reduction, recycling and reuse  Target 12.6 Encourage companies, especially large and transnational companies, to adopt sustainable practices and to integrate sustainability information into their reporting cycle  Target 12.7 Promote public procurement practices that are sustainable, in accordance with national policies and priorities Target 12.8 By 2030, ensure that people everywhere have the relevant information and awareness for sustainable development and lifestyles in harmony with nature  Target 12.a Support developing countries to strengthen their scientific and technological capacity to move towards more sustainable patterns of consumption and production  Target 12.b Develop and implement tools to monitor sustainable development impacts for sustainable tourism that creates jobs and promotes local culture and products  Target 12.c Rationalize inefficient fossil-fuel subsidies that encourage wasteful consumption by removing market distortions, in accordance with national circumstances, including by restructuring taxation and phasing out those harmful subsidies, where they exist, to reflect their environmental impacts, taking fully into account the specific needs and conditions of developing countries and minimizing the possible adverse impacts on their development in a manner that protects the poor and the affected communitiesGoal 13. Take urgent action to combat climate change and its impacts Target 13.1 Strengthen resilience and adaptive capacity to climate-related hazards and natural disasters in all countries  Target 13.2 Integrate climate change measures into national policies, strategies and planning  Target 13.3 Improve education, awareness-raising and human and institutional capacity on climate change mitigation, adaptation, impact reduction and early warning  Target 13.a Implement the commitment undertaken by developed-country parties to the United Nations Framework Convention on Climate Change to a goal of mobilizing jointly $100 billion annually by 2020 from all sources to address the needs of developing countries in the context of meaningful mitigation actions and transparency on implementation and fully operationalize the Green Climate Fund through its capitalization as soon as possible  Target 13.b Promote mechanisms for raising capacity for effective climate change-related planning and management in least developed countries and small island developing States, including focusing on women, youth and local and marginalized communitiesGoal 14. Conserve and sustainably use the oceans, seas and marine resources for sustainable development  Target 14.1 By 2025, prevent and significantly reduce marine pollution of all kinds, in particular from land-based activities, including marine debris and nutrient pollution  Target 14.2 By 2020, sustainably manage and protect marine and coastal ecosystems to avoid significant adverse impacts, including by strengthening their resilience, and take action for their restoration in order to achieve healthy and productive oceans  Target 14.3 Minimize and address the impacts of ocean acidification, including through enhanced scientific cooperation at all levels  Target 14.4 By 2020, effectively regulate harvesting and end overfishing, illegal, unreported and unregulated fishing and destructive fishing practices and implement science-based management plans, in order to restore fish stocks in the shortest time feasible, at least to levels that can produce maximum sustainable yield as determined by their biological characteristics  Target 14.5 By 2020, conserve at least 10 per cent of coastal and marine areas, consistent with national and international law and based on the best available scientific information  Target 14.6 By 2020, prohibit certain forms of fisheries subsidies which contribute to overcapacity and overfishing, eliminate subsidies that contribute to illegal, unreported and unregulated fishing and refrain from introducing new such subsidies, recognizing that appropriate and effective special and differential treatment for developing and least developed countries should be an integral part of the World Trade Organization fisheries subsidies negotiation Target 14.7 By 2030, increase the economic benefits to small island developing States and least developed countries from the sustainable use of marine resources, including through sustainable management of fisheries, aquaculture and tourism  Target 14.a Increase scientific knowledge, develop research capacity and transfer marine technology, taking into account the Intergovernmental Oceanographic Commission Criteria and Guidelines on the Transfer of Marine Technology, in order to improve ocean health and to enhance the contribution of marine biodiversity to the development of developing countries, in particular small island developing States and least developed countries  Target 14.b Provide access for small-scale artisanal fishers to marine resources and markets  Target 14.c Enhance the conservation and sustainable use of oceans and their resources by implementing international law as reflected in the United Nations Convention on the Law of the Sea, which provides the legal framework for the conservation and sustainable use of oceans and their resources, as recalled in paragraph 158 of “The future we want”Goal 15. Protect, restore and promote sustainable use of terrestrial ecosystems, sustainably manage forests, combat desertification, and halt and reverse land degradation and halt biodiversity loss Target 15.1 By 2020, ensure the conservation, restoration and sustainable use of terrestrial and inland freshwater ecosystems and their services, in particular forests, wetlands, mountains and drylands, in line with obligations under international agreements  Target 15.2 By 2020, promote the implementation of sustainable management of all types of forests, halt deforestation, restore degraded forests and substantially increase afforestation and reforestation globally  Target 15.3 By 2030, combat desertification, restore degraded land and soil, including land affected by desertification, drought and floods, and strive to achieve a land degradation-neutral world Target 15.4 By 2030, ensure the conservation of mountain ecosystems, including their biodiversity, in order to enhance their capacity to provide benefits that are essential for sustainable development  Target 15.5 Take urgent and significant action to reduce the degradation of natural habitats, halt the loss of biodiversity and, by 2020, protect and prevent the extinction of threatened species  Target 15.6 Promote fair and equitable sharing of the benefits arising from the utilization of genetic resources and promote appropriate access to such resources, as internationally agreed  Target 15.7 Take urgent action to end poaching and trafficking of protected species of flora and fauna and address both demand and supply of illegal wildlife products  Target 15.8 By 2020, introduce measures to prevent the introduction and significantly reduce the impact of invasive alien species on land and water ecosystems and control or eradicate the priority species  Target 15.9 By 2020, integrate ecosystem and biodiversity values into national and local planning, development processes, poverty reduction strategies and accounts  Target 15.a Mobilize and significantly increase financial resources from all sources to conserve and sustainably use biodiversity and ecosystems  Target 15.b Mobilize significant resources from all sources and at all levels to finance sustainable forest management and provide adequate incentives to developing countries to advance such management, including for conservation and reforestation  Target 15.c Enhance global support for efforts to combat poaching and trafficking of protected species, including by increasing the capacity of local communities to pursue sustainable livelihood opportunitiesGoal 16. Promote peaceful and inclusive societies for sustainable development, provide access to justice for all and build effective, accountable and inclusive institutions at all levels  Target 16.1 Significantly reduce all forms of violence and related death rates everywhere  Target 16.2 End abuse, exploitation, trafficking and all forms of violence against and torture of children  Target 16.3 Promote the rule of law at the national and international levels and ensure equal access to justice for all  Target 16.4 By 2030, significantly reduce illicit financial and arms flows, strengthen the recovery and return of stolen assets and combat all forms of organized crime  Target 16.5 Substantially reduce corruption and bribery in all their forms  Target 16.6 Develop effective, accountable and transparent institutions at all levels  Target 16.7 Ensure responsive, inclusive, participatory and representative decision making at all levels  Target 16.8 Broaden and strengthen the participation of developing countries in the institutions of global governance  Target 16.9 By 2030, provide legal identity for all, including birth registration Target 16.10 Ensure public access to information and protect fundamental freedoms, in accordance with national legislation and international agreements  Target 16.a Strengthen relevant national institutions, including through international cooperation, for building capacity at all levels, in particular in developing countries, to prevent violence and combat terrorism and crime  Target 16.b Promote and enforce non-discriminatory laws and policies for sustainable developmentGoal 17. Strengthen the means of implementation and revitalize the Global Partnership for Sustainable Development Finance  Target 17.1 Strengthen domestic resource mobilization, including through international support to developing countries, to improve domestic capacity for tax and other revenue collection  Target 17.2 Developed countries to implement fully their official development assistance commitments, including the commitment by many developed countries to achieve the target of 0.7 per cent of gross national income for official development assistance (ODA/GNI) to developing countries and 0.15 to 0.20 per cent of ODA/GNI to least developed countries; ODA providers are encouraged to consider setting a target to provide at least 0.20 per cent of ODA/GNI to least developed countries  Target 17.3 Mobilize additional financial resources for developing countries from multiple sources  Target 17.4 Assist developing countries in attaining long-term debt sustainability through coordinated policies aimed at fostering debt financing, debt relief and debt restructuring, as appropriate, and address the external debt of highly indebted poor countries to reduce debt distress  Target 17.5 Adopt and implement investment promotion regimes for least developed countries Technology  Target 17.6 Enhance North-South, South-South and triangular regional and international cooperation on and access to science, technology and innovation and enhance knowledge sharing on mutually agreed terms, including through improved coordination among existing mechanisms, in particular at the United Nations level, and through a global technology facilitation mechanism  Target 17.7 Promote the development, transfer, dissemination and diffusion of environmentally sound technologies to developing countries on favourable terms, including on concessional and preferential terms, as mutually agreed  Target 17.8 Fully operationalize the technology bank and science, technology and innovation capacity-building mechanism for least developed countries by 2017 and enhance the use of enabling technology, in particular information and communications technology Capacity-building  Target 17.9 Enhance international support for implementing effective and targeted capacity-building in developing countries to support national plans to implement all the Sustainable Development Goals, including through North-South, South-South and triangular cooperationTrade  Target 17.10 Promote a universal, rules-based, open, non-discriminatory and equitable multilateral trading system under the World Trade Organization, including through the conclusion of negotiations under its Doha Development Agenda  Target 17.11 Significantly increase the exports of developing countries, in particular with a view to doubling the least developed countries’ share of global exports by 2020  Target 17.12 Realize timely implementation of duty-free and quota-free market access on a lasting basis for all least developed countries, consistent with World Trade Organization decisions, including by ensuring that preferential rules of origin applicable to imports from least developed countries are transparent and simple, and contribute to facilitating market access  Systemic issues  Policy and institutional coherence  Target 17.13 Enhance global macroeconomic stability, including through policy coordination and policy coherence  Target 17.14 Enhance policy coherence for sustainable development  Target 17.15 Respect each country’s policy space and leadership to establish and implement policies for poverty eradication and sustainable development Multi-stakeholder partnerships  Target 17.16 Enhance the Global Partnership for Sustainable Development, complemented by multi-stakeholder partnerships that mobilize and share knowledge, expertise, technology and financial resources, to support the achievement of the Sustainable Development Goals in all countries, in particular developing countries  Target 17.17 Encourage and promote effective public, public-private and civil society partnerships, building on the experience and resourcing strategies of partnerships Data, monitoring and accountability  Target 17.18 By 2020, enhance capacity-building support to developing countries, including for least developed countries and small island developing States, to increase significantly the availability of high-quality, timely and reliable data disaggregated by income, gender, age, race, ethnicity, migratory status, disability, geographic location and other characteristics relevant in national contexts  Target 17.19 By 2030, build on existing initiatives to develop measurements of progress on sustainable development that complement gross domestic product, and support statistical capacity-building in developing countries'"
      ]
     },
     "execution_count": 21,
     "metadata": {},
     "output_type": "execute_result"
    }
   ],
   "source": [
    "question_gen\n"
   ]
  },
  {
   "cell_type": "code",
   "execution_count": 26,
   "id": "e4b79b3d",
   "metadata": {},
   "outputs": [],
   "source": [
    "from langchain.text_splitter import RecursiveCharacterTextSplitter"
   ]
  },
  {
   "cell_type": "code",
   "execution_count": 27,
   "id": "c5262077",
   "metadata": {},
   "outputs": [],
   "source": [
    "splitter_ques_gen= RecursiveCharacterTextSplitter(\n",
    "    chunk_size=10000,\n",
    "    chunk_overlap=200\n",
    ")"
   ]
  },
  {
   "cell_type": "code",
   "execution_count": 30,
   "id": "9e0e7466",
   "metadata": {},
   "outputs": [],
   "source": [
    "chunk_ques_gen= splitter_ques_gen.split_text(question_gen)"
   ]
  },
  {
   "cell_type": "code",
   "execution_count": 31,
   "id": "79fba89a",
   "metadata": {},
   "outputs": [
    {
     "data": {
      "text/plain": [
       "list"
      ]
     },
     "execution_count": 31,
     "metadata": {},
     "output_type": "execute_result"
    }
   ],
   "source": [
    "type(chunk_ques_gen)"
   ]
  },
  {
   "cell_type": "code",
   "execution_count": 32,
   "id": "37fb5d49",
   "metadata": {},
   "outputs": [
    {
     "data": {
      "text/plain": [
       "4"
      ]
     },
     "execution_count": 32,
     "metadata": {},
     "output_type": "execute_result"
    }
   ],
   "source": [
    "len(chunk_ques_gen)"
   ]
  },
  {
   "cell_type": "code",
   "execution_count": 33,
   "id": "4b453805",
   "metadata": {},
   "outputs": [],
   "source": [
    "#Converting the chunks into documents\n",
    "from langchain.docstore.document import Document"
   ]
  },
  {
   "cell_type": "code",
   "execution_count": 34,
   "id": "80e8a833",
   "metadata": {},
   "outputs": [],
   "source": [
    "document_ques_gen=[Document(page_content=t)for t in chunk_ques_gen]"
   ]
  },
  {
   "cell_type": "code",
   "execution_count": 35,
   "id": "b44234ff",
   "metadata": {},
   "outputs": [],
   "source": [
    "splitter_ans_gen= RecursiveCharacterTextSplitter(\n",
    "    chunk_size=1000,\n",
    "    chunk_overlap=200\n",
    ")"
   ]
  },
  {
   "cell_type": "code",
   "execution_count": 37,
   "id": "b6d8e568",
   "metadata": {},
   "outputs": [],
   "source": [
    "chunk_ans_gen= splitter_ans_gen.split_documents(document_ques_gen)"
   ]
  },
  {
   "cell_type": "code",
   "execution_count": 38,
   "id": "5e22d8bf",
   "metadata": {},
   "outputs": [
    {
     "data": {
      "text/plain": [
       "[Document(metadata={}, page_content='4th SDG Y outh Summer Camp – SDG Resource Document The 2030 Agenda for Sustainable Development’s 17 Sustainable Development Goals (SDGs)   Goal: This document enables 4th SDG Youth Summer Camp participants to i) get to know the 17 SDGs, ii) explore what areas each goal covers under its targets, iii) identify targets of most interest to participants, and iv) identify synergies between the SDGs and chosen target(s).    Goal 1. End poverty in all its forms everywhere  Target 1.1 By 2030, eradicate extreme poverty for all people everywhere, currently measured as people living on less than $1.25 a day  Target 1.2 By 2030, reduce at least by half the proportion of men, women and children of all ages living in poverty in all its dimensions according to national definitions  Target 1.3 Implement nationally appropriate social protection systems and measures for all, including floors, and by 2030 achieve substantial coverage of the poor and the vulnerable  Target 1.4 By 2030, ensure that all men'),\n",
       " Document(metadata={}, page_content='appropriate social protection systems and measures for all, including floors, and by 2030 achieve substantial coverage of the poor and the vulnerable  Target 1.4 By 2030, ensure that all men and women, in particular the poor and the vulnerable, have equal rights to economic resources, as well as access to basic services, ownership and control over land and other forms of property, inheritance, natural resources, appropriate new technology and financial services, including microfinance  Target 1.5 By 2030, build the resilience of the poor and those in vulnerable situations and reduce their exposure and vulnerability to climate-related extreme events and other economic, social and environmental shocks and disasters  Target 1.a Ensure significant mobilization of resources from a variety of sources, including through enhanced development cooperation, in order to provide adequate and predictable means for developing countries, in particular least developed countries, to implement'),\n",
       " Document(metadata={}, page_content='of sources, including through enhanced development cooperation, in order to provide adequate and predictable means for developing countries, in particular least developed countries, to implement programmes and policies to end poverty in all its dimensions  Target 1.b Create sound policy frameworks at the national, regional and international levels, based on pro-poor and gender-sensitive development strategies, to support accelerated investment in poverty eradication actionsGoal 2. End hunger, achieve food security and improved nutrition and promote sustainable agriculture  Target 2.1 By 2030, end hunger and ensure access by all people, in particular the poor and people in vulnerable situations, including infants, to safe, nutritious and sufficient food all year round  Target 2.2 By 2030, end all forms of malnutrition, including achieving, by 2025, the internationally agreed targets on stunting and wasting in children under 5 years of age, and address the nutritional needs of'),\n",
       " Document(metadata={}, page_content='By 2030, end all forms of malnutrition, including achieving, by 2025, the internationally agreed targets on stunting and wasting in children under 5 years of age, and address the nutritional needs of adolescent girls, pregnant and lactating women and older persons  Target 2.3 By 2030, double the agricultural productivity and incomes of small-scale food producers, in particular women, indigenous peoples, family farmers, pastoralists and fishers, including through secure and equal access to land, other productive resources and inputs, knowledge, financial services, markets and opportunities for value addition and non-farm employment  Target 2.4 By 2030, ensure sustainable food production systems and implement resilient agricultural practices that increase productivity and production, that help maintain ecosystems, that strengthen capacity for adaptation to climate change, extreme weather, drought, flooding and other disasters and that progressively improve land and soil quality  Target'),\n",
       " Document(metadata={}, page_content='maintain ecosystems, that strengthen capacity for adaptation to climate change, extreme weather, drought, flooding and other disasters and that progressively improve land and soil quality  Target 2.5 By 2020, maintain the genetic diversity of seeds, cultivated plants and farmed and domesticated animals and their related wild species, including through soundly A/RES/70/1 Transforming our world: the 2030 Agenda for Sustainable Development 16/35 managed and diversified seed and plant banks at the national, regional and international levels, and promote access to and fair and equitable sharing of benefits arising from the utilization of genetic resources and associated traditional knowledge, as internationally agreed  Target 2.a Increase investment, including through enhanced international cooperation, in rural infrastructure, agricultural research and extension services, technology development and plant and livestock gene banks in order to enhance agricultural productive capacity in'),\n",
       " Document(metadata={}, page_content='cooperation, in rural infrastructure, agricultural research and extension services, technology development and plant and livestock gene banks in order to enhance agricultural productive capacity in developing countries, in particular least developed countries  Target 2.b Correct and prevent trade restrictions and distortions in world agricultural markets, including through the parallel elimination of all forms of agricultural export subsidies and all export measures with equivalent effect, in accordance with the mandate of the Doha Development Round  Target 2.c Adopt measures to ensure the proper functioning of food commodity markets and their derivatives and facilitate timely access to market information, including on food reserves, in order to help limit extreme food price volatilityGoal 3. Ensure healthy lives and promote well-being for all at all ages  Target 3.1 By 2030, reduce the global maternal mortality ratio to less than 70 per 100,000 live births  Target 3.2 By 2030, end'),\n",
       " Document(metadata={}, page_content='3. Ensure healthy lives and promote well-being for all at all ages  Target 3.1 By 2030, reduce the global maternal mortality ratio to less than 70 per 100,000 live births  Target 3.2 By 2030, end preventable deaths of newborns and children under 5 years of age, with all countries aiming to reduce neonatal mortality to at least as low as 12 per 1,000 live births and under-5 mortality to at least as low as 25 per 1,000 live births  Target 3.3 By 2030, end the epidemics of AIDS, tuberculosis, malaria and neglected tropical diseases and combat hepatitis, water-borne diseases and other communicable diseases  Target 3.4 By 2030, reduce by one third premature mortality from non-communicable diseases through prevention and treatment and promote mental health and wellbeing  Target 3.5 Strengthen the prevention and treatment of substance abuse, including narcotic drug abuse and harmful use of alcohol  Target 3.6 By 2020, halve the number of global deaths and injuries from road traffic accidents'),\n",
       " Document(metadata={}, page_content='prevention and treatment of substance abuse, including narcotic drug abuse and harmful use of alcohol  Target 3.6 By 2020, halve the number of global deaths and injuries from road traffic accidents  Target 3.7 By 2030, ensure universal access to sexual and reproductive health-care services, including for family planning, information and education, and the integration of reproductive health into national strategies and programmes  Target 3.8 Achieve universal health coverage, including financial risk protection, access to quality essential health-care services and access to safe, effective, quality and affordable essential medicines and vaccines for all  Target 3.9 By 2030, substantially reduce the number of deaths and illnesses from hazardous chemicals and air, water and soil pollution and contamination  Target 3.a Strengthen the implementation of the World Health Organization Framework Convention on Tobacco Control in all countries, as appropriate  Target 3.b Support the research and'),\n",
       " Document(metadata={}, page_content='contamination  Target 3.a Strengthen the implementation of the World Health Organization Framework Convention on Tobacco Control in all countries, as appropriate  Target 3.b Support the research and development of vaccines and medicines for the communicable and non-communicable diseases that primarily affect developing Transforming our world: the 2030 Agenda for Sustainable Development A/RES/70/1 17/35 countries, provide access to affordable essential medicines and vaccines, in accordance with the Doha Declaration on the TRIPS Agreement and Public Health, which affirms the right of developing countries to use to the full the provisions in the Agreement on Trade-Related Aspects of Intellectual Property Rights regarding flexibilities to protect public health, and, in particular, provide access to medicines for all  Target 3.c Substantially increase health financing and the recruitment, development, training and retention of the health workforce in developing countries, especially in'),\n",
       " Document(metadata={}, page_content='access to medicines for all  Target 3.c Substantially increase health financing and the recruitment, development, training and retention of the health workforce in developing countries, especially in least developed countries and small island developing States  Target 3.d Strengthen the capacity of all countries, in particular developing countries, for early warning, risk reduction and management of national and global health risksGoal 4. Ensure inclusive and equitable quality education and promote lifelong learning opportunities for all  Target 4.1 By 2030, ensure that all girls and boys complete free, equitable and quality primary and secondary education leading to relevant and effective learning outcomes  Target 4.2 By 2030, ensure that all girls and boys have access to quality early childhood development, care and pre-primary education so that they are ready for primary education  Target 4.3 By 2030, ensure equal access for all women and men to affordable and quality technical,'),\n",
       " Document(metadata={}, page_content='childhood development, care and pre-primary education so that they are ready for primary education  Target 4.3 By 2030, ensure equal access for all women and men to affordable and quality technical, vocational and tertiary education, including university  Target 4.4 By 2030, substantially increase the number of youth and adults who have relevant skills, including technical and vocational skills, for employment, decent jobs and entrepreneurship  Target 4.5 By 2030, eliminate gender disparities in education and ensure equal access to all levels of education and vocational training for the vulnerable, including persons with disabilities, indigenous peoples and children in vulnerable situations  Target 4.6 By 2030, ensure that all youth and a substantial proportion of adults, both men and women, achieve literacy and numeracy  Target 4.7 By 2030, ensure that all learners acquire the knowledge and skills needed to promote sustainable development, including, among others, through education'),\n",
       " Document(metadata={}, page_content='achieve literacy and numeracy  Target 4.7 By 2030, ensure that all learners acquire the knowledge and skills needed to promote sustainable development, including, among others, through education for sustainable development and sustainable lifestyles, human rights, gender equality, promotion of a culture of peace and non-violence, global citizenship and appreciation of cultural diversity and of culture’s contribution to sustainable development  Target 4.a Build and upgrade education facilities that are child, disability and gender sensitive and provide safe, non-violent, inclusive and effective learning environments for all Target 4.b By 2020, substantially expand globally the number of scholarships available to developing countries, in particular least developed countries, small island developing States and African countries, for enrolment in higher education, including vocational training and information and communications technology, technical, engineering and scientific programmes,'),\n",
       " Document(metadata={}, page_content='States and African countries, for enrolment in higher education, including vocational training and information and communications technology, technical, engineering and scientific programmes, in developed countries and other developing countries  Target 4.c By 2030, substantially increase the supply of qualified teachers, including through international cooperation for teacher training in'),\n",
       " Document(metadata={}, page_content='in developed countries and other developing countries  Target 4.c By 2030, substantially increase the supply of qualified teachers, including through international cooperation for teacher training in developing countries, especially least developed countries and small island developing States A/RES/70/1 Transforming our world: the 2030 Agenda for Sustainable Development 18/35Goal 5. Achieve gender equality and empower all women and girls  Target 5.1 End all forms of discrimination against all women and girls everywhere  Target 5.2 Eliminate all forms of violence against all women and girls in the public and private spheres, including trafficking and sexual and other types of exploitation  Target 5.3 Eliminate all harmful practices, such as child, early and forced marriage and female genital mutilation  Target 5.4 Recognize and value unpaid care and domestic work through the provision of public services, infrastructure and social protection policies and the promotion of shared'),\n",
       " Document(metadata={}, page_content='genital mutilation  Target 5.4 Recognize and value unpaid care and domestic work through the provision of public services, infrastructure and social protection policies and the promotion of shared responsibility within the household and the family as nationally appropriate  Target 5.5 Ensure women’s full and effective participation and equal opportunities for leadership at all levels of decision-making in political, economic and public life  Target 5.6 Ensure universal access to sexual and reproductive health and reproductive rights as agreed in accordance with the Programme of Action of the International Conference on Population and Development and the Beijing Platform for Action and the outcome documents of their review conferences  Target 5.a Undertake reforms to give women equal rights to economic resources, as well as access to ownership and control over land and other forms of property, financial services, inheritance and natural resources, in accordance with national laws'),\n",
       " Document(metadata={}, page_content='to economic resources, as well as access to ownership and control over land and other forms of property, financial services, inheritance and natural resources, in accordance with national laws  Target 5.b Enhance the use of enabling technology, in particular information and communications technology, to promote the empowerment of women  Target 5.c Adopt and strengthen sound policies and enforceable legislation for the promotion of gender equality and the empowerment of all women and girls at all levelsGoal 6. Ensure availability and sustainable management of water and sanitation for all  Target 6.1 By 2030, achieve universal and equitable access to safe and affordable drinking water for all  Target 6.2 By 2030, achieve access to adequate and equitable sanitation and hygiene for all and end open defecation, paying special attention to the needs of women and girls and those in vulnerable situations  Target 6.3 By 2030, improve water quality by reducing pollution, eliminating dumping and'),\n",
       " Document(metadata={}, page_content='open defecation, paying special attention to the needs of women and girls and those in vulnerable situations  Target 6.3 By 2030, improve water quality by reducing pollution, eliminating dumping and minimizing release of hazardous chemicals and materials, halving the proportion of untreated wastewater and substantially increasing recycling and safe reuse globally  Target 6.4 By 2030, substantially increase water-use efficiency across all sectors and ensure sustainable withdrawals and supply of freshwater to address water scarcity and substantially reduce the number of people suffering from water scarcity  Target 6.5 By 2030, implement integrated water resources management at all levels, including through transboundary cooperation as appropriate  Target 6.6 By 2020, protect and restore water-related ecosystems, including mountains, forests, wetlands, rivers, aquifers and lakes Transforming our world: the 2030 Agenda for Sustainable Development A/RES/70/1 19/35  Target 6.a By 2030,'),\n",
       " Document(metadata={}, page_content='water-related ecosystems, including mountains, forests, wetlands, rivers, aquifers and lakes Transforming our world: the 2030 Agenda for Sustainable Development A/RES/70/1 19/35  Target 6.a By 2030, expand international cooperation and capacity-building support to developing countries in water- and sanitation-related activities and programmes, including water harvesting, desalination, water efficiency, wastewater treatment, recycling and reuse technologies  Target 6.b Support and strengthen the participation of local communities in improving water and sanitation managementGoal 7. Ensure access to affordable, reliable, sustainable and modern energy for all  Target 7.1 By 2030, ensure universal access to affordable, reliable and modern energy services  Target 7.2 By 2030, increase substantially the share of renewable energy in the global energy mix  Target 7.3 By 2030, double the global rate of improvement in energy efficiency  Target 7.a By 2030, enhance international cooperation to'),\n",
       " Document(metadata={}, page_content='the share of renewable energy in the global energy mix  Target 7.3 By 2030, double the global rate of improvement in energy efficiency  Target 7.a By 2030, enhance international cooperation to facilitate access to clean energy research and technology, including renewable energy, energy efficiency and advanced and cleaner fossil-fuel technology, and promote investment in energy infrastructure and clean energy technology  Target 7.b By 2030, expand infrastructure and upgrade technology for supplying modern and sustainable energy services for all in developing countries, in particular least developed countries, small island developing States and landlocked developing countries, in accordance with their respective programmes of supportGoal 8. Promote sustained, inclusive and sustainable economic growth, full and productive employment and decent work for all  Target 8.1 Sustain per capita economic growth in accordance with national circumstances and, in particular, at least 7 per cent'),\n",
       " Document(metadata={}, page_content='growth, full and productive employment and decent work for all  Target 8.1 Sustain per capita economic growth in accordance with national circumstances and, in particular, at least 7 per cent gross domestic product growth per annum in the least developed countries  Target 8.2 Achieve higher levels of economic productivity through diversification, technological upgrading and innovation, including through a focus on high-value added and labour-intensive sectors  Target 8.3 Promote development-oriented policies that support productive activities, decent job creation, entrepreneurship, creativity and innovation, and encourage the formalization and growth of micro-, small- and medium-sized enterprises, including through access to financial services  Target 8.4 Improve progressively, through 2030, global resource efficiency in consumption and production and endeavour to decouple economic growth from environmental degradation, in accordance with the 10-Year Framework of Programmes on'),\n",
       " Document(metadata={}, page_content='2030, global resource efficiency in consumption and production and endeavour to decouple economic growth from environmental degradation, in accordance with the 10-Year Framework of Programmes on Sustainable Consumption and Production, with developed countries taking the lead  Target 8.5 By 2030, achieve full and productive employment and decent work for all women and men, including for young people and persons with disabilities, and equal pay for work of equal value  Target 8.6 By 2020, substantially reduce the proportion of youth not in employment, education or training A/RES/70/1 Transforming our world: the 2030 Agenda for Sustainable Development 20/35  Target 8.7 Take immediate and effective measures to eradicate forced labour, end modern slavery and human trafficking and secure the prohibition and elimination of the worst forms of child labour, including recruitment and use of child soldiers, and by 2025 end child labour in all its forms  Target 8.8 Protect labour rights and'),\n",
       " Document(metadata={}, page_content='prohibition and elimination of the worst forms of child labour, including recruitment and use of child soldiers, and by 2025 end child labour in all its forms  Target 8.8 Protect labour rights and promote safe and secure working environments for all workers, including migrant workers, in particular women migrants, and those in precarious employment  Target 8.9 By 2030, devise and implement policies to promote sustainable tourism that creates jobs and promotes local culture and products  Target 8.10 Strengthen the capacity of domestic financial institutions to encourage and expand access to banking, insurance and financial services for all  Target 8.a Increase Aid for Trade support for developing countries, in particular least developed countries, including through the Enhanced Integrated Framework for Trade-related Technical Assistance to Least Developed CountriesTarget 8.b By 2020, develop and operationalize a global strategy for youth employment and implement the Global Jobs Pact of'),\n",
       " Document(metadata={}, page_content='for Trade-related Technical Assistance to Least Developed CountriesTarget 8.b By 2020, develop and operationalize a global strategy for youth employment and implement the Global Jobs Pact of the International Labour OrganizationGoal 9. Build resilient infrastructure, promote inclusive and sustainable industrialization and foster innovation  Target 9.1 Develop quality, reliable, sustainable and resilient infrastructure, including regional and transborder infrastructure, to support economic development and human well-being, with a focus on affordable and equitable access for all Target 9.2 Promote inclusive and sustainable industrialization and, by 2030, significantly raise industry’s share of employment and gross domestic product, in line with national circumstances, and double its share in least developed countries  Target 9.3 Increase the access of small-scale industrial and other enterprises, in particular in developing countries, to financial services,including affordable credit,'),\n",
       " Document(metadata={}, page_content='in least developed countries  Target 9.3 Increase the access of small-scale industrial and other enterprises, in particular in developing countries, to financial services,including affordable credit, and their integration into value chains and markets  Target 9.4 By 2030, upgrade infrastructure and retrofit industries to make them sustainable, with increased resource-use efficiency and greater adoption of clean and environmentally sound technologies and industrial processes, with all countries taking action in accordance with their respective capabilities  Target 9.5 Enhance scientific research, upgrade the technological capabilities of industrial sectors in all countries, in particular developing countries, including, by 2030, encouraging innovation and substantially increasing the number of research and development workers per 1 million people and public and private research and development spending  Target 9.a Facilitate sustainable and resilient infrastructure development in'),\n",
       " Document(metadata={}, page_content='number of research and development workers per 1 million people and public and private research and development spending  Target 9.a Facilitate sustainable and resilient infrastructure development in developing countries through enhanced financial, technological and technical support to African countries, least developed countries, landlocked developing countries and small island developing States  Target 9.b Support domestic technology development, research and innovation in developing countries, including by ensuring a conducive policy environment for, inter alia, industrial diversification and value addition to commodities Transforming our world: the 2030 Agenda for Sustainable Development A/RES/70/1 21/35  Target 9.c Significantly increase access to information and communications technology and strive to provide universal and affordable access to the Internet in least developed countries by 2020Goal 10. Reduce inequality within and among countries Target 10.1By 2030, progressively'),\n",
       " Document(metadata={}, page_content='and strive to provide universal and affordable access to the Internet in least developed countries by 2020Goal 10. Reduce inequality within and among countries Target 10.1By 2030, progressively achieve and sustain income growth of the bottom 40 per cent of the population at a rate higher than the national average  Target 10.2 By 2030, empower and promote the social, economic and political'),\n",
       " Document(metadata={}, page_content='achieve and sustain income growth of the bottom 40 per cent of the population at a rate higher than the national average  Target 10.2 By 2030, empower and promote the social, economic and political inclusion of all, irrespective of age, sex, disability, race, ethnicity, origin, religion or economic or other status  Target 10.3 Ensure equal opportunity and reduce inequalities of outcome, including by eliminating discriminatory laws, policies and practices and promoting appropriate legislation, policies and action in this regard  Target 10.4 Adopt policies, especially fiscal, wage and social protection policies, and progressively achieve greater equality  Target 10.5 Improve the regulation and monitoring of global financial markets and institutions and strengthen the implementation of such regulations  Target 10.6 Ensure enhanced representation and voice for developing countries in decision-making in global international economic and financial institutions in order to deliver more'),\n",
       " Document(metadata={}, page_content='such regulations  Target 10.6 Ensure enhanced representation and voice for developing countries in decision-making in global international economic and financial institutions in order to deliver more effective, credible, accountable and legitimate institutions  Target 10.7 Facilitate orderly, safe, regular and responsible migration and mobility of people, including through the implementation of planned and well-managed migration policies  Target 10.a Implement the principle of special and differential treatment for developing countries, in particular least developed countries, in accordance with World Trade Organization agreements  Target 10.b Encourage official development assistance and financial flows, including foreign direct investment, to States where the need is greatest, in particular least developed countries, African countries, small island developing States and landlocked developing countries, in accordance with their national plans and programmes  Target 10.c By 2030,'),\n",
       " Document(metadata={}, page_content='least developed countries, African countries, small island developing States and landlocked developing countries, in accordance with their national plans and programmes  Target 10.c By 2030, reduce to less than 3 per cent the transaction costs of migrant remittances and eliminate remittance corridors with costs higher than 5 percentGoal 11. Make cities and human settlements inclusive, safe, resilient and sustainable  Target 11.1 By 2030, ensure access for all to adequate, safe and affordable housing and basic services and upgrade slums  Target 11.2 By 2030, provide access to safe, affordable, accessible and sustainable transport systems for all, improving road safety, notably by expanding public transport, with special attention to the needs of those in vulnerable situations, women, children, persons with disabilities and older persons  Target 11.3 By 2030, enhance inclusive and sustainable urbanization and capacity for participatory, integrated and sustainable human settlement'),\n",
       " Document(metadata={}, page_content='children, persons with disabilities and older persons  Target 11.3 By 2030, enhance inclusive and sustainable urbanization and capacity for participatory, integrated and sustainable human settlement planning and management in all countries Target 11.4 Strengthen efforts to protect and safeguard the world’s cultural and natural heritage  Target 11.5 By 2030, significantly reduce the number of deaths and the number of people affected and substantially decrease the direct economic losses relative to global gross domestic product caused by disasters, including water-related disasters, with a focus on protecting the poor and people in vulnerable situations  Target 11.6 By 2030, reduce the adverse per capita environmental impact of cities, including by paying special attention to air quality and municipal and other waste management  Target 11.7 By 2030, provide universal access to safe, inclusive and accessible, green and public spaces, in particular for women and children, older persons'),\n",
       " Document(metadata={}, page_content='and municipal and other waste management  Target 11.7 By 2030, provide universal access to safe, inclusive and accessible, green and public spaces, in particular for women and children, older persons and persons with disabilities  Target 11.a Support positive economic, social and environmental links between urban, peri-urban and rural areas by strengthening national and regional development planning  Target 11.b By 2020, substantially increase the number of cities and human settlements adopting and implementing integrated policies and plans towards inclusion, resource efficiency, mitigation and adaptation to climate change, resilience to disasters, and develop and implement, in line with the Sendai Framework for Disaster Risk Reduction 2015–2030, holistic disaster risk management at all levels  Target 11.c Support least developed countries, including through financial and technical assistance, in building sustainable and resilient buildings utilizing local materialsGoal 12. Ensure'),\n",
       " Document(metadata={}, page_content='levels  Target 11.c Support least developed countries, including through financial and technical assistance, in building sustainable and resilient buildings utilizing local materialsGoal 12. Ensure sustainable consumption and production patterns  Target 12.1 Implement the 10-Year Framework of Programmes on Sustainable Consumption and Production Patterns, all countries taking action, with developed countries taking the lead, taking into account the development and capabilities of developing countries  Target 12.2 By 2030, achieve the sustainable management and efficient use of natural resources  Target 12.3 By 2030, halve per capita global food waste at the retail and consumer levels and reduce food losses along production and supply chains, including post-harvest losses  Target 12.4 By 2020, achieve the environmentally sound management of chemicals and all wastes throughout their life cycle, in accordance with agreed international frameworks, and significantly reduce their release to'),\n",
       " Document(metadata={}, page_content='achieve the environmentally sound management of chemicals and all wastes throughout their life cycle, in accordance with agreed international frameworks, and significantly reduce their release to air, water and soil in order to minimize their adverse impacts on human health and the environment  Target 12.5 By 2030, substantially reduce waste generation through prevention, reduction, recycling and reuse  Target 12.6 Encourage companies, especially large and transnational companies, to adopt sustainable practices and to integrate sustainability information into their reporting cycle  Target 12.7 Promote public procurement practices that are sustainable, in accordance with national policies and priorities Target 12.8 By 2030, ensure that people everywhere have the relevant information and awareness for sustainable development and lifestyles in harmony with nature  Target 12.a Support developing countries to strengthen their scientific and technological capacity to move towards more'),\n",
       " Document(metadata={}, page_content='awareness for sustainable development and lifestyles in harmony with nature  Target 12.a Support developing countries to strengthen their scientific and technological capacity to move towards more sustainable patterns of consumption and production  Target 12.b Develop and implement tools to monitor sustainable development impacts for sustainable tourism that creates jobs and promotes local culture and products  Target 12.c Rationalize inefficient fossil-fuel subsidies that encourage wasteful consumption by removing market distortions, in accordance with national circumstances, including by restructuring taxation and phasing out those harmful subsidies, where they exist, to reflect their environmental impacts, taking fully into account the specific needs and conditions of developing countries and minimizing the possible adverse impacts on their development in a manner that protects the poor and the affected communitiesGoal 13. Take urgent action to combat climate change and its impacts'),\n",
       " Document(metadata={}, page_content='and minimizing the possible adverse impacts on their development in a manner that protects the poor and the affected communitiesGoal 13. Take urgent action to combat climate change and its impacts Target 13.1 Strengthen resilience and adaptive capacity to climate-related hazards and natural disasters in all countries  Target 13.2 Integrate climate change measures into national policies, strategies and planning  Target 13.3 Improve education, awareness-raising and human and institutional capacity on climate change mitigation, adaptation, impact reduction and early warning  Target 13.a Implement the commitment undertaken by developed-country parties to the United Nations Framework Convention on Climate Change to a goal of mobilizing jointly $100 billion annually by 2020 from all sources to address the needs of developing countries in the context of meaningful mitigation actions and transparency on implementation and fully operationalize the Green Climate Fund through its capitalization'),\n",
       " Document(metadata={}, page_content='address the needs of developing countries in the context of meaningful mitigation actions and transparency on implementation and fully operationalize the Green Climate Fund through its capitalization as soon as possible  Target 13.b Promote mechanisms for raising capacity for effective climate change-related planning and management in least developed countries and small island developing States, including focusing on women, youth and local and marginalized communitiesGoal 14. Conserve and sustainably use the oceans, seas and marine resources for sustainable development  Target 14.1 By 2025, prevent and significantly reduce marine pollution of all kinds, in particular from land-based activities, including marine debris and nutrient pollution  Target 14.2 By 2020, sustainably manage and protect marine and coastal ecosystems to avoid significant adverse impacts, including by strengthening their resilience, and take action for their restoration in order to achieve healthy and productive'),\n",
       " Document(metadata={}, page_content='marine and coastal ecosystems to avoid significant adverse impacts, including by strengthening their resilience, and take action for their restoration in order to achieve healthy and productive oceans  Target 14.3 Minimize and address the impacts of ocean acidification, including through enhanced scientific cooperation at all levels  Target 14.4 By 2020, effectively regulate harvesting and end overfishing, illegal, unreported and unregulated fishing and destructive fishing practices and implement science-based management plans, in order to restore fish stocks in the shortest time feasible, at least to levels that can produce maximum sustainable yield as determined by their biological characteristics  Target 14.5 By 2020, conserve at least 10 per cent of coastal and marine areas, consistent with national and international law and based on the best available scientific information  Target 14.6 By 2020, prohibit certain forms of fisheries subsidies which contribute to overcapacity and'),\n",
       " Document(metadata={}, page_content='with national and international law and based on the best available scientific information  Target 14.6 By 2020, prohibit certain forms of fisheries subsidies which contribute to overcapacity and overfishing, eliminate subsidies that contribute to illegal, unreported and unregulated fishing and refrain from introducing new such subsidies, recognizing that appropriate and effective special and differential treatment for developing and least developed countries should be an integral part of the World Trade Organization fisheries subsidies negotiation Target 14.7 By 2030, increase the economic benefits to small island developing States and least developed countries from the sustainable use of marine resources, including through sustainable management of fisheries, aquaculture and tourism  Target 14.a Increase scientific knowledge, develop research capacity and transfer marine technology, taking into account the Intergovernmental Oceanographic Commission Criteria and Guidelines on the'),\n",
       " Document(metadata={}, page_content='Target 14.a Increase scientific knowledge, develop research capacity and transfer marine technology, taking into account the Intergovernmental Oceanographic Commission Criteria and Guidelines on the Transfer of Marine Technology, in order to improve ocean health and to enhance the contribution of marine biodiversity to the development of developing countries, in particular small island developing States'),\n",
       " Document(metadata={}, page_content='of Marine Technology, in order to improve ocean health and to enhance the contribution of marine biodiversity to the development of developing countries, in particular small island developing States and least developed countries  Target 14.b Provide access for small-scale artisanal fishers to marine resources and markets  Target 14.c Enhance the conservation and sustainable use of oceans and their resources by implementing international law as reflected in the United Nations Convention on the Law of the Sea, which provides the legal framework for the conservation and sustainable use of oceans and their resources, as recalled in paragraph 158 of “The future we want”Goal 15. Protect, restore and promote sustainable use of terrestrial ecosystems, sustainably manage forests, combat desertification, and halt and reverse land degradation and halt biodiversity loss Target 15.1 By 2020, ensure the conservation, restoration and sustainable use of terrestrial and inland freshwater ecosystems and'),\n",
       " Document(metadata={}, page_content='and halt and reverse land degradation and halt biodiversity loss Target 15.1 By 2020, ensure the conservation, restoration and sustainable use of terrestrial and inland freshwater ecosystems and their services, in particular forests, wetlands, mountains and drylands, in line with obligations under international agreements  Target 15.2 By 2020, promote the implementation of sustainable management of all types of forests, halt deforestation, restore degraded forests and substantially increase afforestation and reforestation globally  Target 15.3 By 2030, combat desertification, restore degraded land and soil, including land affected by desertification, drought and floods, and strive to achieve a land degradation-neutral world Target 15.4 By 2030, ensure the conservation of mountain ecosystems, including their biodiversity, in order to enhance their capacity to provide benefits that are essential for sustainable development  Target 15.5 Take urgent and significant action to reduce the'),\n",
       " Document(metadata={}, page_content='including their biodiversity, in order to enhance their capacity to provide benefits that are essential for sustainable development  Target 15.5 Take urgent and significant action to reduce the degradation of natural habitats, halt the loss of biodiversity and, by 2020, protect and prevent the extinction of threatened species  Target 15.6 Promote fair and equitable sharing of the benefits arising from the utilization of genetic resources and promote appropriate access to such resources, as internationally agreed  Target 15.7 Take urgent action to end poaching and trafficking of protected species of flora and fauna and address both demand and supply of illegal wildlife products  Target 15.8 By 2020, introduce measures to prevent the introduction and significantly reduce the impact of invasive alien species on land and water ecosystems and control or eradicate the priority species  Target 15.9 By 2020, integrate ecosystem and biodiversity values into national and local planning,'),\n",
       " Document(metadata={}, page_content='invasive alien species on land and water ecosystems and control or eradicate the priority species  Target 15.9 By 2020, integrate ecosystem and biodiversity values into national and local planning, development processes, poverty reduction strategies and accounts  Target 15.a Mobilize and significantly increase financial resources from all sources to conserve and sustainably use biodiversity and ecosystems  Target 15.b Mobilize significant resources from all sources and at all levels to finance sustainable forest management and provide adequate incentives to developing countries to advance such management, including for conservation and reforestation  Target 15.c Enhance global support for efforts to combat poaching and trafficking of protected species, including by increasing the capacity of local communities to pursue sustainable livelihood opportunitiesGoal 16. Promote peaceful and inclusive societies for sustainable development, provide access to justice for all and build'),\n",
       " Document(metadata={}, page_content='capacity of local communities to pursue sustainable livelihood opportunitiesGoal 16. Promote peaceful and inclusive societies for sustainable development, provide access to justice for all and build effective, accountable and inclusive institutions at all levels  Target 16.1 Significantly reduce all forms of violence and related death rates everywhere  Target 16.2 End abuse, exploitation, trafficking and all forms of violence against and torture of children  Target 16.3 Promote the rule of law at the national and international levels and ensure equal access to justice for all  Target 16.4 By 2030, significantly reduce illicit financial and arms flows, strengthen the recovery and return of stolen assets and combat all forms of organized crime  Target 16.5 Substantially reduce corruption and bribery in all their forms  Target 16.6 Develop effective, accountable and transparent institutions at all levels  Target 16.7 Ensure responsive, inclusive, participatory and representative decision'),\n",
       " Document(metadata={}, page_content='bribery in all their forms  Target 16.6 Develop effective, accountable and transparent institutions at all levels  Target 16.7 Ensure responsive, inclusive, participatory and representative decision making at all levels  Target 16.8 Broaden and strengthen the participation of developing countries in the institutions of global governance  Target 16.9 By 2030, provide legal identity for all, including birth registration Target 16.10 Ensure public access to information and protect fundamental freedoms, in accordance with national legislation and international agreements  Target 16.a Strengthen relevant national institutions, including through international cooperation, for building capacity at all levels, in particular in developing countries, to prevent violence and combat terrorism and crime  Target 16.b Promote and enforce non-discriminatory laws and policies for sustainable developmentGoal 17. Strengthen the means of implementation and revitalize the Global Partnership for'),\n",
       " Document(metadata={}, page_content='and crime  Target 16.b Promote and enforce non-discriminatory laws and policies for sustainable developmentGoal 17. Strengthen the means of implementation and revitalize the Global Partnership for Sustainable Development Finance  Target 17.1 Strengthen domestic resource mobilization, including through international support to developing countries, to improve domestic capacity for tax and other revenue collection  Target 17.2 Developed countries to implement fully their official development assistance commitments, including the commitment by many developed countries to achieve the target of 0.7 per cent of gross national income for official development assistance (ODA/GNI) to developing countries and 0.15 to 0.20 per cent of ODA/GNI to least developed countries; ODA providers are encouraged to consider setting a target to provide at least 0.20 per cent of ODA/GNI to least developed countries  Target 17.3 Mobilize additional financial resources for developing countries from multiple'),\n",
       " Document(metadata={}, page_content='to consider setting a target to provide at least 0.20 per cent of ODA/GNI to least developed countries  Target 17.3 Mobilize additional financial resources for developing countries from multiple sources  Target 17.4 Assist developing countries in attaining long-term debt sustainability through coordinated policies aimed at fostering debt financing, debt relief and debt restructuring, as appropriate, and address the external debt of highly indebted poor countries to reduce debt distress  Target 17.5 Adopt and implement investment promotion regimes for least developed countries Technology  Target 17.6 Enhance North-South, South-South and triangular regional and international cooperation on and access to science, technology and innovation and enhance knowledge sharing on mutually agreed terms, including through improved coordination among existing mechanisms, in particular at the United Nations level, and through a global technology facilitation mechanism  Target 17.7 Promote the'),\n",
       " Document(metadata={}, page_content='terms, including through improved coordination among existing mechanisms, in particular at the United Nations level, and through a global technology facilitation mechanism  Target 17.7 Promote the development, transfer, dissemination and diffusion of environmentally sound technologies to developing countries on favourable terms, including on concessional and preferential terms, as mutually agreed  Target 17.8 Fully operationalize the technology bank and science, technology and innovation capacity-building mechanism for least developed countries by 2017 and enhance the use of enabling technology, in particular information and communications technology Capacity-building  Target 17.9 Enhance international support for implementing effective and targeted capacity-building in developing countries to support national plans to implement all the Sustainable Development Goals, including through North-South, South-South and triangular cooperationTrade  Target 17.10 Promote a universal,'),\n",
       " Document(metadata={}, page_content='countries to support national plans to implement all the Sustainable Development Goals, including through North-South, South-South and triangular cooperationTrade  Target 17.10 Promote a universal, rules-based, open, non-discriminatory and equitable multilateral trading system under the World Trade Organization, including through the conclusion of negotiations under its Doha Development Agenda  Target 17.11 Significantly increase the exports of developing countries, in particular with a view to doubling the least developed countries’ share of global exports by 2020  Target 17.12 Realize timely implementation of duty-free and quota-free market access on a lasting basis for all least developed countries, consistent with World Trade Organization decisions, including by ensuring that preferential rules of origin applicable to imports from least developed countries are transparent and simple, and contribute to facilitating market access  Systemic issues  Policy and institutional coherence'),\n",
       " Document(metadata={}, page_content='rules of origin applicable to imports from least developed countries are transparent and simple, and contribute to facilitating market access  Systemic issues  Policy and institutional coherence  Target 17.13 Enhance global macroeconomic stability, including through policy coordination and policy coherence  Target 17.14 Enhance policy coherence for sustainable development  Target 17.15 Respect each country’s policy space and leadership to establish and implement policies for poverty eradication and sustainable development Multi-stakeholder partnerships  Target 17.16 Enhance the Global Partnership for Sustainable Development, complemented by multi-stakeholder partnerships that mobilize and share knowledge, expertise, technology and financial resources, to support the achievement of the Sustainable Development Goals in all countries, in particular developing countries  Target 17.17 Encourage and promote effective public, public-private and civil society partnerships, building on the'),\n",
       " Document(metadata={}, page_content='Sustainable Development Goals in all countries, in particular developing countries  Target 17.17 Encourage and promote effective public, public-private and civil society partnerships, building on the experience and resourcing strategies of partnerships Data, monitoring and accountability  Target 17.18 By 2020, enhance capacity-building support to developing countries, including for least developed countries and small island developing States, to increase significantly the availability of high-quality, timely and reliable data disaggregated by income, gender, age, race, ethnicity, migratory status, disability, geographic location and other characteristics relevant in national contexts  Target 17.19 By 2030, build on existing initiatives to develop measurements of progress on sustainable development that complement gross domestic product, and support statistical capacity-building in developing countries')]"
      ]
     },
     "execution_count": 38,
     "metadata": {},
     "output_type": "execute_result"
    }
   ],
   "source": [
    "chunk_ans_gen"
   ]
  },
  {
   "cell_type": "code",
   "execution_count": 39,
   "id": "bde1d1fe",
   "metadata": {},
   "outputs": [
    {
     "data": {
      "text/plain": [
       "51"
      ]
     },
     "execution_count": 39,
     "metadata": {},
     "output_type": "execute_result"
    }
   ],
   "source": [
    "len(chunk_ans_gen)"
   ]
  },
  {
   "cell_type": "code",
   "execution_count": 40,
   "id": "c89d62e3",
   "metadata": {},
   "outputs": [],
   "source": [
    "from langchain_groq import ChatGroq"
   ]
  },
  {
   "cell_type": "code",
   "execution_count": 42,
   "id": "88c8b4bc",
   "metadata": {},
   "outputs": [],
   "source": [
    "llm_ques_gen_pipeline = ChatGroq(model=\"llama-3.3-70b-versatile\")"
   ]
  },
  {
   "cell_type": "code",
   "execution_count": 43,
   "id": "7ccf434c",
   "metadata": {},
   "outputs": [],
   "source": [
    "prompt_template=\"\"\"\n",
    "You are an expert at creating questions based on materials and documentation provided.\n",
    "Your goal is to prepare user for their exams and tests.\n",
    "\n",
    "------\n",
    "{text}\n",
    "------\n",
    "\n",
    "Create questions that will prepare user for their exams and tests.\n",
    "Make sure not to loose any important information.\n",
    "\n",
    "QUESTIONS:\n",
    "\"\"\""
   ]
  },
  {
   "cell_type": "code",
   "execution_count": 44,
   "id": "047cb95d",
   "metadata": {},
   "outputs": [],
   "source": [
    "from langchain.prompts import PromptTemplate"
   ]
  },
  {
   "cell_type": "code",
   "execution_count": 45,
   "id": "1b005663",
   "metadata": {},
   "outputs": [],
   "source": [
    "PROMPT_QUESTIONS= PromptTemplate(template=prompt_template,input_variables=['text'])"
   ]
  },
  {
   "cell_type": "code",
   "execution_count": null,
   "id": "669b762d",
   "metadata": {},
   "outputs": [],
   "source": [
    "refine_template = (\"\"\"\n",
    "You are an expert at creating questions based on materials and documentation provided.\n",
    "Your goal is to prepare user for their exams and tests.\n",
    "We have received some practice questions to a certain extent:{existing_answer}.\n",
    "We have the option to refine the questions or add new one (only if neccessary) with some more context below.\n",
    "\n",
    "------------\n",
    "{text}\n",
    "------------\n",
    "\n",
    "Given the new content, refine the orginial questions in English.\n",
    "If the context is not helpful, please provide the original questions.\n",
    "QUESTIONS:\n",
    "\"\"\")"
   ]
  },
  {
   "cell_type": "code",
   "execution_count": null,
   "id": "2d635d86",
   "metadata": {},
   "outputs": [],
   "source": [
    "REFINE_PROMPT_TEMPLATE= PromptTemplate(\n",
    "    input_variables=[\"existing_answers\",\"text\"],\n",
    "    template=refine_template,\n",
    ")"
   ]
  },
  {
   "cell_type": "code",
   "execution_count": 48,
   "id": "1caf70d4",
   "metadata": {},
   "outputs": [],
   "source": [
    "from langchain.chains.summarize import load_summarize_chain"
   ]
  },
  {
   "cell_type": "code",
   "execution_count": 49,
   "id": "86af664e",
   "metadata": {},
   "outputs": [],
   "source": [
    "ques_gen_chain=load_summarize_chain(\n",
    "    llm=llm_ques_gen_pipeline,\n",
    "    chain_type=\"refine\",\n",
    "    verbose=True,\n",
    "    question_prompt=PROMPT_QUESTIONS,\n",
    "    refine_prompt=REFINE_PROMPT_TEMPLATE,\n",
    "\n",
    ")"
   ]
  },
  {
   "cell_type": "code",
   "execution_count": 50,
   "id": "26a28b7e",
   "metadata": {},
   "outputs": [
    {
     "name": "stderr",
     "output_type": "stream",
     "text": [
      "/var/folders/00/6gmykrw13ylb0nr60ggprq8c0000gn/T/ipykernel_91450/1135716077.py:1: LangChainDeprecationWarning: The method `Chain.run` was deprecated in langchain 0.1.0 and will be removed in 1.0. Use :meth:`~invoke` instead.\n",
      "  ques=ques_gen_chain.run(document_ques_gen)\n"
     ]
    },
    {
     "name": "stdout",
     "output_type": "stream",
     "text": [
      "\n",
      "\n",
      "\u001b[1m> Entering new RefineDocumentsChain chain...\u001b[0m\n",
      "\n",
      "\n",
      "\u001b[1m> Entering new LLMChain chain...\u001b[0m\n",
      "Prompt after formatting:\n",
      "\u001b[32;1m\u001b[1;3m\n",
      "You are an expert at creating questions based on materials and documentation provided.\n",
      "Your goal is to prepare user for their exams and tests.\n",
      "\n",
      "------\n",
      "4th SDG Y outh Summer Camp – SDG Resource Document The 2030 Agenda for Sustainable Development’s 17 Sustainable Development Goals (SDGs)   Goal: This document enables 4th SDG Youth Summer Camp participants to i) get to know the 17 SDGs, ii) explore what areas each goal covers under its targets, iii) identify targets of most interest to participants, and iv) identify synergies between the SDGs and chosen target(s).    Goal 1. End poverty in all its forms everywhere  Target 1.1 By 2030, eradicate extreme poverty for all people everywhere, currently measured as people living on less than $1.25 a day  Target 1.2 By 2030, reduce at least by half the proportion of men, women and children of all ages living in poverty in all its dimensions according to national definitions  Target 1.3 Implement nationally appropriate social protection systems and measures for all, including floors, and by 2030 achieve substantial coverage of the poor and the vulnerable  Target 1.4 By 2030, ensure that all men and women, in particular the poor and the vulnerable, have equal rights to economic resources, as well as access to basic services, ownership and control over land and other forms of property, inheritance, natural resources, appropriate new technology and financial services, including microfinance  Target 1.5 By 2030, build the resilience of the poor and those in vulnerable situations and reduce their exposure and vulnerability to climate-related extreme events and other economic, social and environmental shocks and disasters  Target 1.a Ensure significant mobilization of resources from a variety of sources, including through enhanced development cooperation, in order to provide adequate and predictable means for developing countries, in particular least developed countries, to implement programmes and policies to end poverty in all its dimensions  Target 1.b Create sound policy frameworks at the national, regional and international levels, based on pro-poor and gender-sensitive development strategies, to support accelerated investment in poverty eradication actionsGoal 2. End hunger, achieve food security and improved nutrition and promote sustainable agriculture  Target 2.1 By 2030, end hunger and ensure access by all people, in particular the poor and people in vulnerable situations, including infants, to safe, nutritious and sufficient food all year round  Target 2.2 By 2030, end all forms of malnutrition, including achieving, by 2025, the internationally agreed targets on stunting and wasting in children under 5 years of age, and address the nutritional needs of adolescent girls, pregnant and lactating women and older persons  Target 2.3 By 2030, double the agricultural productivity and incomes of small-scale food producers, in particular women, indigenous peoples, family farmers, pastoralists and fishers, including through secure and equal access to land, other productive resources and inputs, knowledge, financial services, markets and opportunities for value addition and non-farm employment  Target 2.4 By 2030, ensure sustainable food production systems and implement resilient agricultural practices that increase productivity and production, that help maintain ecosystems, that strengthen capacity for adaptation to climate change, extreme weather, drought, flooding and other disasters and that progressively improve land and soil quality  Target 2.5 By 2020, maintain the genetic diversity of seeds, cultivated plants and farmed and domesticated animals and their related wild species, including through soundly A/RES/70/1 Transforming our world: the 2030 Agenda for Sustainable Development 16/35 managed and diversified seed and plant banks at the national, regional and international levels, and promote access to and fair and equitable sharing of benefits arising from the utilization of genetic resources and associated traditional knowledge, as internationally agreed  Target 2.a Increase investment, including through enhanced international cooperation, in rural infrastructure, agricultural research and extension services, technology development and plant and livestock gene banks in order to enhance agricultural productive capacity in developing countries, in particular least developed countries  Target 2.b Correct and prevent trade restrictions and distortions in world agricultural markets, including through the parallel elimination of all forms of agricultural export subsidies and all export measures with equivalent effect, in accordance with the mandate of the Doha Development Round  Target 2.c Adopt measures to ensure the proper functioning of food commodity markets and their derivatives and facilitate timely access to market information, including on food reserves, in order to help limit extreme food price volatilityGoal 3. Ensure healthy lives and promote well-being for all at all ages  Target 3.1 By 2030, reduce the global maternal mortality ratio to less than 70 per 100,000 live births  Target 3.2 By 2030, end preventable deaths of newborns and children under 5 years of age, with all countries aiming to reduce neonatal mortality to at least as low as 12 per 1,000 live births and under-5 mortality to at least as low as 25 per 1,000 live births  Target 3.3 By 2030, end the epidemics of AIDS, tuberculosis, malaria and neglected tropical diseases and combat hepatitis, water-borne diseases and other communicable diseases  Target 3.4 By 2030, reduce by one third premature mortality from non-communicable diseases through prevention and treatment and promote mental health and wellbeing  Target 3.5 Strengthen the prevention and treatment of substance abuse, including narcotic drug abuse and harmful use of alcohol  Target 3.6 By 2020, halve the number of global deaths and injuries from road traffic accidents  Target 3.7 By 2030, ensure universal access to sexual and reproductive health-care services, including for family planning, information and education, and the integration of reproductive health into national strategies and programmes  Target 3.8 Achieve universal health coverage, including financial risk protection, access to quality essential health-care services and access to safe, effective, quality and affordable essential medicines and vaccines for all  Target 3.9 By 2030, substantially reduce the number of deaths and illnesses from hazardous chemicals and air, water and soil pollution and contamination  Target 3.a Strengthen the implementation of the World Health Organization Framework Convention on Tobacco Control in all countries, as appropriate  Target 3.b Support the research and development of vaccines and medicines for the communicable and non-communicable diseases that primarily affect developing Transforming our world: the 2030 Agenda for Sustainable Development A/RES/70/1 17/35 countries, provide access to affordable essential medicines and vaccines, in accordance with the Doha Declaration on the TRIPS Agreement and Public Health, which affirms the right of developing countries to use to the full the provisions in the Agreement on Trade-Related Aspects of Intellectual Property Rights regarding flexibilities to protect public health, and, in particular, provide access to medicines for all  Target 3.c Substantially increase health financing and the recruitment, development, training and retention of the health workforce in developing countries, especially in least developed countries and small island developing States  Target 3.d Strengthen the capacity of all countries, in particular developing countries, for early warning, risk reduction and management of national and global health risksGoal 4. Ensure inclusive and equitable quality education and promote lifelong learning opportunities for all  Target 4.1 By 2030, ensure that all girls and boys complete free, equitable and quality primary and secondary education leading to relevant and effective learning outcomes  Target 4.2 By 2030, ensure that all girls and boys have access to quality early childhood development, care and pre-primary education so that they are ready for primary education  Target 4.3 By 2030, ensure equal access for all women and men to affordable and quality technical, vocational and tertiary education, including university  Target 4.4 By 2030, substantially increase the number of youth and adults who have relevant skills, including technical and vocational skills, for employment, decent jobs and entrepreneurship  Target 4.5 By 2030, eliminate gender disparities in education and ensure equal access to all levels of education and vocational training for the vulnerable, including persons with disabilities, indigenous peoples and children in vulnerable situations  Target 4.6 By 2030, ensure that all youth and a substantial proportion of adults, both men and women, achieve literacy and numeracy  Target 4.7 By 2030, ensure that all learners acquire the knowledge and skills needed to promote sustainable development, including, among others, through education for sustainable development and sustainable lifestyles, human rights, gender equality, promotion of a culture of peace and non-violence, global citizenship and appreciation of cultural diversity and of culture’s contribution to sustainable development  Target 4.a Build and upgrade education facilities that are child, disability and gender sensitive and provide safe, non-violent, inclusive and effective learning environments for all Target 4.b By 2020, substantially expand globally the number of scholarships available to developing countries, in particular least developed countries, small island developing States and African countries, for enrolment in higher education, including vocational training and information and communications technology, technical, engineering and scientific programmes, in developed countries and other developing countries  Target 4.c By 2030, substantially increase the supply of qualified teachers, including through international cooperation for teacher training in\n",
      "------\n",
      "\n",
      "Create questions that will prepare user for their exams and tests.\n",
      "Make sure not to loose any important information.\n",
      "\n",
      "QUESTIONS:\n",
      "\u001b[0m\n",
      "\n",
      "\u001b[1m> Finished chain.\u001b[0m\n",
      "\n",
      "\n",
      "\u001b[1m> Entering new LLMChain chain...\u001b[0m\n",
      "Prompt after formatting:\n",
      "\u001b[32;1m\u001b[1;3m\n",
      "You are an expert at creating questions based on materials and documentation provided.\n",
      "Your goal is to prepare user for their exams and tests.\n",
      "We have received some practice questions to a certain extent:Here are some questions based on the provided text to help prepare users for their exams and tests:\n",
      "\n",
      "**Goal 1: End Poverty**\n",
      "\n",
      "1. What is the target date to eradicate extreme poverty for all people everywhere, currently measured as people living on less than $1.25 a day?\n",
      "2. What is the goal of Target 1.2, and how will it be achieved by 2030?\n",
      "3. What is the purpose of implementing nationally appropriate social protection systems and measures, as stated in Target 1.3?\n",
      "4. By 2030, what rights should all men and women, particularly the poor and vulnerable, have equal access to, according to Target 1.4?\n",
      "5. How will the resilience of the poor and those in vulnerable situations be built, and what will be reduced by 2030, as stated in Target 1.5?\n",
      "\n",
      "**Goal 2: End Hunger**\n",
      "\n",
      "1. By 2030, what is the goal of Target 2.1, and who will have access to safe, nutritious, and sufficient food all year round?\n",
      "2. What is the target date to end all forms of malnutrition, including achieving the internationally agreed targets on stunting and wasting in children under 5 years of age?\n",
      "3. How will the agricultural productivity and incomes of small-scale food producers be doubled by 2030, as stated in Target 2.3?\n",
      "4. What is the purpose of ensuring sustainable food production systems and implementing resilient agricultural practices, as stated in Target 2.4?\n",
      "5. By 2020, what is the goal of maintaining the genetic diversity of seeds, cultivated plants, and farmed and domesticated animals, as stated in Target 2.5?\n",
      "\n",
      "**Goal 3: Ensure Healthy Lives**\n",
      "\n",
      "1. By 2030, what is the target global maternal mortality ratio per 100,000 live births, as stated in Target 3.1?\n",
      "2. What is the goal of Target 3.2, and what is the target neonatal mortality rate per 1,000 live births?\n",
      "3. By 2030, what diseases will be ended, and what will be combated, as stated in Target 3.3?\n",
      "4. How will premature mortality from non-communicable diseases be reduced by 2030, as stated in Target 3.4?\n",
      "5. By 2020, what is the goal of reducing the number of global deaths and injuries from road traffic accidents, as stated in Target 3.6?\n",
      "\n",
      "**Goal 4: Ensure Inclusive and Equitable Quality Education**\n",
      "\n",
      "1. By 2030, what is the goal of ensuring that all girls and boys complete free, equitable, and quality primary and secondary education, as stated in Target 4.1?\n",
      "2. By 2030, what is the goal of ensuring that all girls and boys have access to quality early childhood development, care, and pre-primary education, as stated in Target 4.2?\n",
      "3. How will equal access for all women and men to affordable and quality technical, vocational, and tertiary education be ensured by 2030, as stated in Target 4.3?\n",
      "4. By 2030, what is the goal of substantially increasing the number of youth and adults who have relevant skills, including technical and vocational skills, as stated in Target 4.4?\n",
      "5. By 2030, what is the goal of eliminating gender disparities in education and ensuring equal access to all levels of education and vocational training, as stated in Target 4.5?\n",
      "\n",
      "**General Questions**\n",
      "\n",
      "1. What are the 17 Sustainable Development Goals (SDGs) aimed at achieving by 2030?\n",
      "2. What is the purpose of the 4th SDG Youth Summer Camp, and what will participants learn from the SDG Resource Document?\n",
      "3. How will the targets of the SDGs be achieved, and what is the role of international cooperation and development strategies?\n",
      "4. What is the importance of ensuring inclusive and equitable quality education, and how will it contribute to achieving the SDGs?\n",
      "5. How will the SDGs address the challenges of poverty, hunger, and health, and what are the key targets and indicators for each goal?.\n",
      "We have the option to refine the questions or add new one (only if neccessary) with some more context below.\n",
      "\n",
      "------------\n",
      "in developed countries and other developing countries  Target 4.c By 2030, substantially increase the supply of qualified teachers, including through international cooperation for teacher training in developing countries, especially least developed countries and small island developing States A/RES/70/1 Transforming our world: the 2030 Agenda for Sustainable Development 18/35Goal 5. Achieve gender equality and empower all women and girls  Target 5.1 End all forms of discrimination against all women and girls everywhere  Target 5.2 Eliminate all forms of violence against all women and girls in the public and private spheres, including trafficking and sexual and other types of exploitation  Target 5.3 Eliminate all harmful practices, such as child, early and forced marriage and female genital mutilation  Target 5.4 Recognize and value unpaid care and domestic work through the provision of public services, infrastructure and social protection policies and the promotion of shared responsibility within the household and the family as nationally appropriate  Target 5.5 Ensure women’s full and effective participation and equal opportunities for leadership at all levels of decision-making in political, economic and public life  Target 5.6 Ensure universal access to sexual and reproductive health and reproductive rights as agreed in accordance with the Programme of Action of the International Conference on Population and Development and the Beijing Platform for Action and the outcome documents of their review conferences  Target 5.a Undertake reforms to give women equal rights to economic resources, as well as access to ownership and control over land and other forms of property, financial services, inheritance and natural resources, in accordance with national laws  Target 5.b Enhance the use of enabling technology, in particular information and communications technology, to promote the empowerment of women  Target 5.c Adopt and strengthen sound policies and enforceable legislation for the promotion of gender equality and the empowerment of all women and girls at all levelsGoal 6. Ensure availability and sustainable management of water and sanitation for all  Target 6.1 By 2030, achieve universal and equitable access to safe and affordable drinking water for all  Target 6.2 By 2030, achieve access to adequate and equitable sanitation and hygiene for all and end open defecation, paying special attention to the needs of women and girls and those in vulnerable situations  Target 6.3 By 2030, improve water quality by reducing pollution, eliminating dumping and minimizing release of hazardous chemicals and materials, halving the proportion of untreated wastewater and substantially increasing recycling and safe reuse globally  Target 6.4 By 2030, substantially increase water-use efficiency across all sectors and ensure sustainable withdrawals and supply of freshwater to address water scarcity and substantially reduce the number of people suffering from water scarcity  Target 6.5 By 2030, implement integrated water resources management at all levels, including through transboundary cooperation as appropriate  Target 6.6 By 2020, protect and restore water-related ecosystems, including mountains, forests, wetlands, rivers, aquifers and lakes Transforming our world: the 2030 Agenda for Sustainable Development A/RES/70/1 19/35  Target 6.a By 2030, expand international cooperation and capacity-building support to developing countries in water- and sanitation-related activities and programmes, including water harvesting, desalination, water efficiency, wastewater treatment, recycling and reuse technologies  Target 6.b Support and strengthen the participation of local communities in improving water and sanitation managementGoal 7. Ensure access to affordable, reliable, sustainable and modern energy for all  Target 7.1 By 2030, ensure universal access to affordable, reliable and modern energy services  Target 7.2 By 2030, increase substantially the share of renewable energy in the global energy mix  Target 7.3 By 2030, double the global rate of improvement in energy efficiency  Target 7.a By 2030, enhance international cooperation to facilitate access to clean energy research and technology, including renewable energy, energy efficiency and advanced and cleaner fossil-fuel technology, and promote investment in energy infrastructure and clean energy technology  Target 7.b By 2030, expand infrastructure and upgrade technology for supplying modern and sustainable energy services for all in developing countries, in particular least developed countries, small island developing States and landlocked developing countries, in accordance with their respective programmes of supportGoal 8. Promote sustained, inclusive and sustainable economic growth, full and productive employment and decent work for all  Target 8.1 Sustain per capita economic growth in accordance with national circumstances and, in particular, at least 7 per cent gross domestic product growth per annum in the least developed countries  Target 8.2 Achieve higher levels of economic productivity through diversification, technological upgrading and innovation, including through a focus on high-value added and labour-intensive sectors  Target 8.3 Promote development-oriented policies that support productive activities, decent job creation, entrepreneurship, creativity and innovation, and encourage the formalization and growth of micro-, small- and medium-sized enterprises, including through access to financial services  Target 8.4 Improve progressively, through 2030, global resource efficiency in consumption and production and endeavour to decouple economic growth from environmental degradation, in accordance with the 10-Year Framework of Programmes on Sustainable Consumption and Production, with developed countries taking the lead  Target 8.5 By 2030, achieve full and productive employment and decent work for all women and men, including for young people and persons with disabilities, and equal pay for work of equal value  Target 8.6 By 2020, substantially reduce the proportion of youth not in employment, education or training A/RES/70/1 Transforming our world: the 2030 Agenda for Sustainable Development 20/35  Target 8.7 Take immediate and effective measures to eradicate forced labour, end modern slavery and human trafficking and secure the prohibition and elimination of the worst forms of child labour, including recruitment and use of child soldiers, and by 2025 end child labour in all its forms  Target 8.8 Protect labour rights and promote safe and secure working environments for all workers, including migrant workers, in particular women migrants, and those in precarious employment  Target 8.9 By 2030, devise and implement policies to promote sustainable tourism that creates jobs and promotes local culture and products  Target 8.10 Strengthen the capacity of domestic financial institutions to encourage and expand access to banking, insurance and financial services for all  Target 8.a Increase Aid for Trade support for developing countries, in particular least developed countries, including through the Enhanced Integrated Framework for Trade-related Technical Assistance to Least Developed CountriesTarget 8.b By 2020, develop and operationalize a global strategy for youth employment and implement the Global Jobs Pact of the International Labour OrganizationGoal 9. Build resilient infrastructure, promote inclusive and sustainable industrialization and foster innovation  Target 9.1 Develop quality, reliable, sustainable and resilient infrastructure, including regional and transborder infrastructure, to support economic development and human well-being, with a focus on affordable and equitable access for all Target 9.2 Promote inclusive and sustainable industrialization and, by 2030, significantly raise industry’s share of employment and gross domestic product, in line with national circumstances, and double its share in least developed countries  Target 9.3 Increase the access of small-scale industrial and other enterprises, in particular in developing countries, to financial services,including affordable credit, and their integration into value chains and markets  Target 9.4 By 2030, upgrade infrastructure and retrofit industries to make them sustainable, with increased resource-use efficiency and greater adoption of clean and environmentally sound technologies and industrial processes, with all countries taking action in accordance with their respective capabilities  Target 9.5 Enhance scientific research, upgrade the technological capabilities of industrial sectors in all countries, in particular developing countries, including, by 2030, encouraging innovation and substantially increasing the number of research and development workers per 1 million people and public and private research and development spending  Target 9.a Facilitate sustainable and resilient infrastructure development in developing countries through enhanced financial, technological and technical support to African countries, least developed countries, landlocked developing countries and small island developing States  Target 9.b Support domestic technology development, research and innovation in developing countries, including by ensuring a conducive policy environment for, inter alia, industrial diversification and value addition to commodities Transforming our world: the 2030 Agenda for Sustainable Development A/RES/70/1 21/35  Target 9.c Significantly increase access to information and communications technology and strive to provide universal and affordable access to the Internet in least developed countries by 2020Goal 10. Reduce inequality within and among countries Target 10.1By 2030, progressively achieve and sustain income growth of the bottom 40 per cent of the population at a rate higher than the national average  Target 10.2 By 2030, empower and promote the social, economic and political\n",
      "------------\n",
      "\n",
      "Given the new content, refine the orginial questions in English.\n",
      "If the context is not helpful, please provide the original questions.\n",
      "QUESTIONS:\n",
      "\u001b[0m\n",
      "\n",
      "\u001b[1m> Finished chain.\u001b[0m\n",
      "\n",
      "\n",
      "\u001b[1m> Entering new LLMChain chain...\u001b[0m\n",
      "Prompt after formatting:\n",
      "\u001b[32;1m\u001b[1;3m\n",
      "You are an expert at creating questions based on materials and documentation provided.\n",
      "Your goal is to prepare user for their exams and tests.\n",
      "We have received some practice questions to a certain extent:Based on the provided context, I will refine the original questions to better reflect the content and add new questions where necessary. Here are the refined questions:\n",
      "\n",
      "**Goal 1: End Poverty**\n",
      "\n",
      "1. What is the target date to eradicate extreme poverty for all people everywhere, currently measured as people living on less than $1.25 a day?\n",
      "2. How will Target 1.2 be achieved by 2030, and what are the key strategies for reducing poverty?\n",
      "3. What is the purpose of implementing nationally appropriate social protection systems and measures, as stated in Target 1.3?\n",
      "4. By 2030, what rights should all men and women, particularly the poor and vulnerable, have equal access to, according to Target 1.4?\n",
      "5. How will the resilience of the poor and those in vulnerable situations be built, and what will be reduced by 2030, as stated in Target 1.5?\n",
      "\n",
      "**Goal 2: End Hunger**\n",
      "\n",
      "1. By 2030, what is the goal of Target 2.1, and who will have access to safe, nutritious, and sufficient food all year round?\n",
      "2. What is the target date to end all forms of malnutrition, including achieving the internationally agreed targets on stunting and wasting in children under 5 years of age?\n",
      "3. How will the agricultural productivity and incomes of small-scale food producers be doubled by 2030, as stated in Target 2.3?\n",
      "4. What is the purpose of ensuring sustainable food production systems and implementing resilient agricultural practices, as stated in Target 2.4?\n",
      "5. By 2020, what is the goal of maintaining the genetic diversity of seeds, cultivated plants, and farmed and domesticated animals, as stated in Target 2.5?\n",
      "\n",
      "**Goal 3: Ensure Healthy Lives**\n",
      "\n",
      "1. By 2030, what is the target global maternal mortality ratio per 100,000 live births, as stated in Target 3.1?\n",
      "2. What is the goal of Target 3.2, and what is the target neonatal mortality rate per 1,000 live births?\n",
      "3. By 2030, what diseases will be ended, and what will be combated, as stated in Target 3.3?\n",
      "4. How will premature mortality from non-communicable diseases be reduced by 2030, as stated in Target 3.4?\n",
      "5. By 2020, what is the goal of reducing the number of global deaths and injuries from road traffic accidents, as stated in Target 3.6?\n",
      "\n",
      "**Goal 4: Ensure Inclusive and Equitable Quality Education**\n",
      "\n",
      "1. By 2030, what is the goal of ensuring that all girls and boys complete free, equitable, and quality primary and secondary education, as stated in Target 4.1?\n",
      "2. By 2030, what is the goal of ensuring that all girls and boys have access to quality early childhood development, care, and pre-primary education, as stated in Target 4.2?\n",
      "3. How will equal access for all women and men to affordable and quality technical, vocational, and tertiary education be ensured by 2030, as stated in Target 4.3?\n",
      "4. By 2030, what is the goal of substantially increasing the number of youth and adults who have relevant skills, including technical and vocational skills, as stated in Target 4.4?\n",
      "5. By 2030, what is the goal of eliminating gender disparities in education and ensuring equal access to all levels of education and vocational training, as stated in Target 4.5?\n",
      "\n",
      "**Goal 5: Achieve Gender Equality**\n",
      "\n",
      "1. What is the goal of Target 5.1, and how will all forms of discrimination against all women and girls be ended?\n",
      "2. How will all forms of violence against all women and girls be eliminated, as stated in Target 5.2?\n",
      "3. What is the goal of Target 5.3, and how will all harmful practices, such as child, early, and forced marriage, be eliminated?\n",
      "4. How will unpaid care and domestic work be recognized and valued, as stated in Target 5.4?\n",
      "5. By 2030, what is the goal of ensuring women's full and effective participation and equal opportunities for leadership at all levels of decision-making, as stated in Target 5.5?\n",
      "\n",
      "**Goal 6: Ensure Availability and Sustainable Management of Water and Sanitation**\n",
      "\n",
      "1. By 2030, what is the goal of achieving universal and equitable access to safe and affordable drinking water, as stated in Target 6.1?\n",
      "2. How will access to adequate and equitable sanitation and hygiene be achieved for all, as stated in Target 6.2?\n",
      "3. What is the goal of Target 6.3, and how will water quality be improved by 2030?\n",
      "4. By 2030, how will water-use efficiency be substantially increased across all sectors, as stated in Target 6.4?\n",
      "5. What is the goal of Target 6.5, and how will integrated water resources management be implemented at all levels?\n",
      "\n",
      "**Goal 7: Ensure Access to Affordable, Reliable, Sustainable, and Modern Energy**\n",
      "\n",
      "1. By 2030, what is the goal of ensuring universal access to affordable, reliable, and modern energy services, as stated in Target 7.1?\n",
      "2. How will the share of renewable energy in the global energy mix be substantially increased by 2030, as stated in Target 7.2?\n",
      "3. What is the goal of Target 7.3, and how will the global rate of improvement in energy efficiency be doubled by 2030?\n",
      "4. How will international cooperation be enhanced to facilitate access to clean energy research and technology, as stated in Target 7.a?\n",
      "5. By 2030, how will infrastructure be expanded and upgraded to supply modern and sustainable energy services for all, as stated in Target 7.b?\n",
      "\n",
      "**Goal 8: Promote Sustained, Inclusive, and Sustainable Economic Growth**\n",
      "\n",
      "1. What is the goal of Target 8.1, and how will per capita economic growth be sustained in accordance with national circumstances?\n",
      "2. How will economic productivity be improved through diversification, technological upgrading, and innovation, as stated in Target 8.2?\n",
      "3. What is the goal of Target 8.3, and how will development-oriented policies support productive activities and decent job creation?\n",
      "4. By 2030, how will global resource efficiency in consumption and production be improved, as stated in Target 8.4?\n",
      "5. What is the goal of Target 8.5, and how will full and productive employment and decent work be achieved for all by 2030?\n",
      "\n",
      "**Goal 9: Build Resilient Infrastructure**\n",
      "\n",
      "1. What is the goal of Target 9.1, and how will quality, reliable, sustainable, and resilient infrastructure be developed?\n",
      "2. How will inclusive and sustainable industrialization be promoted, and what is the target for industry's share of employment and gross domestic product by 2030?\n",
      "3. What is the goal of Target 9.3, and how will access to financial services for small-scale industrial and other enterprises be increased?\n",
      "4. By 2030, how will infrastructure be upgraded to make it sustainable, with increased resource-use efficiency and greater adoption of clean and environmentally sound technologies, as stated in Target 9.4?\n",
      "5. What is the goal of Target 9.5, and how will scientific research and technological capabilities be enhanced in all countries?\n",
      "\n",
      "**Goal 10: Reduce Inequality**\n",
      "\n",
      "1. By 2030, what is the goal of progressively achieving and sustaining income growth of the bottom 40 per cent of the population, as stated in Target 10.1?\n",
      "2. How will the social, economic, and political inclusion of all, irrespective of age, sex, disability, race, ethnicity, origin, religion, or economic or other status, be ensured by 2030, as stated in Target 10.2?\n",
      "3. What is the goal of Target 10.3, and how will the representation and voice of developing countries be ensured in decision-making in global international economic and financial institutions?\n",
      "4. By 2030, how will the proportion of men, women, and children of all ages living in poverty in all its dimensions be reduced, as stated in Target 10.4?\n",
      "5. What is the goal of Target 10.5, and how will the regulation and monitoring of global financial markets and institutions be improved to ensure stability and prevent market volatility?\n",
      "\n",
      "**General Questions**\n",
      "\n",
      "1. What are the 17 Sustainable Development Goals (SDGs) aimed at achieving by 2030?\n",
      "2. What is the purpose of the SDGs, and how will they be achieved through international cooperation and development strategies?\n",
      "3. How will the targets of the SDGs be measured and evaluated, and what are the key indicators for each goal?\n",
      "4. What is the importance of ensuring inclusive and equitable quality education, and how will it contribute to achieving the SDGs?\n",
      "5. How will the SDGs address the challenges of poverty, hunger, and health, and what are the key targets and indicators for each goal?.\n",
      "We have the option to refine the questions or add new one (only if neccessary) with some more context below.\n",
      "\n",
      "------------\n",
      "achieve and sustain income growth of the bottom 40 per cent of the population at a rate higher than the national average  Target 10.2 By 2030, empower and promote the social, economic and political inclusion of all, irrespective of age, sex, disability, race, ethnicity, origin, religion or economic or other status  Target 10.3 Ensure equal opportunity and reduce inequalities of outcome, including by eliminating discriminatory laws, policies and practices and promoting appropriate legislation, policies and action in this regard  Target 10.4 Adopt policies, especially fiscal, wage and social protection policies, and progressively achieve greater equality  Target 10.5 Improve the regulation and monitoring of global financial markets and institutions and strengthen the implementation of such regulations  Target 10.6 Ensure enhanced representation and voice for developing countries in decision-making in global international economic and financial institutions in order to deliver more effective, credible, accountable and legitimate institutions  Target 10.7 Facilitate orderly, safe, regular and responsible migration and mobility of people, including through the implementation of planned and well-managed migration policies  Target 10.a Implement the principle of special and differential treatment for developing countries, in particular least developed countries, in accordance with World Trade Organization agreements  Target 10.b Encourage official development assistance and financial flows, including foreign direct investment, to States where the need is greatest, in particular least developed countries, African countries, small island developing States and landlocked developing countries, in accordance with their national plans and programmes  Target 10.c By 2030, reduce to less than 3 per cent the transaction costs of migrant remittances and eliminate remittance corridors with costs higher than 5 percentGoal 11. Make cities and human settlements inclusive, safe, resilient and sustainable  Target 11.1 By 2030, ensure access for all to adequate, safe and affordable housing and basic services and upgrade slums  Target 11.2 By 2030, provide access to safe, affordable, accessible and sustainable transport systems for all, improving road safety, notably by expanding public transport, with special attention to the needs of those in vulnerable situations, women, children, persons with disabilities and older persons  Target 11.3 By 2030, enhance inclusive and sustainable urbanization and capacity for participatory, integrated and sustainable human settlement planning and management in all countries Target 11.4 Strengthen efforts to protect and safeguard the world’s cultural and natural heritage  Target 11.5 By 2030, significantly reduce the number of deaths and the number of people affected and substantially decrease the direct economic losses relative to global gross domestic product caused by disasters, including water-related disasters, with a focus on protecting the poor and people in vulnerable situations  Target 11.6 By 2030, reduce the adverse per capita environmental impact of cities, including by paying special attention to air quality and municipal and other waste management  Target 11.7 By 2030, provide universal access to safe, inclusive and accessible, green and public spaces, in particular for women and children, older persons and persons with disabilities  Target 11.a Support positive economic, social and environmental links between urban, peri-urban and rural areas by strengthening national and regional development planning  Target 11.b By 2020, substantially increase the number of cities and human settlements adopting and implementing integrated policies and plans towards inclusion, resource efficiency, mitigation and adaptation to climate change, resilience to disasters, and develop and implement, in line with the Sendai Framework for Disaster Risk Reduction 2015–2030, holistic disaster risk management at all levels  Target 11.c Support least developed countries, including through financial and technical assistance, in building sustainable and resilient buildings utilizing local materialsGoal 12. Ensure sustainable consumption and production patterns  Target 12.1 Implement the 10-Year Framework of Programmes on Sustainable Consumption and Production Patterns, all countries taking action, with developed countries taking the lead, taking into account the development and capabilities of developing countries  Target 12.2 By 2030, achieve the sustainable management and efficient use of natural resources  Target 12.3 By 2030, halve per capita global food waste at the retail and consumer levels and reduce food losses along production and supply chains, including post-harvest losses  Target 12.4 By 2020, achieve the environmentally sound management of chemicals and all wastes throughout their life cycle, in accordance with agreed international frameworks, and significantly reduce their release to air, water and soil in order to minimize their adverse impacts on human health and the environment  Target 12.5 By 2030, substantially reduce waste generation through prevention, reduction, recycling and reuse  Target 12.6 Encourage companies, especially large and transnational companies, to adopt sustainable practices and to integrate sustainability information into their reporting cycle  Target 12.7 Promote public procurement practices that are sustainable, in accordance with national policies and priorities Target 12.8 By 2030, ensure that people everywhere have the relevant information and awareness for sustainable development and lifestyles in harmony with nature  Target 12.a Support developing countries to strengthen their scientific and technological capacity to move towards more sustainable patterns of consumption and production  Target 12.b Develop and implement tools to monitor sustainable development impacts for sustainable tourism that creates jobs and promotes local culture and products  Target 12.c Rationalize inefficient fossil-fuel subsidies that encourage wasteful consumption by removing market distortions, in accordance with national circumstances, including by restructuring taxation and phasing out those harmful subsidies, where they exist, to reflect their environmental impacts, taking fully into account the specific needs and conditions of developing countries and minimizing the possible adverse impacts on their development in a manner that protects the poor and the affected communitiesGoal 13. Take urgent action to combat climate change and its impacts Target 13.1 Strengthen resilience and adaptive capacity to climate-related hazards and natural disasters in all countries  Target 13.2 Integrate climate change measures into national policies, strategies and planning  Target 13.3 Improve education, awareness-raising and human and institutional capacity on climate change mitigation, adaptation, impact reduction and early warning  Target 13.a Implement the commitment undertaken by developed-country parties to the United Nations Framework Convention on Climate Change to a goal of mobilizing jointly $100 billion annually by 2020 from all sources to address the needs of developing countries in the context of meaningful mitigation actions and transparency on implementation and fully operationalize the Green Climate Fund through its capitalization as soon as possible  Target 13.b Promote mechanisms for raising capacity for effective climate change-related planning and management in least developed countries and small island developing States, including focusing on women, youth and local and marginalized communitiesGoal 14. Conserve and sustainably use the oceans, seas and marine resources for sustainable development  Target 14.1 By 2025, prevent and significantly reduce marine pollution of all kinds, in particular from land-based activities, including marine debris and nutrient pollution  Target 14.2 By 2020, sustainably manage and protect marine and coastal ecosystems to avoid significant adverse impacts, including by strengthening their resilience, and take action for their restoration in order to achieve healthy and productive oceans  Target 14.3 Minimize and address the impacts of ocean acidification, including through enhanced scientific cooperation at all levels  Target 14.4 By 2020, effectively regulate harvesting and end overfishing, illegal, unreported and unregulated fishing and destructive fishing practices and implement science-based management plans, in order to restore fish stocks in the shortest time feasible, at least to levels that can produce maximum sustainable yield as determined by their biological characteristics  Target 14.5 By 2020, conserve at least 10 per cent of coastal and marine areas, consistent with national and international law and based on the best available scientific information  Target 14.6 By 2020, prohibit certain forms of fisheries subsidies which contribute to overcapacity and overfishing, eliminate subsidies that contribute to illegal, unreported and unregulated fishing and refrain from introducing new such subsidies, recognizing that appropriate and effective special and differential treatment for developing and least developed countries should be an integral part of the World Trade Organization fisheries subsidies negotiation Target 14.7 By 2030, increase the economic benefits to small island developing States and least developed countries from the sustainable use of marine resources, including through sustainable management of fisheries, aquaculture and tourism  Target 14.a Increase scientific knowledge, develop research capacity and transfer marine technology, taking into account the Intergovernmental Oceanographic Commission Criteria and Guidelines on the Transfer of Marine Technology, in order to improve ocean health and to enhance the contribution of marine biodiversity to the development of developing countries, in particular small island developing States\n",
      "------------\n",
      "\n",
      "Given the new content, refine the orginial questions in English.\n",
      "If the context is not helpful, please provide the original questions.\n",
      "QUESTIONS:\n",
      "\u001b[0m\n",
      "\n",
      "\u001b[1m> Finished chain.\u001b[0m\n",
      "\n",
      "\n",
      "\u001b[1m> Entering new LLMChain chain...\u001b[0m\n",
      "Prompt after formatting:\n",
      "\u001b[32;1m\u001b[1;3m\n",
      "You are an expert at creating questions based on materials and documentation provided.\n",
      "Your goal is to prepare user for their exams and tests.\n",
      "We have received some practice questions to a certain extent:Based on the provided context, I will refine the original questions to better reflect the content and add new questions where necessary. Here are the refined questions:\n",
      "\n",
      "**Goal 1: End Poverty**\n",
      "\n",
      "1. What is the target date to eradicate extreme poverty for all people everywhere, currently measured as people living on less than $1.25 a day?\n",
      "2. How will Target 1.2 be achieved by 2030, and what are the key strategies for reducing poverty?\n",
      "3. What is the purpose of implementing nationally appropriate social protection systems and measures, as stated in Target 1.3?\n",
      "4. By 2030, what rights should all men and women, particularly the poor and vulnerable, have equal access to, according to Target 1.4?\n",
      "5. How will the resilience of the poor and those in vulnerable situations be built, and what will be reduced by 2030, as stated in Target 1.5?\n",
      "\n",
      "**Goal 2: End Hunger**\n",
      "\n",
      "1. By 2030, what is the goal of Target 2.1, and who will have access to safe, nutritious, and sufficient food all year round?\n",
      "2. What is the target date to end all forms of malnutrition, including achieving the internationally agreed targets on stunting and wasting in children under 5 years of age?\n",
      "3. How will the agricultural productivity and incomes of small-scale food producers be doubled by 2030, as stated in Target 2.3?\n",
      "4. What is the purpose of ensuring sustainable food production systems and implementing resilient agricultural practices, as stated in Target 2.4?\n",
      "5. By 2020, what is the goal of maintaining the genetic diversity of seeds, cultivated plants, and farmed and domesticated animals, as stated in Target 2.5?\n",
      "\n",
      "**Goal 3: Ensure Healthy Lives**\n",
      "\n",
      "1. By 2030, what is the target global maternal mortality ratio per 100,000 live births, as stated in Target 3.1?\n",
      "2. What is the goal of Target 3.2, and what is the target neonatal mortality rate per 1,000 live births?\n",
      "3. By 2030, what diseases will be ended, and what will be combated, as stated in Target 3.3?\n",
      "4. How will premature mortality from non-communicable diseases be reduced by 2030, as stated in Target 3.4?\n",
      "5. By 2020, what is the goal of reducing the number of global deaths and injuries from road traffic accidents, as stated in Target 3.6?\n",
      "\n",
      "**Goal 4: Ensure Inclusive and Equitable Quality Education**\n",
      "\n",
      "1. By 2030, what is the goal of ensuring that all girls and boys complete free, equitable, and quality primary and secondary education, as stated in Target 4.1?\n",
      "2. By 2030, what is the goal of ensuring that all girls and boys have access to quality early childhood development, care, and pre-primary education, as stated in Target 4.2?\n",
      "3. How will equal access for all women and men to affordable and quality technical, vocational, and tertiary education be ensured by 2030, as stated in Target 4.3?\n",
      "4. By 2030, what is the goal of substantially increasing the number of youth and adults who have relevant skills, including technical and vocational skills, as stated in Target 4.4?\n",
      "5. By 2030, what is the goal of eliminating gender disparities in education and ensuring equal access to all levels of education and vocational training, as stated in Target 4.5?\n",
      "\n",
      "**Goal 5: Achieve Gender Equality**\n",
      "\n",
      "1. What is the goal of Target 5.1, and how will all forms of discrimination against all women and girls be ended?\n",
      "2. How will all forms of violence against all women and girls be eliminated, as stated in Target 5.2?\n",
      "3. What is the goal of Target 5.3, and how will all harmful practices, such as child, early, and forced marriage, be eliminated?\n",
      "4. How will unpaid care and domestic work be recognized and valued, as stated in Target 5.4?\n",
      "5. By 2030, what is the goal of ensuring women's full and effective participation and equal opportunities for leadership at all levels of decision-making, as stated in Target 5.5?\n",
      "\n",
      "**Goal 6: Ensure Availability and Sustainable Management of Water and Sanitation**\n",
      "\n",
      "1. By 2030, what is the goal of achieving universal and equitable access to safe and affordable drinking water, as stated in Target 6.1?\n",
      "2. How will access to adequate and equitable sanitation and hygiene be achieved for all, as stated in Target 6.2?\n",
      "3. What is the goal of Target 6.3, and how will water quality be improved by 2030?\n",
      "4. By 2030, how will water-use efficiency be substantially increased across all sectors, as stated in Target 6.4?\n",
      "5. What is the goal of Target 6.5, and how will integrated water resources management be implemented at all levels?\n",
      "\n",
      "**Goal 7: Ensure Access to Affordable, Reliable, Sustainable, and Modern Energy**\n",
      "\n",
      "1. By 2030, what is the goal of ensuring universal access to affordable, reliable, and modern energy services, as stated in Target 7.1?\n",
      "2. How will the share of renewable energy in the global energy mix be substantially increased by 2030, as stated in Target 7.2?\n",
      "3. What is the goal of Target 7.3, and how will the global rate of improvement in energy efficiency be doubled by 2030?\n",
      "4. How will international cooperation be enhanced to facilitate access to clean energy research and technology, as stated in Target 7.a?\n",
      "5. By 2030, how will infrastructure be expanded and upgraded to supply modern and sustainable energy services for all, as stated in Target 7.b?\n",
      "\n",
      "**Goal 8: Promote Sustained, Inclusive, and Sustainable Economic Growth**\n",
      "\n",
      "1. What is the goal of Target 8.1, and how will per capita economic growth be sustained in accordance with national circumstances?\n",
      "2. How will economic productivity be improved through diversification, technological upgrading, and innovation, as stated in Target 8.2?\n",
      "3. What is the goal of Target 8.3, and how will development-oriented policies support productive activities and decent job creation?\n",
      "4. By 2030, how will global resource efficiency in consumption and production be improved, as stated in Target 8.4?\n",
      "5. What is the goal of Target 8.5, and how will full and productive employment and decent work be achieved for all by 2030?\n",
      "\n",
      "**Goal 9: Build Resilient Infrastructure**\n",
      "\n",
      "1. What is the goal of Target 9.1, and how will quality, reliable, sustainable, and resilient infrastructure be developed?\n",
      "2. How will inclusive and sustainable industrialization be promoted, and what is the target for industry's share of employment and gross domestic product by 2030?\n",
      "3. What is the goal of Target 9.3, and how will access to financial services for small-scale industrial and other enterprises be increased?\n",
      "4. By 2030, how will infrastructure be upgraded to make it sustainable, with increased resource-use efficiency and greater adoption of clean and environmentally sound technologies, as stated in Target 9.4?\n",
      "5. What is the goal of Target 9.5, and how will scientific research and technological capabilities be enhanced in all countries?\n",
      "\n",
      "**Goal 10: Reduce Inequality**\n",
      "\n",
      "1. By 2030, what is the goal of progressively achieving and sustaining income growth of the bottom 40 per cent of the population, as stated in Target 10.1?\n",
      "2. How will the social, economic, and political inclusion of all, irrespective of age, sex, disability, race, ethnicity, origin, religion, or economic or other status, be ensured by 2030, as stated in Target 10.2?\n",
      "3. What is the goal of Target 10.3, and how will the representation and voice of developing countries be ensured in decision-making in global international economic and financial institutions?\n",
      "4. By 2030, how will the proportion of men, women, and children of all ages living in poverty in all its dimensions be reduced, as stated in Target 10.4?\n",
      "5. What is the goal of Target 10.5, and how will the regulation and monitoring of global financial markets and institutions be improved to ensure stability and prevent market volatility?\n",
      "\n",
      "**Goal 11: Make Cities and Human Settlements Inclusive, Safe, Resilient, and Sustainable**\n",
      "\n",
      "1. By 2030, what is the goal of ensuring access for all to adequate, safe, and affordable housing and basic services, as stated in Target 11.1?\n",
      "2. How will access to safe, affordable, accessible, and sustainable transport systems be provided for all, as stated in Target 11.2?\n",
      "3. What is the goal of Target 11.3, and how will inclusive and sustainable urbanization be enhanced by 2030?\n",
      "4. By 2030, how will the number of deaths and people affected by disasters be reduced, as stated in Target 11.5?\n",
      "5. What is the goal of Target 11.7, and how will universal access to safe, inclusive, and accessible green and public spaces be provided by 2030?\n",
      "\n",
      "**Goal 12: Ensure Sustainable Consumption and Production Patterns**\n",
      "\n",
      "1. What is the goal of Target 12.1, and how will the 10-Year Framework of Programmes on Sustainable Consumption and Production Patterns be implemented?\n",
      "2. By 2030, what is the goal of achieving the sustainable management and efficient use of natural resources, as stated in Target 12.2?\n",
      "3. How will per capita global food waste be halved by 2030, as stated in Target 12.3?\n",
      "4. By 2020, what is the goal of achieving the environmentally sound management of chemicals and all wastes, as stated in Target 12.4?\n",
      "5. What is the goal of Target 12.6, and how will companies be encouraged to adopt sustainable practices and integrate sustainability information into their reporting cycle?\n",
      "\n",
      "**Goal 13: Take Urgent Action to Combat Climate Change and its Impacts**\n",
      "\n",
      "1. What is the goal of Target 13.1, and how will resilience and adaptive capacity to climate-related hazards be strengthened by 2030?\n",
      "2. How will climate change measures be integrated into national policies, strategies, and planning, as stated in Target 13.2?\n",
      "3. What is the goal of Target 13.3, and how will education, awareness-raising, and human and institutional capacity on climate change be improved?\n",
      "4. By 2020, what is the goal of mobilizing $100 billion annually to address the needs of developing countries, as stated in Target 13.a?\n",
      "5. What is the goal of Target 13.b, and how will capacity for effective climate change-related planning and management be raised in least developed countries and small island developing States?\n",
      "\n",
      "**Goal 14: Conserve and Sustainably Use the Oceans, Seas, and Marine Resources**\n",
      "\n",
      "1. By 2025, what is the goal of preventing and significantly reducing marine pollution, as stated in Target 14.1?\n",
      "2. How will marine and coastal ecosystems be protected and restored, as stated in Target 14.2?\n",
      "3. What is the goal of Target 14.3, and how will the impacts of ocean acidification be minimized?\n",
      "4. By 2020, what is the goal of regulating harvesting and ending overfishing, as stated in Target 14.4?\n",
      "5. What is the goal of Target 14.7, and how will the economic benefits to small island developing States and least developed countries from the sustainable use of marine resources be increased?\n",
      "\n",
      "**General Questions**\n",
      "\n",
      "1. What are the 17 Sustainable Development Goals (SDGs) aimed at achieving by 2030?\n",
      "2. What is the purpose of the SDGs, and how will they be achieved through international cooperation and development strategies?\n",
      "3. How will the targets of the SDGs be measured and evaluated, and what are the key indicators for each goal?\n",
      "4. What is the importance of ensuring inclusive and equitable quality education, and how will it contribute to achieving the SDGs?\n",
      "5. How will the SDGs address the challenges of poverty, hunger, and health, and what are the key targets and indicators for each goal?\n",
      "\n",
      "The original questions were helpful in refining the questions, but some were not relevant to the new context provided. I have added new questions to reflect the new context and refined the original questions to better reflect the content..\n",
      "We have the option to refine the questions or add new one (only if neccessary) with some more context below.\n",
      "\n",
      "------------\n",
      "of Marine Technology, in order to improve ocean health and to enhance the contribution of marine biodiversity to the development of developing countries, in particular small island developing States and least developed countries  Target 14.b Provide access for small-scale artisanal fishers to marine resources and markets  Target 14.c Enhance the conservation and sustainable use of oceans and their resources by implementing international law as reflected in the United Nations Convention on the Law of the Sea, which provides the legal framework for the conservation and sustainable use of oceans and their resources, as recalled in paragraph 158 of “The future we want”Goal 15. Protect, restore and promote sustainable use of terrestrial ecosystems, sustainably manage forests, combat desertification, and halt and reverse land degradation and halt biodiversity loss Target 15.1 By 2020, ensure the conservation, restoration and sustainable use of terrestrial and inland freshwater ecosystems and their services, in particular forests, wetlands, mountains and drylands, in line with obligations under international agreements  Target 15.2 By 2020, promote the implementation of sustainable management of all types of forests, halt deforestation, restore degraded forests and substantially increase afforestation and reforestation globally  Target 15.3 By 2030, combat desertification, restore degraded land and soil, including land affected by desertification, drought and floods, and strive to achieve a land degradation-neutral world Target 15.4 By 2030, ensure the conservation of mountain ecosystems, including their biodiversity, in order to enhance their capacity to provide benefits that are essential for sustainable development  Target 15.5 Take urgent and significant action to reduce the degradation of natural habitats, halt the loss of biodiversity and, by 2020, protect and prevent the extinction of threatened species  Target 15.6 Promote fair and equitable sharing of the benefits arising from the utilization of genetic resources and promote appropriate access to such resources, as internationally agreed  Target 15.7 Take urgent action to end poaching and trafficking of protected species of flora and fauna and address both demand and supply of illegal wildlife products  Target 15.8 By 2020, introduce measures to prevent the introduction and significantly reduce the impact of invasive alien species on land and water ecosystems and control or eradicate the priority species  Target 15.9 By 2020, integrate ecosystem and biodiversity values into national and local planning, development processes, poverty reduction strategies and accounts  Target 15.a Mobilize and significantly increase financial resources from all sources to conserve and sustainably use biodiversity and ecosystems  Target 15.b Mobilize significant resources from all sources and at all levels to finance sustainable forest management and provide adequate incentives to developing countries to advance such management, including for conservation and reforestation  Target 15.c Enhance global support for efforts to combat poaching and trafficking of protected species, including by increasing the capacity of local communities to pursue sustainable livelihood opportunitiesGoal 16. Promote peaceful and inclusive societies for sustainable development, provide access to justice for all and build effective, accountable and inclusive institutions at all levels  Target 16.1 Significantly reduce all forms of violence and related death rates everywhere  Target 16.2 End abuse, exploitation, trafficking and all forms of violence against and torture of children  Target 16.3 Promote the rule of law at the national and international levels and ensure equal access to justice for all  Target 16.4 By 2030, significantly reduce illicit financial and arms flows, strengthen the recovery and return of stolen assets and combat all forms of organized crime  Target 16.5 Substantially reduce corruption and bribery in all their forms  Target 16.6 Develop effective, accountable and transparent institutions at all levels  Target 16.7 Ensure responsive, inclusive, participatory and representative decision making at all levels  Target 16.8 Broaden and strengthen the participation of developing countries in the institutions of global governance  Target 16.9 By 2030, provide legal identity for all, including birth registration Target 16.10 Ensure public access to information and protect fundamental freedoms, in accordance with national legislation and international agreements  Target 16.a Strengthen relevant national institutions, including through international cooperation, for building capacity at all levels, in particular in developing countries, to prevent violence and combat terrorism and crime  Target 16.b Promote and enforce non-discriminatory laws and policies for sustainable developmentGoal 17. Strengthen the means of implementation and revitalize the Global Partnership for Sustainable Development Finance  Target 17.1 Strengthen domestic resource mobilization, including through international support to developing countries, to improve domestic capacity for tax and other revenue collection  Target 17.2 Developed countries to implement fully their official development assistance commitments, including the commitment by many developed countries to achieve the target of 0.7 per cent of gross national income for official development assistance (ODA/GNI) to developing countries and 0.15 to 0.20 per cent of ODA/GNI to least developed countries; ODA providers are encouraged to consider setting a target to provide at least 0.20 per cent of ODA/GNI to least developed countries  Target 17.3 Mobilize additional financial resources for developing countries from multiple sources  Target 17.4 Assist developing countries in attaining long-term debt sustainability through coordinated policies aimed at fostering debt financing, debt relief and debt restructuring, as appropriate, and address the external debt of highly indebted poor countries to reduce debt distress  Target 17.5 Adopt and implement investment promotion regimes for least developed countries Technology  Target 17.6 Enhance North-South, South-South and triangular regional and international cooperation on and access to science, technology and innovation and enhance knowledge sharing on mutually agreed terms, including through improved coordination among existing mechanisms, in particular at the United Nations level, and through a global technology facilitation mechanism  Target 17.7 Promote the development, transfer, dissemination and diffusion of environmentally sound technologies to developing countries on favourable terms, including on concessional and preferential terms, as mutually agreed  Target 17.8 Fully operationalize the technology bank and science, technology and innovation capacity-building mechanism for least developed countries by 2017 and enhance the use of enabling technology, in particular information and communications technology Capacity-building  Target 17.9 Enhance international support for implementing effective and targeted capacity-building in developing countries to support national plans to implement all the Sustainable Development Goals, including through North-South, South-South and triangular cooperationTrade  Target 17.10 Promote a universal, rules-based, open, non-discriminatory and equitable multilateral trading system under the World Trade Organization, including through the conclusion of negotiations under its Doha Development Agenda  Target 17.11 Significantly increase the exports of developing countries, in particular with a view to doubling the least developed countries’ share of global exports by 2020  Target 17.12 Realize timely implementation of duty-free and quota-free market access on a lasting basis for all least developed countries, consistent with World Trade Organization decisions, including by ensuring that preferential rules of origin applicable to imports from least developed countries are transparent and simple, and contribute to facilitating market access  Systemic issues  Policy and institutional coherence  Target 17.13 Enhance global macroeconomic stability, including through policy coordination and policy coherence  Target 17.14 Enhance policy coherence for sustainable development  Target 17.15 Respect each country’s policy space and leadership to establish and implement policies for poverty eradication and sustainable development Multi-stakeholder partnerships  Target 17.16 Enhance the Global Partnership for Sustainable Development, complemented by multi-stakeholder partnerships that mobilize and share knowledge, expertise, technology and financial resources, to support the achievement of the Sustainable Development Goals in all countries, in particular developing countries  Target 17.17 Encourage and promote effective public, public-private and civil society partnerships, building on the experience and resourcing strategies of partnerships Data, monitoring and accountability  Target 17.18 By 2020, enhance capacity-building support to developing countries, including for least developed countries and small island developing States, to increase significantly the availability of high-quality, timely and reliable data disaggregated by income, gender, age, race, ethnicity, migratory status, disability, geographic location and other characteristics relevant in national contexts  Target 17.19 By 2030, build on existing initiatives to develop measurements of progress on sustainable development that complement gross domestic product, and support statistical capacity-building in developing countries\n",
      "------------\n",
      "\n",
      "Given the new content, refine the orginial questions in English.\n",
      "If the context is not helpful, please provide the original questions.\n",
      "QUESTIONS:\n",
      "\u001b[0m\n",
      "\n",
      "\u001b[1m> Finished chain.\u001b[0m\n",
      "\n",
      "\u001b[1m> Finished chain.\u001b[0m\n",
      "Based on the provided content, I have refined the original questions to better reflect the new context. Here are the refined questions:\n",
      "\n",
      "**Goal 14: Conserve and Sustainably Use the Oceans, Seas, and Marine Resources**\n",
      "\n",
      "1. By 2025, what is the goal of preventing and significantly reducing marine pollution, and how will it be achieved?\n",
      "2. How will marine and coastal ecosystems be protected and restored, as stated in Target 14.2?\n",
      "3. What is the goal of Target 14.3, and how will the impacts of ocean acidification be minimized?\n",
      "4. By 2020, what is the goal of regulating harvesting and ending overfishing, as stated in Target 14.4?\n",
      "5. What is the goal of Target 14.7, and how will the economic benefits to small island developing States and least developed countries from the sustainable use of marine resources be increased?\n",
      "\n",
      "**Goal 15: Protect, Restore, and Promote Sustainable Use of Terrestrial Ecosystems**\n",
      "\n",
      "1. By 2020, what is the goal of ensuring the conservation, restoration, and sustainable use of terrestrial and inland freshwater ecosystems, as stated in Target 15.1?\n",
      "2. How will the implementation of sustainable management of all types of forests be promoted, and what is the target for industry's share of employment and gross domestic product by 2020?\n",
      "3. What is the goal of Target 15.3, and how will combat desertification, restore degraded land and soil, and strive to achieve a land degradation-neutral world by 2030?\n",
      "4. By 2030, what is the goal of ensuring the conservation of mountain ecosystems, including their biodiversity, as stated in Target 15.4?\n",
      "5. What is the goal of Target 15.5, and how will urgent and significant action be taken to reduce the degradation of natural habitats and halt the loss of biodiversity?\n",
      "\n",
      "**Goal 16: Promote Peaceful and Inclusive Societies**\n",
      "\n",
      "1. What is the goal of Target 16.1, and how will all forms of violence and related death rates be significantly reduced everywhere?\n",
      "2. How will the rule of law be promoted at the national and international levels, and what is the goal of ensuring equal access to justice for all, as stated in Target 16.3?\n",
      "3. By 2030, what is the goal of significantly reducing illicit financial and arms flows, and what is the target for strengthening the recovery and return of stolen assets, as stated in Target 16.4?\n",
      "4. What is the goal of Target 16.5, and how will corruption and bribery be substantially reduced in all their forms?\n",
      "5. What is the goal of Target 16.9, and how will legal identity be provided for all, including birth registration, by 2030?\n",
      "\n",
      "**Goal 17: Strengthen the Means of Implementation and Revitalize the Global Partnership**\n",
      "\n",
      "1. What is the goal of Target 17.1, and how will domestic resource mobilization be strengthened, including through international support to developing countries?\n",
      "2. How will developed countries implement their official development assistance commitments, and what is the target for achieving the target of 0.7 per cent of gross national income for official development assistance, as stated in Target 17.2?\n",
      "3. What is the goal of Target 17.3, and how will additional financial resources be mobilized for developing countries from multiple sources?\n",
      "4. What is the goal of Target 17.6, and how will North-South, South-South, and triangular regional and international cooperation on and access to science, technology, and innovation be enhanced?\n",
      "5. What is the goal of Target 17.18, and how will capacity-building support be enhanced to developing countries, including for least developed countries and small island developing States, to increase significantly the availability of high-quality, timely, and reliable data?\n",
      "\n",
      "Let me know if these refined questions meet your requirements or if you need further assistance!\n"
     ]
    }
   ],
   "source": [
    "ques=ques_gen_chain.run(document_ques_gen)\n",
    "\n",
    "print(ques)"
   ]
  },
  {
   "cell_type": "code",
   "execution_count": 51,
   "id": "04da6192",
   "metadata": {},
   "outputs": [],
   "source": [
    "from langchain_community.embeddings import HuggingFaceEmbeddings"
   ]
  },
  {
   "cell_type": "code",
   "execution_count": 52,
   "id": "566af260",
   "metadata": {},
   "outputs": [
    {
     "name": "stderr",
     "output_type": "stream",
     "text": [
      "/var/folders/00/6gmykrw13ylb0nr60ggprq8c0000gn/T/ipykernel_91450/3409896792.py:1: LangChainDeprecationWarning: The class `HuggingFaceEmbeddings` was deprecated in LangChain 0.2.2 and will be removed in 1.0. An updated version of the class exists in the :class:`~langchain-huggingface package and should be used instead. To use it run `pip install -U :class:`~langchain-huggingface` and import as `from :class:`~langchain_huggingface import HuggingFaceEmbeddings``.\n",
      "  embeddings = HuggingFaceEmbeddings(model_name=\"sentence-transformers/all-MiniLM-L6-v2\")\n",
      "/opt/anaconda3/envs/LangProj/lib/python3.10/site-packages/tqdm/auto.py:21: TqdmWarning: IProgress not found. Please update jupyter and ipywidgets. See https://ipywidgets.readthedocs.io/en/stable/user_install.html\n",
      "  from .autonotebook import tqdm as notebook_tqdm\n"
     ]
    }
   ],
   "source": [
    "embeddings = HuggingFaceEmbeddings(model_name=\"sentence-transformers/all-MiniLM-L6-v2\")"
   ]
  },
  {
   "cell_type": "code",
   "execution_count": 53,
   "id": "959ff5d7",
   "metadata": {},
   "outputs": [],
   "source": [
    "from langchain.vectorstores import FAISS"
   ]
  },
  {
   "cell_type": "code",
   "execution_count": 56,
   "id": "b5522885",
   "metadata": {},
   "outputs": [],
   "source": [
    "vector_store= FAISS.from_documents(chunk_ans_gen,embeddings)"
   ]
  },
  {
   "cell_type": "code",
   "execution_count": 57,
   "id": "f52a0a23",
   "metadata": {},
   "outputs": [],
   "source": [
    "llm_answer_gen=ChatGroq(model=\"llama-3.3-70b-versatile\")"
   ]
  },
  {
   "cell_type": "code",
   "execution_count": 58,
   "id": "26f7a6e5",
   "metadata": {},
   "outputs": [
    {
     "data": {
      "text/plain": [
       "\"Based on the provided content, I have refined the original questions to better reflect the new context. Here are the refined questions:\\n\\n**Goal 14: Conserve and Sustainably Use the Oceans, Seas, and Marine Resources**\\n\\n1. By 2025, what is the goal of preventing and significantly reducing marine pollution, and how will it be achieved?\\n2. How will marine and coastal ecosystems be protected and restored, as stated in Target 14.2?\\n3. What is the goal of Target 14.3, and how will the impacts of ocean acidification be minimized?\\n4. By 2020, what is the goal of regulating harvesting and ending overfishing, as stated in Target 14.4?\\n5. What is the goal of Target 14.7, and how will the economic benefits to small island developing States and least developed countries from the sustainable use of marine resources be increased?\\n\\n**Goal 15: Protect, Restore, and Promote Sustainable Use of Terrestrial Ecosystems**\\n\\n1. By 2020, what is the goal of ensuring the conservation, restoration, and sustainable use of terrestrial and inland freshwater ecosystems, as stated in Target 15.1?\\n2. How will the implementation of sustainable management of all types of forests be promoted, and what is the target for industry's share of employment and gross domestic product by 2020?\\n3. What is the goal of Target 15.3, and how will combat desertification, restore degraded land and soil, and strive to achieve a land degradation-neutral world by 2030?\\n4. By 2030, what is the goal of ensuring the conservation of mountain ecosystems, including their biodiversity, as stated in Target 15.4?\\n5. What is the goal of Target 15.5, and how will urgent and significant action be taken to reduce the degradation of natural habitats and halt the loss of biodiversity?\\n\\n**Goal 16: Promote Peaceful and Inclusive Societies**\\n\\n1. What is the goal of Target 16.1, and how will all forms of violence and related death rates be significantly reduced everywhere?\\n2. How will the rule of law be promoted at the national and international levels, and what is the goal of ensuring equal access to justice for all, as stated in Target 16.3?\\n3. By 2030, what is the goal of significantly reducing illicit financial and arms flows, and what is the target for strengthening the recovery and return of stolen assets, as stated in Target 16.4?\\n4. What is the goal of Target 16.5, and how will corruption and bribery be substantially reduced in all their forms?\\n5. What is the goal of Target 16.9, and how will legal identity be provided for all, including birth registration, by 2030?\\n\\n**Goal 17: Strengthen the Means of Implementation and Revitalize the Global Partnership**\\n\\n1. What is the goal of Target 17.1, and how will domestic resource mobilization be strengthened, including through international support to developing countries?\\n2. How will developed countries implement their official development assistance commitments, and what is the target for achieving the target of 0.7 per cent of gross national income for official development assistance, as stated in Target 17.2?\\n3. What is the goal of Target 17.3, and how will additional financial resources be mobilized for developing countries from multiple sources?\\n4. What is the goal of Target 17.6, and how will North-South, South-South, and triangular regional and international cooperation on and access to science, technology, and innovation be enhanced?\\n5. What is the goal of Target 17.18, and how will capacity-building support be enhanced to developing countries, including for least developed countries and small island developing States, to increase significantly the availability of high-quality, timely, and reliable data?\\n\\nLet me know if these refined questions meet your requirements or if you need further assistance!\""
      ]
     },
     "execution_count": 58,
     "metadata": {},
     "output_type": "execute_result"
    }
   ],
   "source": [
    "ques"
   ]
  },
  {
   "cell_type": "code",
   "execution_count": 59,
   "id": "c9acea10",
   "metadata": {},
   "outputs": [],
   "source": [
    "ques_list=ques.split('\\n')"
   ]
  },
  {
   "cell_type": "code",
   "execution_count": 60,
   "id": "9c51b9b0",
   "metadata": {},
   "outputs": [
    {
     "data": {
      "text/plain": [
       "['Based on the provided content, I have refined the original questions to better reflect the new context. Here are the refined questions:',\n",
       " '',\n",
       " '**Goal 14: Conserve and Sustainably Use the Oceans, Seas, and Marine Resources**',\n",
       " '',\n",
       " '1. By 2025, what is the goal of preventing and significantly reducing marine pollution, and how will it be achieved?',\n",
       " '2. How will marine and coastal ecosystems be protected and restored, as stated in Target 14.2?',\n",
       " '3. What is the goal of Target 14.3, and how will the impacts of ocean acidification be minimized?',\n",
       " '4. By 2020, what is the goal of regulating harvesting and ending overfishing, as stated in Target 14.4?',\n",
       " '5. What is the goal of Target 14.7, and how will the economic benefits to small island developing States and least developed countries from the sustainable use of marine resources be increased?',\n",
       " '',\n",
       " '**Goal 15: Protect, Restore, and Promote Sustainable Use of Terrestrial Ecosystems**',\n",
       " '',\n",
       " '1. By 2020, what is the goal of ensuring the conservation, restoration, and sustainable use of terrestrial and inland freshwater ecosystems, as stated in Target 15.1?',\n",
       " \"2. How will the implementation of sustainable management of all types of forests be promoted, and what is the target for industry's share of employment and gross domestic product by 2020?\",\n",
       " '3. What is the goal of Target 15.3, and how will combat desertification, restore degraded land and soil, and strive to achieve a land degradation-neutral world by 2030?',\n",
       " '4. By 2030, what is the goal of ensuring the conservation of mountain ecosystems, including their biodiversity, as stated in Target 15.4?',\n",
       " '5. What is the goal of Target 15.5, and how will urgent and significant action be taken to reduce the degradation of natural habitats and halt the loss of biodiversity?',\n",
       " '',\n",
       " '**Goal 16: Promote Peaceful and Inclusive Societies**',\n",
       " '',\n",
       " '1. What is the goal of Target 16.1, and how will all forms of violence and related death rates be significantly reduced everywhere?',\n",
       " '2. How will the rule of law be promoted at the national and international levels, and what is the goal of ensuring equal access to justice for all, as stated in Target 16.3?',\n",
       " '3. By 2030, what is the goal of significantly reducing illicit financial and arms flows, and what is the target for strengthening the recovery and return of stolen assets, as stated in Target 16.4?',\n",
       " '4. What is the goal of Target 16.5, and how will corruption and bribery be substantially reduced in all their forms?',\n",
       " '5. What is the goal of Target 16.9, and how will legal identity be provided for all, including birth registration, by 2030?',\n",
       " '',\n",
       " '**Goal 17: Strengthen the Means of Implementation and Revitalize the Global Partnership**',\n",
       " '',\n",
       " '1. What is the goal of Target 17.1, and how will domestic resource mobilization be strengthened, including through international support to developing countries?',\n",
       " '2. How will developed countries implement their official development assistance commitments, and what is the target for achieving the target of 0.7 per cent of gross national income for official development assistance, as stated in Target 17.2?',\n",
       " '3. What is the goal of Target 17.3, and how will additional financial resources be mobilized for developing countries from multiple sources?',\n",
       " '4. What is the goal of Target 17.6, and how will North-South, South-South, and triangular regional and international cooperation on and access to science, technology, and innovation be enhanced?',\n",
       " '5. What is the goal of Target 17.18, and how will capacity-building support be enhanced to developing countries, including for least developed countries and small island developing States, to increase significantly the availability of high-quality, timely, and reliable data?',\n",
       " '',\n",
       " 'Let me know if these refined questions meet your requirements or if you need further assistance!']"
      ]
     },
     "execution_count": 60,
     "metadata": {},
     "output_type": "execute_result"
    }
   ],
   "source": [
    "ques_list"
   ]
  },
  {
   "cell_type": "code",
   "execution_count": 62,
   "id": "bf8ca884",
   "metadata": {},
   "outputs": [],
   "source": [
    "from langchain.chains import RetrievalQA"
   ]
  },
  {
   "cell_type": "code",
   "execution_count": 68,
   "id": "8f092fcf",
   "metadata": {},
   "outputs": [],
   "source": [
    "answer_generation_chain= RetrievalQA.from_chain_type(\n",
    "    llm=llm_answer_gen,\n",
    "    chain_type=\"stuff\",\n",
    "    retriever=vector_store.as_retriever(search_type=\"similarity\")\n",
    ")"
   ]
  },
  {
   "cell_type": "code",
   "execution_count": 69,
   "id": "1180e997",
   "metadata": {},
   "outputs": [
    {
     "name": "stdout",
     "output_type": "stream",
     "text": [
      "Question: Based on the provided content, I have refined the original questions to better reflect the new context. Here are the refined questions:\n",
      "Answer: You haven't provided any questions yet. Please go ahead and ask your refined questions based on the provided content, and I'll do my best to help.\n",
      "-----------------------------------------------\n",
      "Question: \n",
      "Answer: It looks like you didn't ask a question. Please go ahead and ask your question, and I'll do my best to answer it based on the provided context. If I don't know the answer, I'll let you know that too.\n",
      "-----------------------------------------------\n",
      "Question: **Goal 14: Conserve and Sustainably Use the Oceans, Seas, and Marine Resources**\n",
      "Answer: The targets for Goal 14 are:\n",
      "\n",
      "1. **Target 14.1**: By 2025, prevent and significantly reduce marine pollution of all kinds, in particular from land-based activities, including marine debris and nutrient pollution.\n",
      "2. **Target 14.2**: By 2020, sustainably manage and protect marine and coastal ecosystems to avoid significant adverse impacts, including by strengthening their resilience, and take action for their restoration in order to achieve healthy and productive oceans.\n",
      "3. **Target 14.3**: Minimize and address the impacts of ocean acidification, including through enhanced scientific cooperation at all levels.\n",
      "4. **Target 14.4**: By 2020, effectively regulate harvesting and end overfishing, illegal, unreported and unregulated fishing and destructive fishing practices and implement science-based management plans, in order to restore fish stocks in the shortest time feasible, at least to levels that can produce maximum sustainable yield as determined by their biological characteristics.\n",
      "5. **Target 14.5**: By 2020, conserve at least 10 per cent of coastal and marine areas, consistent with national and international law and based on the best available scientific information.\n",
      "6. **Target 14.6**: By 2020, prohibit certain forms of fisheries subsidies which contribute to overcapacity and overfishing.\n",
      "7. **Target 14.a**: Increase scientific knowledge, develop research capacity and transfer marine technology, taking into account the Intergovernmental Oceanographic Commission Criteria and Guidelines on the Transfer of Marine Technology, in order to improve ocean health and to enhance the contribution of marine biodiversity to the development of developing countries, in particular small island developing States.\n",
      "8. **Target 14.b**: Provide access for small-scale artisanal fishers to marine resources and markets.\n",
      "9. **Target 14.c**: Enhance the conservation and sustainable use of oceans and their resources by implementing international law as reflected in the United Nations Convention on the Law of the Sea.\n",
      "-----------------------------------------------\n",
      "Question: \n",
      "Answer: It seems like you forgot to include your question. Please go ahead and ask, and I'll do my best to answer based on the provided context.\n",
      "-----------------------------------------------\n",
      "Question: 1. By 2025, what is the goal of preventing and significantly reducing marine pollution, and how will it be achieved?\n",
      "Answer: By 2025, the goal is to prevent and significantly reduce marine pollution of all kinds, in particular from land-based activities, including marine debris and nutrient pollution. The text does not specify exactly how this will be achieved, it only mentions the target (Target 14.1) but does not provide details on the methods or actions to be taken to achieve this goal.\n",
      "-----------------------------------------------\n",
      "Question: 2. How will marine and coastal ecosystems be protected and restored, as stated in Target 14.2?\n",
      "Answer: According to Target 14.2, marine and coastal ecosystems will be protected and restored by sustaining their management, avoiding significant adverse impacts, strengthening their resilience, and taking action for their restoration, in order to achieve healthy and productive oceans. This is to be achieved by 2020.\n",
      "-----------------------------------------------\n",
      "Question: 3. What is the goal of Target 14.3, and how will the impacts of ocean acidification be minimized?\n",
      "Answer: The goal of Target 14.3 is to minimize and address the impacts of ocean acidification. According to the text, this will be achieved \"including through enhanced scientific cooperation at all levels\". This implies that international collaboration and sharing of scientific knowledge will play a key role in minimizing the impacts of ocean acidification.\n",
      "-----------------------------------------------\n",
      "Question: 4. By 2020, what is the goal of regulating harvesting and ending overfishing, as stated in Target 14.4?\n",
      "Answer: According to Target 14.4, by 2020, the goal of regulating harvesting and ending overfishing is to restore fish stocks in the shortest time feasible, at least to levels that can produce maximum sustainable yield as determined by their biological characteristics.\n",
      "-----------------------------------------------\n",
      "Question: 5. What is the goal of Target 14.7, and how will the economic benefits to small island developing States and least developed countries from the sustainable use of marine resources be increased?\n",
      "Answer: The goal of Target 14.7 is to increase the economic benefits to small island developing States and least developed countries from the sustainable use of marine resources by 2030. The economic benefits are to be increased through sustainable management of fisheries, aquaculture, and tourism.\n",
      "-----------------------------------------------\n",
      "Question: \n",
      "Answer: It looks like you didn't ask a question. Please go ahead and ask your question, and I'll do my best to answer based on the provided context.\n",
      "-----------------------------------------------\n",
      "Question: **Goal 15: Protect, Restore, and Promote Sustainable Use of Terrestrial Ecosystems**\n",
      "Answer: Goal 15 is focused on protecting, restoring, and promoting the sustainable use of terrestrial ecosystems, including forests, wetlands, mountains, and drylands. The targets under this goal include:\n",
      "\n",
      "1. Conserving and restoring terrestrial and inland freshwater ecosystems by 2020.\n",
      "2. Promoting sustainable management of all types of forests and halting deforestation by 2020.\n",
      "3. Combating desertification and restoring degraded land and soil by 2030.\n",
      "4. Ensuring the conservation of mountain ecosystems by 2030.\n",
      "5. Reducing the degradation of natural habitats and halting biodiversity loss by 2020.\n",
      "6. Promoting fair and equitable sharing of genetic resources.\n",
      "7. Ending poaching and trafficking of protected species.\n",
      "8. Preventing the introduction and impact of invasive alien species by 2020.\n",
      "9. Integrating ecosystem and biodiversity values into national and local planning by 2020.\n",
      "10. Mobilizing financial resources to conserve and sustainably use biodiversity and ecosystems.\n",
      "\n",
      "These targets aim to halt and reverse land degradation, combat desertification, and promote sustainable use of terrestrial ecosystems to achieve a balance between economic, social, and environmental development.\n",
      "-----------------------------------------------\n",
      "Question: \n",
      "Answer: It seems like you forgot to include your question. Please go ahead and ask, and I'll do my best to provide an answer based on the context you provided.\n",
      "-----------------------------------------------\n",
      "Question: 1. By 2020, what is the goal of ensuring the conservation, restoration, and sustainable use of terrestrial and inland freshwater ecosystems, as stated in Target 15.1?\n",
      "Answer: According to Target 15.1, by 2020, the goal is to ensure the conservation, restoration, and sustainable use of terrestrial and inland freshwater ecosystems and their services, in particular forests, wetlands, mountains, and drylands, in line with obligations under international agreements.\n",
      "-----------------------------------------------\n",
      "Question: 2. How will the implementation of sustainable management of all types of forests be promoted, and what is the target for industry's share of employment and gross domestic product by 2020?\n",
      "Answer: The implementation of sustainable management of all types of forests will be promoted by Target 15.2, which aims to promote the implementation of sustainable management of all types of forests, halt deforestation, restore degraded forests and substantially increase afforestation and reforestation globally by 2020.\n",
      "\n",
      "However, I don't know what the target for industry's share of employment and gross domestic product is by 2020, as that information is not provided in the given context.\n",
      "-----------------------------------------------\n",
      "Question: 3. What is the goal of Target 15.3, and how will combat desertification, restore degraded land and soil, and strive to achieve a land degradation-neutral world by 2030?\n",
      "Answer: The goal of Target 15.3 is to combat desertification, restore degraded land and soil, and strive to achieve a land degradation-neutral world by 2030. \n",
      "\n",
      "To achieve this, the target aims to:\n",
      "1. Combat desertification\n",
      "2. Restore degraded land and soil, including land affected by:\n",
      "   - Desertification\n",
      "   - Drought\n",
      "   - Floods\n",
      "3. Strive to achieve a land degradation-neutral world by 2030.\n",
      "\n",
      "The exact methods to achieve these goals are not specified in the provided context.\n",
      "-----------------------------------------------\n",
      "Question: 4. By 2030, what is the goal of ensuring the conservation of mountain ecosystems, including their biodiversity, as stated in Target 15.4?\n",
      "Answer: According to Target 15.4, by 2030, the goal is to ensure the conservation of mountain ecosystems, including their biodiversity, in order to enhance their capacity to provide benefits that are essential for sustainable development.\n",
      "-----------------------------------------------\n",
      "Question: 5. What is the goal of Target 15.5, and how will urgent and significant action be taken to reduce the degradation of natural habitats and halt the loss of biodiversity?\n",
      "Answer: The goal of Target 15.5 is to take urgent and significant action to reduce the degradation of natural habitats, halt the loss of biodiversity, and protect and prevent the extinction of threatened species by 2020.\n",
      "\n",
      "However, the text does not provide specific details on how urgent and significant action will be taken to achieve this goal. It only states the objective of Target 15.5, but does not outline the measures or actions that will be implemented to reduce the degradation of natural habitats and halt the loss of biodiversity.\n",
      "-----------------------------------------------\n",
      "Question: \n",
      "Answer: It looks like you didn't ask a question. Please go ahead and ask your question, and I'll do my best to answer based on the context you provided.\n",
      "-----------------------------------------------\n",
      "Question: **Goal 16: Promote Peaceful and Inclusive Societies**\n",
      "Answer: Goal 16 of the Sustainable Development Goals (SDGs) aims to \"Promote peaceful and inclusive societies for sustainable development, provide access to justice for all and build effective, accountable and inclusive institutions at all levels.\"\n",
      "\n",
      "The targets for Goal 16 include:\n",
      "\n",
      "1. **Target 16.1**: Significantly reduce all forms of violence and related death rates everywhere.\n",
      "2. **Target 16.2**: End abuse, exploitation, trafficking, and all forms of violence against and torture of children.\n",
      "3. **Target 16.3**: Promote the rule of law at the national and international levels and ensure equal access to justice for all.\n",
      "4. **Target 16.4**: By 2030, significantly reduce illicit financial and arms flows, strengthen the recovery and return of stolen assets, and combat all forms of organized crime.\n",
      "5. **Target 16.5**: Substantially reduce corruption and bribery in all their forms.\n",
      "6. **Target 16.6**: Develop effective, accountable, and transparent institutions at all levels.\n",
      "7. **Target 16.7**: Ensure responsive, inclusive, participatory, and representative decision-making at all levels.\n",
      "8. **Target 16.8**: Broaden and strengthen the participation of developing countries in the institutions of global governance.\n",
      "9. **Target 16.9**: By 2030, provide legal identity for all, including birth registration.\n",
      "10. **Target 16.10**: Ensure public access to information and protect fundamental freedoms, in accordance with national legislation and international agreements.\n",
      "11. **Target 16.a**: Strengthen relevant national institutions, including through international cooperation, for building capacity at all levels, in particular in developing countries, to prevent violence and combat terrorism and crime.\n",
      "12. **Target 16.b**: Promote and enforce non-discriminatory laws and policies for sustainable development.\n",
      "\n",
      "These targets aim to promote peaceful and inclusive societies by reducing violence, promoting the rule of law, and ensuring access to justice for all, among other things.\n",
      "-----------------------------------------------\n",
      "Question: \n",
      "Answer: It seems like you didn't ask a question. Please go ahead and ask your question, and I'll do my best to answer it based on the provided context.\n",
      "-----------------------------------------------\n",
      "Question: 1. What is the goal of Target 16.1, and how will all forms of violence and related death rates be significantly reduced everywhere?\n",
      "Answer: The goal of Target 16.1 is to significantly reduce all forms of violence and related death rates everywhere. However, the provided context does not specify how this goal will be achieved. It only states the objective of Target 16.1, which is to reduce violence and related death rates, but it does not provide information on the specific strategies or actions that will be taken to accomplish this goal.\n",
      "-----------------------------------------------\n",
      "Question: 2. How will the rule of law be promoted at the national and international levels, and what is the goal of ensuring equal access to justice for all, as stated in Target 16.3?\n",
      "Answer: According to Target 16.3, the goal is to \"Promote the rule of law at the national and international levels and ensure equal access to justice for all.\" This means that efforts will be made to establish and uphold a fair and just legal system, both within countries and globally, and to ensure that everyone has an equal opportunity to access justice, regardless of their background or circumstances. \n",
      "\n",
      "However, the provided context does not specify how the rule of law will be promoted at the national and international levels. It only states the target, but does not provide details on the implementation or strategies to achieve this goal.\n",
      "-----------------------------------------------\n",
      "Question: 3. By 2030, what is the goal of significantly reducing illicit financial and arms flows, and what is the target for strengthening the recovery and return of stolen assets, as stated in Target 16.4?\n",
      "Answer: According to Target 16.4, by 2030, the goal is to significantly reduce illicit financial and arms flows, and to strengthen the recovery and return of stolen assets, and combat all forms of organized crime. There is no specific quantitative target mentioned for strengthening the recovery and return of stolen assets, the target is simply to \"strengthen\" it.\n",
      "-----------------------------------------------\n",
      "Question: 4. What is the goal of Target 16.5, and how will corruption and bribery be substantially reduced in all their forms?\n",
      "Answer: The goal of Target 16.5 is to substantially reduce corruption and bribery in all their forms. However, the provided context does not specify how corruption and bribery will be substantially reduced in all their forms. It only mentions the target to substantially reduce corruption and bribery, but the methods or strategies to achieve this goal are not mentioned.\n",
      "-----------------------------------------------\n",
      "Question: 5. What is the goal of Target 16.9, and how will legal identity be provided for all, including birth registration, by 2030?\n",
      "Answer: The goal of Target 16.9 is to provide legal identity for all, including birth registration, by 2030. However, the provided context does not specify how legal identity will be provided for all, including birth registration, by 2030. It only mentions the target but does not provide details on the implementation plan or strategies to achieve this goal.\n",
      "-----------------------------------------------\n",
      "Question: \n",
      "Answer: It seems like you forgot to include your question. Please go ahead and ask away, and I'll do my best to answer based on the provided context. If I don't know the answer, I'll let you know that too.\n",
      "-----------------------------------------------\n",
      "Question: **Goal 17: Strengthen the Means of Implementation and Revitalize the Global Partnership**\n",
      "Answer: Goal 17 of the Sustainable Development Goals (SDGs) aims to strengthen the means of implementation and revitalize the global partnership for sustainable development. This goal has several targets, including:\n",
      "\n",
      "1. **Strengthen domestic resource mobilization**: Improve domestic capacity for tax and other revenue collection in developing countries.\n",
      "2. **Implement official development assistance commitments**: Developed countries should fully implement their official development assistance commitments, including achieving the target of 0.7% of gross national income for official development assistance.\n",
      "3. **Mobilize additional financial resources**: Mobilize additional financial resources for developing countries from multiple sources.\n",
      "4. **Promote development, transfer, and dissemination of environmentally sound technologies**: Promote the development, transfer, dissemination, and diffusion of environmentally sound technologies to developing countries on favorable terms.\n",
      "5. **Fully operationalize the technology bank and science, technology, and innovation capacity-building mechanism**: Fully operationalize the technology bank and science, technology, and innovation capacity-building mechanism for least developed countries.\n",
      "6. **Enhance international support for capacity-building**: Enhance international support for implementing effective and targeted capacity-building in developing countries.\n",
      "7. **Promote a universal, rules-based, open, non-discriminatory, and equitable multilateral trading system**: Promote a universal, rules-based, open, non-discriminatory, and equitable multilateral trading system.\n",
      "\n",
      "Other targets under Goal 17 include:\n",
      "\n",
      "* **Target 17.4**: Assist developing countries in attaining long-term debt sustainability through coordinated policies.\n",
      "* **Target 17.5**: Adopt and implement investment promotion regimes for least developed countries.\n",
      "* **Target 17.6**: Enhance North-South, South-South, and triangular regional and international cooperation on and access to science, technology, and innovation.\n",
      "* **Target 17.11**: Increase significantly the exports of developing countries, with a view to doubling the least developed countries' share of global exports by 2020.\n",
      "* **Target 17.12**: Realize timely implementation of duty-free, quota-free market access on a lasting basis for all least developed countries.\n",
      "* **Target 17.13**: Enhance global macroeconomic stability, including through policy coordination and policy coherence.\n",
      "* **Target 17.14**: Enhance policy coherence for sustainable development.\n",
      "* **Target 17.15**: Respect each country's policy space and leadership to establish and implement policies for poverty eradication and sustainable development.\n",
      "* **Target 17.16**: Enhance the Global Partnership for Sustainable Development, complemented by multi-stakeholder partnerships.\n",
      "* **Target 17.17**: Encourage and promote effective public, public-private, and civil society partnerships.\n",
      "* **Target 17.18**: By 2020, enhance capacity-building support to developing countries, including for least developed countries and small island developing States.\n",
      "* **Target 17.19**: By 2030, build on existing initiatives to develop measurements of progress on sustainable development that complement gross domestic product.\n",
      "\n",
      "Overall, Goal 17 aims to strengthen the global partnership for sustainable development, promote international cooperation, and enhance the means of implementation to achieve the SDGs.\n",
      "-----------------------------------------------\n",
      "Question: \n",
      "Answer: It looks like you haven't asked a question yet. Please go ahead and ask your question, and I'll do my best to answer it based on the provided context.\n",
      "-----------------------------------------------\n",
      "Question: 1. What is the goal of Target 17.1, and how will domestic resource mobilization be strengthened, including through international support to developing countries?\n",
      "Answer: The goal of Target 17.1 is to strengthen domestic resource mobilization, including through international support to developing countries, in order to improve domestic capacity for tax and other revenue collection. \n",
      "\n",
      "This will be achieved by strengthening domestic resource mobilization, which includes international support to developing countries, to improve their domestic capacity for tax and other revenue collection.\n",
      "-----------------------------------------------\n",
      "Question: 2. How will developed countries implement their official development assistance commitments, and what is the target for achieving the target of 0.7 per cent of gross national income for official development assistance, as stated in Target 17.2?\n",
      "Answer: According to Target 17.2, developed countries are to implement fully their official development assistance commitments, including the commitment by many developed countries to achieve the target of 0.7 per cent of gross national income for official development assistance (ODA/GNI) to developing countries, and 0.15 to 0.20 per cent of ODA/GNI to least developed countries. However, the text does not specify how developed countries will implement these commitments or by when they aim to achieve the target of 0.7 per cent of gross national income for official development assistance.\n",
      "-----------------------------------------------\n",
      "Question: 3. What is the goal of Target 17.3, and how will additional financial resources be mobilized for developing countries from multiple sources?\n",
      "Answer: The goal of Target 17.3 is to mobilize additional financial resources for developing countries from multiple sources. However, the provided context does not specify how these additional financial resources will be mobilized, it only states that they will be mobilized \"from multiple sources\".\n",
      "-----------------------------------------------\n",
      "Question: 4. What is the goal of Target 17.6, and how will North-South, South-South, and triangular regional and international cooperation on and access to science, technology, and innovation be enhanced?\n",
      "Answer: The goal of Target 17.6 is to enhance North-South, South-South, and triangular regional and international cooperation on and access to science, technology, and innovation. This will be achieved through improved coordination among existing mechanisms, particularly at the United Nations level, and through a global technology facilitation mechanism, with the aim of enhancing knowledge sharing on mutually agreed terms.\n",
      "-----------------------------------------------\n",
      "Question: 5. What is the goal of Target 17.18, and how will capacity-building support be enhanced to developing countries, including for least developed countries and small island developing States, to increase significantly the availability of high-quality, timely, and reliable data?\n",
      "Answer: The goal of Target 17.18 is to enhance capacity-building support to developing countries, including for least developed countries and small island developing States, to increase significantly the availability of high-quality, timely, and reliable data disaggregated by income, gender, age, race, ethnicity, migratory status, disability, geographic location, and other characteristics relevant in national contexts. \n",
      "\n",
      "According to the given context, the goal is to be achieved by 2020. However, the context does not provide specific details on how the capacity-building support will be enhanced. It only mentions the objective of increasing the availability of high-quality data.\n",
      "-----------------------------------------------\n",
      "Question: \n",
      "Answer: It looks like you haven't asked a question yet. Please go ahead and ask your question, and I'll do my best to answer it based on the provided context.\n",
      "-----------------------------------------------\n",
      "Question: Let me know if these refined questions meet your requirements or if you need further assistance!\n",
      "Answer: You haven't asked a question yet. Please go ahead and ask your question, and I'll do my best to answer it based on the provided context. If I don't know the answer, I'll let you know that as well.\n",
      "-----------------------------------------------\n"
     ]
    }
   ],
   "source": [
    "for question in ques_list:\n",
    "    print(\"Question:\",question)\n",
    "    answer=answer_generation_chain.run(question)\n",
    "    print(\"Answer:\",answer)\n",
    "    print(\"-----------------------------------------------\")\n",
    "\n",
    "    with open(\"answers.txt\",\"a\") as f:\n",
    "        f.write(\"Question:\" + question + \"\\\\n\")\n",
    "        f.write(\"Answer:\"+answer+\"\\\\n\")\n",
    "        f.write(\"-----------------------------------------\")"
   ]
  },
  {
   "cell_type": "code",
   "execution_count": null,
   "id": "70666332",
   "metadata": {},
   "outputs": [],
   "source": []
  }
 ],
 "metadata": {
  "kernelspec": {
   "display_name": "LangProj",
   "language": "python",
   "name": "python3"
  },
  "language_info": {
   "codemirror_mode": {
    "name": "ipython",
    "version": 3
   },
   "file_extension": ".py",
   "mimetype": "text/x-python",
   "name": "python",
   "nbconvert_exporter": "python",
   "pygments_lexer": "ipython3",
   "version": "3.10.18"
  }
 },
 "nbformat": 4,
 "nbformat_minor": 5
}
